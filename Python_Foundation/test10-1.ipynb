{
 "cells": [
  {
   "cell_type": "code",
   "execution_count": 1,
   "id": "08d34d55",
   "metadata": {},
   "outputs": [
    {
     "name": "stdout",
     "output_type": "stream",
     "text": [
      "('a', 'b', 'c', 'd', 'e')\n"
     ]
    }
   ],
   "source": [
    "# create tuples\n",
    "\n",
    "t = ('a', 'b', 'c', 'd', 'e')\n",
    "print(t)"
   ]
  },
  {
   "cell_type": "code",
   "execution_count": 2,
   "id": "8f9a06d9",
   "metadata": {},
   "outputs": [
    {
     "name": "stdout",
     "output_type": "stream",
     "text": [
      "(1, 2, 3, 'a', 'b')\n"
     ]
    }
   ],
   "source": [
    "t1 = (1, 2, 3, 'a', 'b')\n",
    "print(t1)"
   ]
  },
  {
   "cell_type": "code",
   "execution_count": 3,
   "id": "4f9b858a",
   "metadata": {},
   "outputs": [
    {
     "name": "stdout",
     "output_type": "stream",
     "text": [
      "('l', 'u', 'p', 'i', 'n', 's')\n"
     ]
    }
   ],
   "source": [
    "# convert string to tuple\n",
    "\n",
    "t = tuple('lupins')\n",
    "print(t)"
   ]
  },
  {
   "cell_type": "code",
   "execution_count": 4,
   "id": "eea9fc30",
   "metadata": {},
   "outputs": [
    {
     "data": {
      "text/plain": [
       "[11, 3, 15, 7, 9]"
      ]
     },
     "execution_count": 4,
     "metadata": {},
     "output_type": "execute_result"
    }
   ],
   "source": [
    "t = (11, 3, 15, 7, 9)\n",
    "list(t)"
   ]
  },
  {
   "cell_type": "code",
   "execution_count": 5,
   "id": "0d2aab53",
   "metadata": {},
   "outputs": [
    {
     "name": "stdout",
     "output_type": "stream",
     "text": [
      "[3, 7, 9, 11, 15]\n"
     ]
    }
   ],
   "source": [
    "y = sorted(t)\n",
    "print(y)"
   ]
  },
  {
   "cell_type": "code",
   "execution_count": 6,
   "id": "9469bb01",
   "metadata": {},
   "outputs": [
    {
     "name": "stdout",
     "output_type": "stream",
     "text": [
      "a\n"
     ]
    }
   ],
   "source": [
    "# modify the element\n",
    "\n",
    "t = ('a', 'b', 'c', 'd', 'e')\n",
    "print(t[0])"
   ]
  },
  {
   "cell_type": "code",
   "execution_count": 7,
   "id": "4e600753",
   "metadata": {},
   "outputs": [
    {
     "ename": "TypeError",
     "evalue": "'tuple' object does not support item assignment",
     "output_type": "error",
     "traceback": [
      "\u001b[0;31m---------------------------------------------------------------------------\u001b[0m",
      "\u001b[0;31mTypeError\u001b[0m                                 Traceback (most recent call last)",
      "Input \u001b[0;32mIn [7]\u001b[0m, in \u001b[0;36m<cell line: 1>\u001b[0;34m()\u001b[0m\n\u001b[0;32m----> 1\u001b[0m t[\u001b[38;5;241m0\u001b[39m] \u001b[38;5;241m=\u001b[39m \u001b[38;5;124m'\u001b[39m\u001b[38;5;124mA\u001b[39m\u001b[38;5;124m'\u001b[39m\n",
      "\u001b[0;31mTypeError\u001b[0m: 'tuple' object does not support item assignment"
     ]
    }
   ],
   "source": [
    "t[0] = 'A'"
   ]
  },
  {
   "cell_type": "code",
   "execution_count": 8,
   "id": "5545e9a8",
   "metadata": {},
   "outputs": [
    {
     "name": "stdout",
     "output_type": "stream",
     "text": [
      "('A', 'b', 'c', 'd', 'e')\n"
     ]
    }
   ],
   "source": [
    "# replace one tuple with another\n",
    "\n",
    "t = ('A',) + t[1:]\n",
    "print(t)"
   ]
  },
  {
   "cell_type": "code",
   "execution_count": 11,
   "id": "fcbdae3b",
   "metadata": {},
   "outputs": [
    {
     "data": {
      "text/plain": [
       "[('a', 0), ('b', 1), ('c', 2)]"
      ]
     },
     "execution_count": 11,
     "metadata": {},
     "output_type": "execute_result"
    }
   ],
   "source": [
    "s = 'abc'\n",
    "t = [0, 1, 2]\n",
    "list(zip(s, t))"
   ]
  },
  {
   "cell_type": "code",
   "execution_count": 12,
   "id": "32f82d53",
   "metadata": {},
   "outputs": [
    {
     "data": {
      "text/plain": [
       "[('A', 'E'), ('n', 'l'), ('n', 'k')]"
      ]
     },
     "execution_count": 12,
     "metadata": {},
     "output_type": "execute_result"
    }
   ],
   "source": [
    "# 2개 문자열의 개수가 다른 경우에는, 작은 개수 기준으로 생성\n",
    "\n",
    "list(zip('Anne', 'Elk'))"
   ]
  },
  {
   "cell_type": "code",
   "execution_count": 13,
   "id": "8a8ddc2f",
   "metadata": {},
   "outputs": [
    {
     "name": "stdout",
     "output_type": "stream",
     "text": [
      "[15, 11, 5, 21, 7]\n"
     ]
    }
   ],
   "source": [
    "# 연습문제1\n",
    "# 아래 함수를 실행하여 돌려 받은 값이 리스트일 때 돌려 받은 리스트를 튜플로 바꾼 후 문자열 \"Kmooc\"과 쌍을 구성하는 리스트로 바꾸기\n",
    "\n",
    "import random\n",
    "\n",
    "def select_item(list, n) :\n",
    "    result = random.sample(list, n)\n",
    "    return result\n",
    "\n",
    "r = select_item([1,3,5,7,11,15,21], 5)\n",
    "print(r)"
   ]
  },
  {
   "cell_type": "code",
   "execution_count": 14,
   "id": "13fb6395",
   "metadata": {},
   "outputs": [
    {
     "name": "stdout",
     "output_type": "stream",
     "text": [
      "(15, 11, 5, 21, 7)\n"
     ]
    }
   ],
   "source": [
    "t = tuple(r)\n",
    "print(t)"
   ]
  },
  {
   "cell_type": "code",
   "execution_count": 15,
   "id": "31696282",
   "metadata": {},
   "outputs": [
    {
     "name": "stdout",
     "output_type": "stream",
     "text": [
      "[(15, 'K'), (11, 'm'), (5, 'o'), (21, 'o'), (7, 'c')]\n"
     ]
    }
   ],
   "source": [
    "t1 = list(zip(r, \"Kmooc\"))\n",
    "print(t1)"
   ]
  },
  {
   "cell_type": "code",
   "execution_count": 16,
   "id": "a86662d0",
   "metadata": {},
   "outputs": [
    {
     "name": "stdout",
     "output_type": "stream",
     "text": [
      "[('a', 0), ('b', 1), ('c', 2), ('d', 3), ('e', 4), ('f', 5), ('g', 6), ('h', 7), ('i', 8), ('j', 9), ('k', 10), ('l', 11), ('m', 12), ('n', 13), ('o', 14), ('p', 15), ('q', 16), ('r', 17), ('s', 18), ('t', 19), ('u', 20), ('v', 21), ('w', 22), ('x', 23), ('y', 24), ('z', 25)]\n"
     ]
    }
   ],
   "source": [
    "# 연습문제2\n",
    "# s = 'abcdefghijklmnopqrstuvwxyz'\n",
    "# Num = [0,1,2,3,4,5,6,7,8,9,10,11,12,13,14,15,16,17,18,19,20,21,22,23,24,25]\n",
    "# 위와 같은 문자열과 리스트가 존재할 경우 서로 다른 2개의 자료형을 일대일로 묶어서 튜플로 구성된 리스트 생성하기\n",
    "\n",
    "s = 'abcdefghijklmnopqrstuvwxyz'\n",
    "Num = [0,1,2,3,4,5,6,7,8,9,10,11,12,13,14,15,16,17,18,19,20,21,22,23,24,25]\n",
    "\n",
    "Tu_SNum = list(zip(s, Num))\n",
    "print(Tu_SNum)"
   ]
  },
  {
   "cell_type": "code",
   "execution_count": 24,
   "id": "a678a5d7",
   "metadata": {},
   "outputs": [
    {
     "name": "stdout",
     "output_type": "stream",
     "text": [
      "[('a', 'm'), ('b', 'r'), ('c', 'h'), ('d', 't'), ('e', 'a'), ('f', 's'), ('g', 'g'), ('h', 'p'), ('i', 'z'), ('j', 'u'), ('k', 'k'), ('l', 'n'), ('m', 'v'), ('n', 'f'), ('o', 'c'), ('p', 'e'), ('q', 'l'), ('r', 'y'), ('s', 'b'), ('t', 'i'), ('u', 'j'), ('v', 'o'), ('w', 'x'), ('x', 'd'), ('y', 'q'), ('z', 'w')]\n"
     ]
    }
   ],
   "source": [
    "# 연습문제3\n",
    "# 암호화\n",
    "# s = 'abcdefghijklmnopqrstuvwxyz'\n",
    "# base_s = []\n",
    "# random.sample(s, 26) 사용하여 순서를 바꾸어 알파벳 26개를 base_s에 저장\n",
    "# zip() 함수를 사용하여 s와 base_s로 튜플로 이루어진 리스트를 생성\n",
    "# 사용자에게 문자열을 입력 받고 각 문자를 튜플의 쌍으로 존재하는 다른 문자로 바꾸어서 출력\n",
    "\n",
    "import random\n",
    "\n",
    "s = 'abcdefghijklmnopqrstuvwxyz'\n",
    "base_s = random.sample(s, 26)\n",
    "password = []\n",
    "password_hint = list(zip(s, base_s))\n",
    "print(password_hint)"
   ]
  },
  {
   "cell_type": "code",
   "execution_count": 25,
   "id": "e89b4e69",
   "metadata": {},
   "outputs": [
    {
     "name": "stdout",
     "output_type": "stream",
     "text": [
      "문자열 입력: djfde\n",
      "['t', 'u', 's', 't', 'a']\n"
     ]
    }
   ],
   "source": [
    "input_str = input(\"문자열 입력: \")\n",
    "for letter in input_str :\n",
    "    for i in range(26) :\n",
    "        if letter == password_hint[i][0] :\n",
    "            password.append(password_hint[i][1])\n",
    "\n",
    "print(password)"
   ]
  }
 ],
 "metadata": {
  "kernelspec": {
   "display_name": "Python 3 (ipykernel)",
   "language": "python",
   "name": "python3"
  },
  "language_info": {
   "codemirror_mode": {
    "name": "ipython",
    "version": 3
   },
   "file_extension": ".py",
   "mimetype": "text/x-python",
   "name": "python",
   "nbconvert_exporter": "python",
   "pygments_lexer": "ipython3",
   "version": "3.9.12"
  }
 },
 "nbformat": 4,
 "nbformat_minor": 5
}
