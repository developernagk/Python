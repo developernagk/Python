{
 "cells": [
  {
   "cell_type": "code",
   "execution_count": 1,
   "id": "d4372cdc",
   "metadata": {},
   "outputs": [],
   "source": [
    "# 정의하기\n",
    "\n",
    "days = {'Sun':'Sunday', 'Mon':'Monday', 'Tue':'Tuesday', 'Wed':'Wednesday', 'Thu':'Thursday', 'Fri':'Friday', 'Sat':'Saturday'}"
   ]
  },
  {
   "cell_type": "code",
   "execution_count": 2,
   "id": "ae819336",
   "metadata": {},
   "outputs": [
    {
     "data": {
      "text/plain": [
       "'Sunday'"
      ]
     },
     "execution_count": 2,
     "metadata": {},
     "output_type": "execute_result"
    }
   ],
   "source": [
    "days['Sun']"
   ]
  },
  {
   "cell_type": "code",
   "execution_count": 3,
   "id": "171e974f",
   "metadata": {},
   "outputs": [
    {
     "data": {
      "text/plain": [
       "'Friday'"
      ]
     },
     "execution_count": 3,
     "metadata": {},
     "output_type": "execute_result"
    }
   ],
   "source": [
    "days['Fri']"
   ]
  },
  {
   "cell_type": "code",
   "execution_count": 4,
   "id": "41b51d4d",
   "metadata": {},
   "outputs": [
    {
     "name": "stdout",
     "output_type": "stream",
     "text": [
      "{}\n"
     ]
    }
   ],
   "source": [
    "# create dictionary\n",
    "\n",
    "eng2sp = dict()\n",
    "print(eng2sp)"
   ]
  },
  {
   "cell_type": "code",
   "execution_count": 6,
   "id": "e0cc444c",
   "metadata": {},
   "outputs": [
    {
     "name": "stdout",
     "output_type": "stream",
     "text": [
      "{'one': 'uno'}\n"
     ]
    }
   ],
   "source": [
    "eng2sp['one'] = 'uno'\n",
    "print(eng2sp)"
   ]
  },
  {
   "cell_type": "code",
   "execution_count": 7,
   "id": "19ff218d",
   "metadata": {},
   "outputs": [
    {
     "data": {
      "text/plain": [
       "6"
      ]
     },
     "execution_count": 7,
     "metadata": {},
     "output_type": "execute_result"
    }
   ],
   "source": [
    "# 국가명과 국제전화 코드를 사전형으로 정의\n",
    "\n",
    "country_code = {1:\"미국\", 20:\"이집트\", 30:\"그리스\", 39:\"이태리\", 81:\"일본\", 82:\"한국\"}\n",
    "len(country_code)"
   ]
  },
  {
   "cell_type": "code",
   "execution_count": 8,
   "id": "6ece001f",
   "metadata": {},
   "outputs": [
    {
     "data": {
      "text/plain": [
       "'그리스'"
      ]
     },
     "execution_count": 8,
     "metadata": {},
     "output_type": "execute_result"
    }
   ],
   "source": [
    "country_code[30]"
   ]
  },
  {
   "cell_type": "code",
   "execution_count": 9,
   "id": "6bcabff4",
   "metadata": {},
   "outputs": [
    {
     "data": {
      "text/plain": [
       "'한국'"
      ]
     },
     "execution_count": 9,
     "metadata": {},
     "output_type": "execute_result"
    }
   ],
   "source": [
    "country_code[82]"
   ]
  },
  {
   "cell_type": "code",
   "execution_count": 10,
   "id": "e83cc195",
   "metadata": {},
   "outputs": [
    {
     "data": {
      "text/plain": [
       "True"
      ]
     },
     "execution_count": 10,
     "metadata": {},
     "output_type": "execute_result"
    }
   ],
   "source": [
    "82 in country_code"
   ]
  },
  {
   "cell_type": "code",
   "execution_count": 11,
   "id": "f91f5aa0",
   "metadata": {},
   "outputs": [
    {
     "data": {
      "text/plain": [
       "False"
      ]
     },
     "execution_count": 11,
     "metadata": {},
     "output_type": "execute_result"
    }
   ],
   "source": [
    "60 in country_code"
   ]
  },
  {
   "cell_type": "code",
   "execution_count": 12,
   "id": "0538bb18",
   "metadata": {},
   "outputs": [
    {
     "data": {
      "text/plain": [
       "True"
      ]
     },
     "execution_count": 12,
     "metadata": {},
     "output_type": "execute_result"
    }
   ],
   "source": [
    "country_code[60] = \"말레지아\" # append an item\n",
    "60 in country_code"
   ]
  },
  {
   "cell_type": "code",
   "execution_count": 14,
   "id": "c29b1287",
   "metadata": {},
   "outputs": [
    {
     "data": {
      "text/plain": [
       "'일본'"
      ]
     },
     "execution_count": 14,
     "metadata": {},
     "output_type": "execute_result"
    }
   ],
   "source": [
    "country_code.pop(81) # delete an item"
   ]
  },
  {
   "cell_type": "code",
   "execution_count": 15,
   "id": "f24297d4",
   "metadata": {},
   "outputs": [
    {
     "data": {
      "text/plain": [
       "False"
      ]
     },
     "execution_count": 15,
     "metadata": {},
     "output_type": "execute_result"
    }
   ],
   "source": [
    "81 in country_code"
   ]
  },
  {
   "cell_type": "code",
   "execution_count": 17,
   "id": "7ed74687",
   "metadata": {},
   "outputs": [],
   "source": [
    "# 사전형 city 값을 읽어내기\n",
    "\n",
    "city = {\"New York City\":875133, \"Los Angeles\":3792621, \"Washington\":632323, \"Chicago\":2695598, \"Toronto\":2615060, \"Montreal\":11854442, \"Ottawa\":883391, \"Boston\":62600}"
   ]
  },
  {
   "cell_type": "code",
   "execution_count": 18,
   "id": "3f2764da",
   "metadata": {},
   "outputs": [
    {
     "data": {
      "text/plain": [
       "2615060"
      ]
     },
     "execution_count": 18,
     "metadata": {},
     "output_type": "execute_result"
    }
   ],
   "source": [
    "city[\"Toronto\"]"
   ]
  },
  {
   "cell_type": "code",
   "execution_count": 19,
   "id": "557fc415",
   "metadata": {},
   "outputs": [
    {
     "data": {
      "text/plain": [
       "62600"
      ]
     },
     "execution_count": 19,
     "metadata": {},
     "output_type": "execute_result"
    }
   ],
   "source": [
    "city[\"Boston\"]"
   ]
  },
  {
   "cell_type": "code",
   "execution_count": 20,
   "id": "6e217676",
   "metadata": {},
   "outputs": [
    {
     "data": {
      "text/plain": [
       "{'ham': 'yes', 'egg': 'yes', 'spam': 'no'}"
      ]
     },
     "execution_count": 20,
     "metadata": {},
     "output_type": "execute_result"
    }
   ],
   "source": [
    "# 사전형 food 아이템 추가하기\n",
    "\n",
    "food = {\"ham\":\"yes\", \"egg\":\"yes\", \"spam\":\"no\"}\n",
    "food"
   ]
  },
  {
   "cell_type": "code",
   "execution_count": 21,
   "id": "431535bf",
   "metadata": {},
   "outputs": [
    {
     "data": {
      "text/plain": [
       "{'ham': 'yes', 'egg': 'yes', 'spam': 'yes'}"
      ]
     },
     "execution_count": 21,
     "metadata": {},
     "output_type": "execute_result"
    }
   ],
   "source": [
    "food[\"spam\"] = \"yes\"\n",
    "food"
   ]
  },
  {
   "cell_type": "code",
   "execution_count": 22,
   "id": "d77470dd",
   "metadata": {},
   "outputs": [],
   "source": [
    "# 연습문제 1\n",
    "# 아이템이 없는 사전형 birthdate를 정의함\n",
    "# 사용자에게 이름과 생일을 입력 받아서 사전형 birthdate에 추가함\n",
    "# 5명의 이름과 생일을 입력 받아서 추가하 후, 추가한 내용을 화면에 출력함\n",
    "# 특정한 한 사람의 이름을 입력 받아서, 생일을 화면에 출력함"
   ]
  },
  {
   "cell_type": "code",
   "execution_count": 24,
   "id": "531a8c96",
   "metadata": {},
   "outputs": [
    {
     "name": "stdout",
     "output_type": "stream",
     "text": [
      "이름: 나경\n",
      "생일: 0907\n",
      "이름: 현서\n",
      "생일: 0216\n",
      "이름: 지영\n",
      "생일: 0808\n",
      "이름: 진상\n",
      "생일: 0319\n",
      "이름: 승곤\n",
      "생일: 1202\n",
      "{'나경': 907, '현서': 216, '지영': 808, '진상': 319, '승곤': 1202}\n"
     ]
    }
   ],
   "source": [
    "birthdate = {}\n",
    "def add_birth(num):\n",
    "    for i in range(num):\n",
    "        input_name = input(\"이름: \")\n",
    "        input_birth = int(input(\"생일: \"))\n",
    "        birthdate[input_name] = input_birth\n",
    "        \n",
    "add_birth(5)\n",
    "print(birthdate)"
   ]
  },
  {
   "cell_type": "code",
   "execution_count": 25,
   "id": "4a532297",
   "metadata": {},
   "outputs": [
    {
     "name": "stdout",
     "output_type": "stream",
     "text": [
      "생일을 찾고 싶은 사람의 이름을 입력하세요: 나경\n",
      "907\n"
     ]
    }
   ],
   "source": [
    "name = input(\"생일을 찾고 싶은 사람의 이름을 입력하세요: \")\n",
    "print(birthdate[name])"
   ]
  },
  {
   "cell_type": "code",
   "execution_count": null,
   "id": "cdc5936c",
   "metadata": {},
   "outputs": [],
   "source": [
    "# 연습문제 2\n",
    "# 연습문제 1에서 생성한 dictionary 사용함\n",
    "# 입력 받은 사람의 자료를 삭제함\n",
    "# 삭제 후 in을 사용하여 삭제 여부를 확인함"
   ]
  },
  {
   "cell_type": "code",
   "execution_count": 26,
   "id": "b10b64bd",
   "metadata": {},
   "outputs": [
    {
     "name": "stdout",
     "output_type": "stream",
     "text": [
      "생일을 삭제하고 싶은 사람의 이름을 입력하세요: 진상\n",
      "False\n",
      "{'나경': 907, '현서': 216, '지영': 808, '승곤': 1202}\n"
     ]
    }
   ],
   "source": [
    "name = input(\"생일을 삭제하고 싶은 사람의 이름을 입력하세요: \")\n",
    "birthdate.pop(name)\n",
    "print(name in birthdate)\n",
    "print(birthdate)"
   ]
  },
  {
   "cell_type": "code",
   "execution_count": 27,
   "id": "a9944687",
   "metadata": {},
   "outputs": [
    {
     "data": {
      "text/plain": [
       "dict_items([('a', 0), ('b', 1), ('c', 2)])"
      ]
     },
     "execution_count": 27,
     "metadata": {},
     "output_type": "execute_result"
    }
   ],
   "source": [
    "# items()\n",
    "d = {'a':0, 'b':1, 'c':2} # create dictionary\n",
    "t = d.items()\n",
    "t # create a list contains tuples"
   ]
  },
  {
   "cell_type": "code",
   "execution_count": 28,
   "id": "f7d0ee1b",
   "metadata": {},
   "outputs": [
    {
     "data": {
      "text/plain": [
       "'dos'"
      ]
     },
     "execution_count": 28,
     "metadata": {},
     "output_type": "execute_result"
    }
   ],
   "source": [
    "sp = {'one':'uno', 'two':'dos', 'three':'tres'}\n",
    "sp.get('two')"
   ]
  },
  {
   "cell_type": "code",
   "execution_count": 29,
   "id": "2a8c2245",
   "metadata": {},
   "outputs": [
    {
     "data": {
      "text/plain": [
       "'uno'"
      ]
     },
     "execution_count": 29,
     "metadata": {},
     "output_type": "execute_result"
    }
   ],
   "source": [
    "sp['one']"
   ]
  },
  {
   "cell_type": "code",
   "execution_count": 30,
   "id": "970dd340",
   "metadata": {},
   "outputs": [
    {
     "data": {
      "text/plain": [
       "dict_keys(['one', 'two', 'three'])"
      ]
     },
     "execution_count": 30,
     "metadata": {},
     "output_type": "execute_result"
    }
   ],
   "source": [
    "sp.keys()"
   ]
  }
 ],
 "metadata": {
  "kernelspec": {
   "display_name": "Python 3 (ipykernel)",
   "language": "python",
   "name": "python3"
  },
  "language_info": {
   "codemirror_mode": {
    "name": "ipython",
    "version": 3
   },
   "file_extension": ".py",
   "mimetype": "text/x-python",
   "name": "python",
   "nbconvert_exporter": "python",
   "pygments_lexer": "ipython3",
   "version": "3.9.12"
  }
 },
 "nbformat": 4,
 "nbformat_minor": 5
}
