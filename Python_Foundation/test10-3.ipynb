{
 "cells": [
  {
   "cell_type": "code",
   "execution_count": 1,
   "id": "e03e31d5",
   "metadata": {},
   "outputs": [
    {
     "data": {
      "text/plain": [
       "'dos'"
      ]
     },
     "execution_count": 1,
     "metadata": {},
     "output_type": "execute_result"
    }
   ],
   "source": [
    "sp = {'one':'uno', 'two':'dos', 'three':'tres'}\n",
    "sp.get('two')"
   ]
  },
  {
   "cell_type": "code",
   "execution_count": 2,
   "id": "866fc105",
   "metadata": {},
   "outputs": [
    {
     "data": {
      "text/plain": [
       "'uno'"
      ]
     },
     "execution_count": 2,
     "metadata": {},
     "output_type": "execute_result"
    }
   ],
   "source": [
    "sp['one']"
   ]
  },
  {
   "cell_type": "code",
   "execution_count": 3,
   "id": "e55dc8be",
   "metadata": {},
   "outputs": [
    {
     "data": {
      "text/plain": [
       "dict_keys(['one', 'two', 'three'])"
      ]
     },
     "execution_count": 3,
     "metadata": {},
     "output_type": "execute_result"
    }
   ],
   "source": [
    "sp.keys()"
   ]
  },
  {
   "cell_type": "code",
   "execution_count": 4,
   "id": "4b224186",
   "metadata": {},
   "outputs": [
    {
     "data": {
      "text/plain": [
       "'uno'"
      ]
     },
     "execution_count": 4,
     "metadata": {},
     "output_type": "execute_result"
    }
   ],
   "source": [
    "sp.pop('one')"
   ]
  },
  {
   "cell_type": "code",
   "execution_count": 5,
   "id": "681a113e",
   "metadata": {},
   "outputs": [
    {
     "data": {
      "text/plain": [
       "{'two': 'dos', 'three': 'tres'}"
      ]
     },
     "execution_count": 5,
     "metadata": {},
     "output_type": "execute_result"
    }
   ],
   "source": [
    "sp"
   ]
  },
  {
   "cell_type": "code",
   "execution_count": 6,
   "id": "f51dfcaf",
   "metadata": {},
   "outputs": [
    {
     "data": {
      "text/plain": [
       "dict_values(['dos', 'tres'])"
      ]
     },
     "execution_count": 6,
     "metadata": {},
     "output_type": "execute_result"
    }
   ],
   "source": [
    "sp.values()"
   ]
  },
  {
   "cell_type": "code",
   "execution_count": 7,
   "id": "40d5335c",
   "metadata": {},
   "outputs": [],
   "source": [
    "sp = {'one':'uno', 'two':' dos', 'three':'tres'}\n",
    "birthdate = {'kmkim':224, 'sjkang':512, 'kdhong':1212, 'yschoi':409, 'hjkim':1103}"
   ]
  },
  {
   "cell_type": "code",
   "execution_count": 8,
   "id": "849d5fe9",
   "metadata": {},
   "outputs": [],
   "source": [
    "sp.update(birthdate)"
   ]
  },
  {
   "cell_type": "code",
   "execution_count": 9,
   "id": "9977ef1a",
   "metadata": {},
   "outputs": [
    {
     "data": {
      "text/plain": [
       "{'one': 'uno',\n",
       " 'two': ' dos',\n",
       " 'three': 'tres',\n",
       " 'kmkim': 224,\n",
       " 'sjkang': 512,\n",
       " 'kdhong': 1212,\n",
       " 'yschoi': 409,\n",
       " 'hjkim': 1103}"
      ]
     },
     "execution_count": 9,
     "metadata": {},
     "output_type": "execute_result"
    }
   ],
   "source": [
    "sp"
   ]
  },
  {
   "cell_type": "code",
   "execution_count": 10,
   "id": "75cc187a",
   "metadata": {},
   "outputs": [
    {
     "data": {
      "text/plain": [
       "{'kmkim': 224, 'sjkang': 512, 'kdhong': 1212, 'yschoi': 409, 'hjkim': 1103}"
      ]
     },
     "execution_count": 10,
     "metadata": {},
     "output_type": "execute_result"
    }
   ],
   "source": [
    "birthdate"
   ]
  },
  {
   "cell_type": "code",
   "execution_count": 11,
   "id": "a8b0d3a5",
   "metadata": {},
   "outputs": [
    {
     "data": {
      "text/plain": [
       "{'a': 0, 'c': 2, 'b': 1}"
      ]
     },
     "execution_count": 11,
     "metadata": {},
     "output_type": "execute_result"
    }
   ],
   "source": [
    "# 튜플로 구성된 리스트를 딕셔너리로 바꾸는 dict\n",
    "t = [('a', 0), ('c', 2), ('b', 1)]\n",
    "d = dict(t)\n",
    "d"
   ]
  },
  {
   "cell_type": "code",
   "execution_count": 12,
   "id": "e67ec226",
   "metadata": {},
   "outputs": [
    {
     "data": {
      "text/plain": [
       "{'a': 0, 'b': 1, 'c': 2}"
      ]
     },
     "execution_count": 12,
     "metadata": {},
     "output_type": "execute_result"
    }
   ],
   "source": [
    "d = dict(zip('abc', range(3)))\n",
    "d"
   ]
  },
  {
   "cell_type": "code",
   "execution_count": 13,
   "id": "5dcd7fca",
   "metadata": {},
   "outputs": [
    {
     "data": {
      "text/plain": [
       "['uno', 1]"
      ]
     },
     "execution_count": 13,
     "metadata": {},
     "output_type": "execute_result"
    }
   ],
   "source": [
    "sp = {'one':['uno', 1], 'two':['dos', 2], 'three':['tres', 3]}\n",
    "sp['one']"
   ]
  },
  {
   "cell_type": "code",
   "execution_count": 14,
   "id": "0063ea84",
   "metadata": {},
   "outputs": [
    {
     "data": {
      "text/plain": [
       "dict_values([['uno', 1], ['dos', 2], ['tres', 3]])"
      ]
     },
     "execution_count": 14,
     "metadata": {},
     "output_type": "execute_result"
    }
   ],
   "source": [
    "sp.values()"
   ]
  },
  {
   "cell_type": "code",
   "execution_count": 15,
   "id": "42fc9251",
   "metadata": {},
   "outputs": [
    {
     "data": {
      "text/plain": [
       "dict_keys(['one', 'two', 'three'])"
      ]
     },
     "execution_count": 15,
     "metadata": {},
     "output_type": "execute_result"
    }
   ],
   "source": [
    "sp.keys()"
   ]
  },
  {
   "cell_type": "code",
   "execution_count": 16,
   "id": "f3663aa1",
   "metadata": {},
   "outputs": [
    {
     "data": {
      "text/plain": [
       "{'one': ['uno', 1], 'two': ['dos', 2], 'three': ['tres', 3]}"
      ]
     },
     "execution_count": 16,
     "metadata": {},
     "output_type": "execute_result"
    }
   ],
   "source": [
    "sp"
   ]
  },
  {
   "cell_type": "code",
   "execution_count": 17,
   "id": "9c0f0b51",
   "metadata": {},
   "outputs": [
    {
     "name": "stdout",
     "output_type": "stream",
     "text": [
      "1\n",
      "이름: 나경\n",
      "전화번호: 01047837434\n",
      "2\n",
      "이름: 정후\n",
      "전화번호: 01038593829\n",
      "3\n",
      "이름: 승민\n",
      "전화번호: 01038592211\n",
      "4\n",
      "이름: 준용\n",
      "전화번호: 01047691856\n",
      "5\n",
      "이름: 건우\n",
      "전화번호: 01039574938\n",
      "dict_keys(['나경', '정후', '승민', '준용', '건우'])\n",
      "dict_values([1047837434, 1038593829, 1038592211, 1047691856, 1039574938])\n"
     ]
    }
   ],
   "source": [
    "# 연습문제 1\n",
    "# 친구 이름과 전화번호로 구성된 사전형 phone을 구성\n",
    "# 아이템 추가로 5명의 자료를 입력, 이때 입력은 함수로 구성\n",
    "# 입력된 자료의 index만 모두 출력\n",
    "# 입력된 자료의 값들만 모두 출력\n",
    "\n",
    "phone = {}\n",
    "\n",
    "def add_phonenumber(n):\n",
    "    for i in range(n):\n",
    "        print(i+1)\n",
    "        index = input('이름: ')\n",
    "        phonenumber = int(input('전화번호: '))\n",
    "        phone[index] = phonenumber\n",
    "        \n",
    "add_phonenumber(5)\n",
    "\n",
    "print(phone.keys())\n",
    "print(phone.values())"
   ]
  },
  {
   "cell_type": "code",
   "execution_count": null,
   "id": "4e30e7c7",
   "metadata": {},
   "outputs": [],
   "source": [
    "# 연습문제 2\n",
    "# 교사명과 담당교과목명을 사전형으로 구성함\n",
    "# '김경미' '수학', '과학'\n",
    "# '최영희' '영어', '수학'\n",
    "# '강동원' '영어'\n",
    "# '정필수' '사회', '역사'\n",
    "# '박희수' '국어'\n",
    "# '이승철' '수학', '과학'\n",
    "# 교사명을 입력하면 담당 교과목명을 출력함"
   ]
  },
  {
   "cell_type": "code",
   "execution_count": 18,
   "id": "89176690",
   "metadata": {},
   "outputs": [
    {
     "name": "stdout",
     "output_type": "stream",
     "text": [
      "담당교사명을 입력하시오: 강동원\n",
      "영어\n"
     ]
    }
   ],
   "source": [
    "Subjects = {'김경미':['수학', '과학'], '최영희':['영어', '수학'], '강동원':'영어', '정필수':['사회', '역사'], '박희수':'국어', '이승철':['수학', '과학']}\n",
    "lec = input('담당교사명을 입력하시오: ')\n",
    "print(Subjects[lec])"
   ]
  },
  {
   "cell_type": "code",
   "execution_count": null,
   "id": "8245d802",
   "metadata": {},
   "outputs": [],
   "source": [
    "# 연습문제 3\n",
    "# 연습문제 2와 같은 딕셔너리를 사용함\n",
    "# 교사명과 담당교과목명을 사전형으로 구성함(위와 동일)\n",
    "# 담당교과목명을 입력하면 교사명을 출력함\n",
    "# 담당교과목을 여려 명의 교사가 강의하는 경우, 모든 교사명을 다 출력함"
   ]
  },
  {
   "cell_type": "code",
   "execution_count": 19,
   "id": "ea20be64",
   "metadata": {},
   "outputs": [
    {
     "name": "stdout",
     "output_type": "stream",
     "text": [
      "과목을 입력하시오: 수학\n",
      "['김경미', '최영희', '이승철']\n"
     ]
    }
   ],
   "source": [
    "def find_teacher(sub):\n",
    "    Subjects = {'김경미':['수학', '과학'], '최영희':['영어', '수학'], '강동원':'영어', '정필수':['사회', '역사'], '박희수':'국어', '이승철':['수학', '과학']}\n",
    "\n",
    "    teacher = []\n",
    "    for key in Subjects.keys(): # 주요하게 볼 부분\n",
    "        if sub in Subjects[key]:\n",
    "            teacher.append(key)\n",
    "            \n",
    "    return teacher\n",
    "\n",
    "sub = input('과목을 입력하시오: ')\n",
    "print(find_teacher(sub))"
   ]
  }
 ],
 "metadata": {
  "kernelspec": {
   "display_name": "Python 3 (ipykernel)",
   "language": "python",
   "name": "python3"
  },
  "language_info": {
   "codemirror_mode": {
    "name": "ipython",
    "version": 3
   },
   "file_extension": ".py",
   "mimetype": "text/x-python",
   "name": "python",
   "nbconvert_exporter": "python",
   "pygments_lexer": "ipython3",
   "version": "3.9.12"
  }
 },
 "nbformat": 4,
 "nbformat_minor": 5
}
