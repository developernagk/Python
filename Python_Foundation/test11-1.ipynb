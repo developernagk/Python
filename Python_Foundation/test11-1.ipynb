{
 "cells": [
  {
   "cell_type": "code",
   "execution_count": null,
   "id": "b4e36522",
   "metadata": {},
   "outputs": [],
   "source": [
    "# Opening a file\n",
    "\n",
    "infile = open(‘daata.txt’, ‘r’)"
   ]
  },
  {
   "cell_type": "code",
   "execution_count": null,
   "id": "4d05ac7b",
   "metadata": {},
   "outputs": [],
   "source": [
    "# n개의 글자 읽기(메모에 사진 참고)\n",
    "\n",
    "inf open(‘poem.txt’, ‘r’)\n",
    "\n",
    "s = inf.read(7)\n",
    "\n",
    "print(‘read(7) = ‘, s)"
   ]
  },
  {
   "cell_type": "code",
   "execution_count": null,
   "id": "0eee4194",
   "metadata": {},
   "outputs": [],
   "source": [
    "# n개의 글자 읽기\n",
    "# 이어서 파일의 끝까지 읽기\n",
    "\n",
    "inf = open(‘poem.txt’, ‘r’)\n",
    "\n",
    "s = inf.read(7)\n",
    "print(‘read(7) = ‘, s)\n",
    "\n",
    "s = inf.read()\n",
    "print(‘read() = ‘, s)\n",
    "\n",
    "inf = open(‘poem.txt’, ‘r’)"
   ]
  },
  {
   "cell_type": "code",
   "execution_count": null,
   "id": "b5502736",
   "metadata": {},
   "outputs": [],
   "source": [
    "# 한 줄 읽기\n",
    "\n",
    "s = inf.readline()\n",
    "print(‘readline() = ‘, s)"
   ]
  },
  {
   "cell_type": "code",
   "execution_count": null,
   "id": "8d98f248",
   "metadata": {},
   "outputs": [],
   "source": [
    "# 이어서 끝까지 여러 줄 읽기\n",
    "\n",
    "sm = inf.readlines()\n",
    "print(‘readlines() = ‘, sm)"
   ]
  },
  {
   "cell_type": "code",
   "execution_count": null,
   "id": "67abb4ab",
   "metadata": {},
   "outputs": [],
   "source": [
    "# 끝까지 여러 줄 읽기\n",
    "\n",
    "sm = inf.readlines()\n",
    "\n",
    "for i in range(len(sm)):\n",
    "    print(sm[i])"
   ]
  },
  {
   "cell_type": "code",
   "execution_count": null,
   "id": "dce05eab",
   "metadata": {},
   "outputs": [],
   "source": [
    "# 'number.txt'의 경우(메모에 사진 참고)\n",
    "\n",
    "inf = open(‘number.txt’, ‘r’)"
   ]
  },
  {
   "cell_type": "code",
   "execution_count": null,
   "id": "ee69593e",
   "metadata": {},
   "outputs": [],
   "source": [
    " # 읽은 데이터를 합하기, 데이터형은 문자열\n",
    "    \n",
    "s = inf.readlines()\n",
    "print(‘readlines() = ‘, s)\n",
    "\n",
    "sum = 0\n",
    "for i in range(len(s)):\n",
    "    print(s[i])\n",
    "    sum = sum + int(s[i])\n",
    "\n",
    "print(sum)"
   ]
  },
  {
   "cell_type": "code",
   "execution_count": null,
   "id": "552e2156",
   "metadata": {},
   "outputs": [],
   "source": [
    "# 연습문제 1\n",
    "# 'number.txt'를 읽어서 합계와 평균 구하기\n",
    "\n",
    "inf = open('number.txt')\n",
    "s = inf.readlines()\n",
    "total = 0\n",
    "mean = 0\n",
    "\n",
    "for i in range(lens(s)):\n",
    "    total = total + int(s[i])\n",
    "    \n",
    "mean = total / len(s)\n",
    "print('Number list = ', s, '\\nTotal = ', total, '\\nMean = ', round(mean,2))"
   ]
  }
 ],
 "metadata": {
  "kernelspec": {
   "display_name": "Python 3 (ipykernel)",
   "language": "python",
   "name": "python3"
  },
  "language_info": {
   "codemirror_mode": {
    "name": "ipython",
    "version": 3
   },
   "file_extension": ".py",
   "mimetype": "text/x-python",
   "name": "python",
   "nbconvert_exporter": "python",
   "pygments_lexer": "ipython3",
   "version": "3.9.12"
  }
 },
 "nbformat": 4,
 "nbformat_minor": 5
}
