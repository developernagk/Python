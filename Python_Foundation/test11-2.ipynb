{
 "cells": [
  {
   "cell_type": "code",
   "execution_count": null,
   "id": "7647e7fa",
   "metadata": {},
   "outputs": [],
   "source": [
    "# .split() method\n",
    "\n",
    "inf = open(‘poem.txt’, ‘r’)\n",
    "\n",
    "s = inf.readline()\n",
    "print(‘readline() = ‘, s)\n",
    "\n",
    "slist = s.split()\n",
    "print(slist)\n",
    "print(slist[0])\n",
    "print(slist[3])\n",
    "\n",
    "inf.close()"
   ]
  },
  {
   "cell_type": "code",
   "execution_count": null,
   "id": "ecad1564",
   "metadata": {},
   "outputs": [],
   "source": [
    "# 'number2.txt' 저장 내용이 한 줄에 여러 숫자가 입력 되어 있는 경우\n",
    "# 2056 123 67 31 999 1024 5 255 47246\n",
    "\n",
    "inf = open(‘number2.txt’, ‘r’)\n",
    "\n",
    "n = inf.readline()\n",
    "print(‘readline() = ‘, n)\n",
    "\n",
    "nlist = n.split()\n",
    "print(nlist)\n",
    "print(nlist[0])\n",
    "print(int(nlist[0]))"
   ]
  },
  {
   "cell_type": "code",
   "execution_count": null,
   "id": "69ec9d04",
   "metadata": {},
   "outputs": [],
   "source": [
    "# .strip() method\n",
    "\n",
    "s = “ this is string, strip function example…!! “\n",
    "s.strip(“ ”)"
   ]
  },
  {
   "cell_type": "code",
   "execution_count": null,
   "id": "48331655",
   "metadata": {},
   "outputs": [],
   "source": [
    "s = “@@@@@this is string, strip function example…!!@@”\n",
    "s.strip(“@”)"
   ]
  },
  {
   "cell_type": "code",
   "execution_count": null,
   "id": "b8a81fe4",
   "metadata": {},
   "outputs": [],
   "source": [
    "# 연습문제 1\n",
    "# 자료를 읽어서 문자열에 저장하면\n",
    "# sm = ['2056, 24, 5, 123, 51\\n', '123, 67, 24, 1024, 31\\n', '67, 2056, 24, 5, 123\\n', '31, 24, 1024, 31, 1\\n', '999, 67, 2056, 24, 5\\n', '1024, 67, 24, 1024, 31\\n', '5, 99, 67, 2056, 21\\n', '255, 256, 24, 5, 123\\n', '446, 31, 24, 1024, 31\\n']\n",
    "# sm[0] = '2056, 24, 5, 123, 51\\n' 등등\n",
    "# sm[0], sm[1], ... sm[8]을 각각 하나의 문자열로 인식하여 그 내용의 평균을 구함\n",
    "\n",
    "inf = open('num2.txt', 'r')\n",
    "sm = inf.readlines()\n",
    "print(\"모든 데이터 = \", sm)\n",
    "\n",
    "for i in range(len(sm)):\n",
    "    s = sm[i].split(\",\") ## \",\" 중요\n",
    "    print(s)\n",
    "    \n",
    "    sum = 0\n",
    "    for j in range(len(s)):\n",
    "        sum = sum + int(s[j])\n",
    "        \n",
    "    print(\"평균 = \", sum/len(s[j]))\n",
    "    print()\n",
    "    \n",
    "inf.close()"
   ]
  },
  {
   "cell_type": "code",
   "execution_count": null,
   "id": "21ec2788",
   "metadata": {},
   "outputs": [],
   "source": [
    "# 연습문제 2\n",
    "# 각 단어로 구성된 리스트 생성(메모 참고)\n",
    "\n",
    "inf = open('poem_sp.txt', 'r')\n",
    "sm = inf.readlines()\n",
    "\n",
    "for i in range(len(sm)):\n",
    "    s = sm[i].strip(\" \")\n",
    "    slist = s.split()\n",
    "    print(slist)\n",
    "    \n",
    "inf.close()"
   ]
  },
  {
   "cell_type": "code",
   "execution_count": null,
   "id": "6bdc899a",
   "metadata": {},
   "outputs": [],
   "source": [
    "# 연습문제 3\n",
    "# 파일 'poem.txt'를 읽어서 매 줄마다 몇 개의 word가 존재하는지 세서, 리스트 wordNumList에 저장\n",
    "# 결과는 wordNumList = [6,5,4, ...., 4]로 나타남\n",
    "# 심화 학습으로는 줄 수를 읽고 파일을 닫고 다시 파일을 열어서 세는 방법이 있음\n",
    "\n",
    "inf = open('poem.txt', 'r')\n",
    "NumWord = []\n",
    "\n",
    "for i in range(9):\n",
    "    fline = inf.readline()\n",
    "    flist = fline.split()\n",
    "    NumWord.append(len(flist))\n",
    "    \n",
    "print(NumWord)\n",
    "\n",
    "inf.close()"
   ]
  },
  {
   "cell_type": "code",
   "execution_count": null,
   "id": "73e59d2c",
   "metadata": {},
   "outputs": [],
   "source": [
    "# Writing to a text file\n",
    "\n",
    "outf = open(‘out.txt’, ‘w’)\n",
    "out.write(‘All that I need you’)"
   ]
  },
  {
   "cell_type": "code",
   "execution_count": null,
   "id": "4df03f0f",
   "metadata": {},
   "outputs": [],
   "source": [
    "outf = open(‘out.txt’, ‘w’)\n",
    "outf.write(‘All that I need you’)\n",
    "outf.close()\n",
    "\n",
    "inf = open(‘out.txt’, ‘r’)\n",
    "s = inf.readline()\n",
    "print(s)\n",
    "\n",
    "inf.close()"
   ]
  },
  {
   "cell_type": "code",
   "execution_count": null,
   "id": "54e36e81",
   "metadata": {},
   "outputs": [],
   "source": [
    "# 이어서 게속 쓰기와 읽기\n",
    "\n",
    "outf = open(‘out.txt’, ‘w’)\n",
    "outf.write(‘All that I need you \\n’)\n",
    "outf.write(‘From early in the morning, till late at night \\n’)\n",
    "outf.write(‘All that I need you\\n’)\n",
    "outf.close()\n",
    "\n",
    "inf = open(‘out.txt’, ‘r’)\n",
    "s = inf.readlines()\n",
    "print(s)\n",
    "\n",
    "inf.close()"
   ]
  },
  {
   "cell_type": "code",
   "execution_count": null,
   "id": "c33eb6ce",
   "metadata": {},
   "outputs": [],
   "source": [
    "# Open 할 때 ‘a’ 모드로 지정하여 내용을 추가해 봄\n",
    "\n",
    "outf = open(‘out.txt’, ‘a’)\n",
    "outf.write(’This is append sample\\n’)\n",
    "outf.close()\n",
    "\n",
    "inf = open(‘out.txt’, ’r’)\n",
    "s = inf.readlines()\n",
    "print(s)\n",
    "\n",
    "inf.close()"
   ]
  },
  {
   "cell_type": "code",
   "execution_count": null,
   "id": "0c0be676",
   "metadata": {},
   "outputs": [],
   "source": [
    "# Read a text file, write to a new text file\n",
    "\n",
    "inf = open(‘poem.txt’, ‘r’)\n",
    "outf = open(‘poemdouble.txt’, ‘w’)\n",
    "\n",
    "for i in range(10):\n",
    "    s = inf.readline()\n",
    "    print(s)\n",
    "    s = s + ‘\\n’\n",
    "    outf.write(s)\n",
    "\n",
    "inf.close()\n",
    "outf.close()"
   ]
  }
 ],
 "metadata": {
  "kernelspec": {
   "display_name": "Python 3 (ipykernel)",
   "language": "python",
   "name": "python3"
  },
  "language_info": {
   "codemirror_mode": {
    "name": "ipython",
    "version": 3
   },
   "file_extension": ".py",
   "mimetype": "text/x-python",
   "name": "python",
   "nbconvert_exporter": "python",
   "pygments_lexer": "ipython3",
   "version": "3.9.12"
  }
 },
 "nbformat": 4,
 "nbformat_minor": 5
}
