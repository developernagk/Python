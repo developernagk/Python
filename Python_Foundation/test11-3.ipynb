{
 "cells": [
  {
   "cell_type": "code",
   "execution_count": null,
   "id": "b79fea4a",
   "metadata": {},
   "outputs": [],
   "source": [
    "# 연습문제 1\n",
    "# 파일 'poem.txt'를 읽어서 매 줄마다 몇 개의 word가 존재하는지 셈\n",
    "# 센 워드의 개수를 'numpoem.txt'에 저장\n",
    "# 이때 첫 번째 줄의 워드 개수는 첫 번째 줄에 저장, 두 번째 줄의 워드 개수는 두 번째 줄에 저장\n",
    "# 화면에 'peom.txt', 'numpoem.txt'의 내용이 잘 저장되었는지 확인 차 출력\n",
    "\n",
    "f = open('poem.txt', 'r')\n",
    "outf = open('numpoem.txt', 'w')\n",
    "Numword = []\n",
    "count = len(f.readlines())\n",
    "f.close()\n",
    "\n",
    "f = open('poem.txt', 'r')\n",
    "for i in range(count):\n",
    "    fline = f.readline()\n",
    "    flist = fline.split()\n",
    "    outf.write(str(len(flist)) + \"\\n\")\n",
    "    \n",
    "f.close()\n",
    "outf.close"
   ]
  },
  {
   "cell_type": "code",
   "execution_count": null,
   "id": "61819e4d",
   "metadata": {},
   "outputs": [],
   "source": [
    "# 확인용 출력\n",
    "\n",
    "f = open('poem.txt', 'r')\n",
    "outf = open('numpoem.txt', 'r')\n",
    "print(f.readlines())\n",
    "print(outf.readlines())\n",
    "inf.close()\n",
    "outf.close()"
   ]
  },
  {
   "cell_type": "code",
   "execution_count": null,
   "id": "19cf9393",
   "metadata": {},
   "outputs": [],
   "source": [
    "# 파일 존재 여부 확인, 예외처리\n",
    "\n",
    "import sys # 읽을 파일이 존재하지 않는 경우 처리\n",
    "\n",
    "try:\n",
    "    inf = open(‘myfile.txt’)\n",
    "    s = f.readline()\n",
    "    \n",
    "except IOError as err:\n",
    "    print(“I/O error: {0}”.format(err))"
   ]
  },
  {
   "cell_type": "code",
   "execution_count": null,
   "id": "b6f2ba8d",
   "metadata": {},
   "outputs": [],
   "source": [
    "try: # 쓰려고 하는 파일이 존재하지 않는 경우 처리\n",
    "    f = open(“testfile”, “w”)\n",
    "    f.write(“This is my test file for exception handling!!”)\n",
    "\n",
    "except IOError:\n",
    "    print(”Error: can\\’t find file or read data”)\n",
    "\n",
    "else:\n",
    "    print(“Written content in the file successfully”)"
   ]
  },
  {
   "cell_type": "code",
   "execution_count": null,
   "id": "c3f10f9c",
   "metadata": {},
   "outputs": [],
   "source": [
    "# Multiple Exceptions\n",
    "\n",
    "import sys\n",
    "\n",
    "try:\n",
    "    f = open(‘myfile.txt’)\n",
    "    s = f.readline()\n",
    "    i = int(s.strip())\n",
    "except IOError as err:\n",
    "    print(“I/O error; {0}”.format(err))\n",
    "except ValueError:\n",
    "    print(“Could not convert data to an integer.”)\n",
    "except: # else로 써도 무방함\n",
    "    print(“Unexpected error: “.system.exc_info()[0])\n",
    "    raise"
   ]
  },
  {
   "cell_type": "code",
   "execution_count": null,
   "id": "5c55902f",
   "metadata": {},
   "outputs": [],
   "source": [
    "# Try-Finally Clause, 2번 사용\n",
    "try:\n",
    "    fh = open(“t.txt”, “w”)\n",
    "    try:\n",
    "        fh.write(“This is my test file for exception handling!!\\n”)\n",
    "        fh.write(“=” * 35)\n",
    "    finally:\n",
    "        print(“Going to close the file”)\n",
    "        fh.close()\n",
    "        fh = open(“t.txt”, “r”)\n",
    "        print(fh.readlines())\n",
    "        fh.close()\n",
    "        \n",
    "except IOError:\n",
    "    print(“Error: can\\’t find file or read data”)"
   ]
  },
  {
   "cell_type": "code",
   "execution_count": null,
   "id": "2950d8d6",
   "metadata": {},
   "outputs": [],
   "source": [
    "# 연습문제 2\n",
    "# 연습문제 1의 코드에 예외처리 추가\n",
    "\n",
    "try:\n",
    "    f = open('poem.txt', 'r')\n",
    "    outf = open('numpoem.txt', 'w')\n",
    "except IOError as err:\n",
    "    print(\"unable to handle files\")\n",
    "    \n",
    "Numword = []\n",
    "count = len(f.readlines())\n",
    "f.close()\n",
    "\n",
    "f = open('poem.txt', 'r')\n",
    "for i in range(count):\n",
    "    fline = f.readline()\n",
    "    flist = fline.split()\n",
    "    outf.write(str(len(flist)) + \"\\n\")\n",
    "    \n",
    "f.close()\n",
    "outf.close"
   ]
  },
  {
   "cell_type": "code",
   "execution_count": null,
   "id": "a2d0daf0",
   "metadata": {},
   "outputs": [],
   "source": [
    "import os\n",
    "import shutil\n",
    "\n",
    "shutil.copy(’t.txt’, ’t1.txt’) # ’t.txt’ 복사하여 ’t1.txt’ 생성\n",
    "os.rename(’t1.txt’, ’s.txt’) # ‘t1.txt’ 이름을 ’s.txt’ 변경\n",
    "\n",
    "try:\n",
    "    inf = open(’s.txt’) # ’s.txt’를 읽어서 출력\n",
    "    s = inf.readlines()\n",
    "    print(s)\n",
    "except IOError as err:\n",
    "    print(“I/O error: {0}”.format(err))\n",
    "\n",
    "inf.close()\n",
    "\n",
    "os.remove(’t.txt’) # ’t.txt’는 삭제"
   ]
  },
  {
   "cell_type": "code",
   "execution_count": null,
   "id": "4eec3f93",
   "metadata": {},
   "outputs": [],
   "source": [
    "# 연습문제 3\n",
    "# 연습문제 1에서 만든 'numpoem.txt'를 'nump.txt'로 복사하고 'numpoem.txt'는 삭제\n",
    "# 삭제 후 파일 'nump.txt'를 읽어서 평균을 출력\n",
    "\n",
    "import os\n",
    "import shutil\n",
    "\n",
    "shutil.copy('numpoem.txt', 'nump.txt')\n",
    "os.remove('numpoem.txt')\n",
    "\n",
    "try:\n",
    "    inf = open('nump.txt', 'r')\n",
    "    s = inf.readlines()\n",
    "    sum = 0\n",
    "    for i in range(len(s)):\n",
    "        sum = sum + int(s[i])\n",
    "    print(\"평균 = \", sum/len(s))\n",
    "    \n",
    "except IOError as err:\n",
    "    print(\"I/O error: {0}\".format(err))\n",
    "    \n",
    "inf.close()"
   ]
  }
 ],
 "metadata": {
  "kernelspec": {
   "display_name": "Python 3 (ipykernel)",
   "language": "python",
   "name": "python3"
  },
  "language_info": {
   "codemirror_mode": {
    "name": "ipython",
    "version": 3
   },
   "file_extension": ".py",
   "mimetype": "text/x-python",
   "name": "python",
   "nbconvert_exporter": "python",
   "pygments_lexer": "ipython3",
   "version": "3.9.12"
  }
 },
 "nbformat": 4,
 "nbformat_minor": 5
}
