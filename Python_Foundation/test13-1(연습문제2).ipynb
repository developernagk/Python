{
 "cells": [
  {
   "cell_type": "code",
   "execution_count": null,
   "id": "7ad4dee0",
   "metadata": {},
   "outputs": [],
   "source": [
    "# 연습문제 2\n",
    "# 위의 class에서 salary를 모두 저장한 후 평균을 계산하는 과정을 추가"
   ]
  },
  {
   "cell_type": "code",
   "execution_count": 2,
   "id": "a6186a3a",
   "metadata": {},
   "outputs": [
    {
     "name": "stdout",
     "output_type": "stream",
     "text": [
      "Name :  Kim , Salary :  2000\n",
      "Name :  Choi , Salary :  5000\n",
      "Name :  Park , Salary :  4500\n",
      "Total Employee :  3\n",
      "Mean Salary :  3833.3333333333335\n"
     ]
    }
   ],
   "source": [
    "class Employee:\n",
    "    empCount = 0\n",
    "    TotalSalary = 0\n",
    "    MeanSalary = 0\n",
    "    \n",
    "    def __init__(self, name, salary):\n",
    "        self.name = name\n",
    "        self.salary = salary\n",
    "        Employee.empCount += 1\n",
    "        Employee.TotalSalary += salary\n",
    "        Employee.MeanSalary = Employee.TotalSalary / Employee.empCount\n",
    "        \n",
    "    def displayCount(self):\n",
    "        print(\"Total Employee : \", Employee.empCount)\n",
    "        \n",
    "    def displayEmployee(self):\n",
    "        print(\"Name : \", self.name, \", Salary : \", self.salary)\n",
    "        \n",
    "    def displayMeanSalary(self):\n",
    "        print(\"Mean Salary : \", Employee.MeanSalary)\n",
    "        \n",
    "emp1 = Employee(\"Kim\", 2000)\n",
    "emp2 = Employee(\"Choi\", 5000)\n",
    "emp3 = Employee(\"Park\", 4500)\n",
    "\n",
    "emp1.displayEmployee()\n",
    "emp2.displayEmployee()\n",
    "emp3.displayEmployee()\n",
    "\n",
    "print(\"Total Employee : \", Employee.empCount)\n",
    "\n",
    "emp3.displayMeanSalary()"
   ]
  }
 ],
 "metadata": {
  "kernelspec": {
   "display_name": "Python 3 (ipykernel)",
   "language": "python",
   "name": "python3"
  },
  "language_info": {
   "codemirror_mode": {
    "name": "ipython",
    "version": 3
   },
   "file_extension": ".py",
   "mimetype": "text/x-python",
   "name": "python",
   "nbconvert_exporter": "python",
   "pygments_lexer": "ipython3",
   "version": "3.9.12"
  }
 },
 "nbformat": 4,
 "nbformat_minor": 5
}
