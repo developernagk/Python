{
 "cells": [
  {
   "cell_type": "code",
   "execution_count": 1,
   "id": "a7286719",
   "metadata": {},
   "outputs": [
    {
     "name": "stdout",
     "output_type": "stream",
     "text": [
      "Hello, my name is  Default Name\n"
     ]
    }
   ],
   "source": [
    "class Person: # Class 정의, 이름\n",
    "    name = \"Default Name\" # member 변수\n",
    "    def Print(self): # method 정의\n",
    "        print(\"Hello, my name is \", self.name)\n",
    "        \n",
    "p1 = Person() # instance 객체 생성\n",
    "p1.Print() # member 변수 값 출력\n",
    "\n",
    "# Method를 정의할 때는 인수 'self' 적어야 함\n",
    "# 정의한 것을 사용할 때는 적지 않아도 됨\n",
    "# p1은 instance의 이름\n",
    "# 대소문자 구분"
   ]
  },
  {
   "cell_type": "code",
   "execution_count": 2,
   "id": "ef5374ea",
   "metadata": {},
   "outputs": [
    {
     "name": "stdout",
     "output_type": "stream",
     "text": [
      "Class is created!, Value =  10\n",
      "Class is created!, Value =  20\n"
     ]
    }
   ],
   "source": [
    "class MyClass:\n",
    "    def __init__(self, value):\n",
    "        self.value = value\n",
    "        print('Class is created!, Value = ', self.value)\n",
    "        \n",
    "    def __del__(self):\n",
    "        print('Class is deleted!')\n",
    "        \n",
    "d = MyClass(10) # Object instantiation syntax\n",
    "d1 = MyClass(20)"
   ]
  },
  {
   "cell_type": "code",
   "execution_count": 3,
   "id": "f321f856",
   "metadata": {},
   "outputs": [
    {
     "name": "stdout",
     "output_type": "stream",
     "text": [
      "Na-gyeong Kim\n",
      "Hello, my name is  Na-gyeong Kim\n"
     ]
    }
   ],
   "source": [
    "class Person:\n",
    "    def __init__(self, name):\n",
    "        self.name = name\n",
    "        \n",
    "    def Hello(self):\n",
    "        print('Hello, my name is ', self.name)\n",
    "        \n",
    "    def __del__(self):\n",
    "        print(self.name, 'says bye!')\n",
    "        \n",
    "p = Person(\"Na-gyeong Kim\") # Obeject instantiation syntax\n",
    "print(p.name)\n",
    "p.Hello()"
   ]
  },
  {
   "cell_type": "code",
   "execution_count": 4,
   "id": "a3aef853",
   "metadata": {},
   "outputs": [
    {
     "name": "stdout",
     "output_type": "stream",
     "text": [
      "Class is created!, Value =  100\n",
      "100\n",
      "Hello my name is  Na-gyeong Kim\n"
     ]
    }
   ],
   "source": [
    "# 연습문제 1\n",
    "# 위에서 정의한 class MyClass, Person을 사용\n",
    "# Instance 2개 생성할 것\n",
    "\n",
    "class MyClass:\n",
    "    def __init__(self, value):\n",
    "        self.value = value\n",
    "        print('Class is created!, Value = ', self.value)\n",
    "        \n",
    "    def __del__(self):\n",
    "        print('Class is deleted!')\n",
    "        \n",
    "class Person:\n",
    "    def __init__(self, name):\n",
    "        self.name = name\n",
    "        \n",
    "    def Hello(self):\n",
    "        print(\"Hello my name is \", self.name)\n",
    "        \n",
    "    def __del__(self):\n",
    "        print(self.name, 'says bye!')\n",
    "        \n",
    "Instance01 = MyClass(100)\n",
    "Instance02 = Person(\"Na-gyeong Kim\")\n",
    "\n",
    "print(Instance01.value)\n",
    "Instance02.Hello()"
   ]
  },
  {
   "cell_type": "code",
   "execution_count": 5,
   "id": "4158e992",
   "metadata": {},
   "outputs": [
    {
     "name": "stdout",
     "output_type": "stream",
     "text": [
      "200\n",
      "100\n",
      "180\n",
      "80\n"
     ]
    }
   ],
   "source": [
    "class BankAccount():\n",
    "    def __init__(self):\n",
    "        self.balance = 0\n",
    "        \n",
    "    def withdraw(self, amount):\n",
    "        self.balance -= amount\n",
    "        return self.balance\n",
    "    \n",
    "    def deposit(self, amount):\n",
    "        self.balance += amount\n",
    "        return self.balance\n",
    "    \n",
    "a = BankAccount()\n",
    "b = BankAccount()\n",
    "\n",
    "print(a.deposit(200))\n",
    "print(b.deposit(100))\n",
    "\n",
    "print(a.withdraw(20))\n",
    "print(b.withdraw(20))"
   ]
  },
  {
   "cell_type": "code",
   "execution_count": 1,
   "id": "c7bdd659",
   "metadata": {},
   "outputs": [
    {
     "name": "stdout",
     "output_type": "stream",
     "text": [
      "Name :  Kim Salary :  2000\n",
      "Name :  Choi Salary :  5000\n",
      "Name :  Park Salary :  4500\n",
      "Total Employee :  3\n"
     ]
    }
   ],
   "source": [
    "class Employee:\n",
    "    empCount = 0\n",
    "    \n",
    "    def __init__(self, name, salary):\n",
    "        self.name = name\n",
    "        self.salary = salary\n",
    "        Employee.empCount += 1\n",
    "        \n",
    "    def displayCount(self):\n",
    "        print(\"Total Employee = \", Employee.empCount)\n",
    "        \n",
    "    def displayEmployee(self):\n",
    "        print(\"Name : \", self.name, \"Salary : \", self.salary)\n",
    "        \n",
    "emp1 = Employee(\"Kim\", 2000)\n",
    "emp2 = Employee(\"Choi\", 5000)\n",
    "emp3 = Employee(\"Park\", 4500)\n",
    "\n",
    "emp1.displayEmployee()\n",
    "emp2.displayEmployee()\n",
    "emp3.displayEmployee()\n",
    "\n",
    "print(\"Total Employee : \", Employee.empCount)"
   ]
  },
  {
   "cell_type": "code",
   "execution_count": 2,
   "id": "884b7e9d",
   "metadata": {},
   "outputs": [
    {
     "ename": "NameError",
     "evalue": "name 'Salary' is not defined",
     "output_type": "error",
     "traceback": [
      "\u001b[0;31m---------------------------------------------------------------------------\u001b[0m",
      "\u001b[0;31mNameError\u001b[0m                                 Traceback (most recent call last)",
      "Input \u001b[0;32mIn [2]\u001b[0m, in \u001b[0;36m<cell line: 25>\u001b[0;34m()\u001b[0m\n\u001b[1;32m     22\u001b[0m     \u001b[38;5;28;01mdef\u001b[39;00m \u001b[38;5;21mdisplayMeanSalary\u001b[39m(\u001b[38;5;28mself\u001b[39m):\n\u001b[1;32m     23\u001b[0m         \u001b[38;5;28mprint\u001b[39m(\u001b[38;5;124m\"\u001b[39m\u001b[38;5;124mMean Salary : \u001b[39m\u001b[38;5;124m\"\u001b[39m, Employee\u001b[38;5;241m.\u001b[39mMeansalary)\n\u001b[0;32m---> 25\u001b[0m emp1 \u001b[38;5;241m=\u001b[39m \u001b[43mEmployee\u001b[49m\u001b[43m(\u001b[49m\u001b[38;5;124;43m\"\u001b[39;49m\u001b[38;5;124;43mKim\u001b[39;49m\u001b[38;5;124;43m\"\u001b[39;49m\u001b[43m,\u001b[49m\u001b[43m \u001b[49m\u001b[38;5;241;43m2000\u001b[39;49m\u001b[43m)\u001b[49m\n\u001b[1;32m     26\u001b[0m emp2 \u001b[38;5;241m=\u001b[39m Employee(\u001b[38;5;124m\"\u001b[39m\u001b[38;5;124mChoi\u001b[39m\u001b[38;5;124m\"\u001b[39m, \u001b[38;5;241m5000\u001b[39m)\n\u001b[1;32m     27\u001b[0m emp3 \u001b[38;5;241m=\u001b[39m Employee(\u001b[38;5;124m\"\u001b[39m\u001b[38;5;124mPark\u001b[39m\u001b[38;5;124m\"\u001b[39m, \u001b[38;5;241m4500\u001b[39m)\n",
      "Input \u001b[0;32mIn [2]\u001b[0m, in \u001b[0;36mEmployee.__init__\u001b[0;34m(self, name, salary)\u001b[0m\n\u001b[1;32m     11\u001b[0m \u001b[38;5;28mself\u001b[39m\u001b[38;5;241m.\u001b[39msalary \u001b[38;5;241m=\u001b[39m salary\n\u001b[1;32m     12\u001b[0m Employee\u001b[38;5;241m.\u001b[39mempCount \u001b[38;5;241m+\u001b[39m\u001b[38;5;241m=\u001b[39m \u001b[38;5;241m1\u001b[39m\n\u001b[0;32m---> 13\u001b[0m Employee\u001b[38;5;241m.\u001b[39mTotalSalary \u001b[38;5;241m+\u001b[39m\u001b[38;5;241m=\u001b[39m \u001b[43mSalary\u001b[49m\n\u001b[1;32m     14\u001b[0m Employee\u001b[38;5;241m.\u001b[39mMeanSalary \u001b[38;5;241m=\u001b[39m Employee\u001b[38;5;241m.\u001b[39mTotalSalary \u001b[38;5;241m/\u001b[39m Employee\u001b[38;5;241m.\u001b[39mempCount\n",
      "\u001b[0;31mNameError\u001b[0m: name 'Salary' is not defined"
     ]
    }
   ],
   "source": [
    "# 연습문제 2\n",
    "# 위의 class에서 salary를 모두 저장한 후 평균을 계산하는 과정을 추가\n",
    "\n",
    "class Employee:\n",
    "    empCount = 0\n",
    "    TotalSalary = 0\n",
    "    MeanSalary = 0\n",
    "    \n",
    "    def __init__(self, name, salary):\n",
    "        self.name = name\n",
    "        self.salary = salary\n",
    "        Employee.empCount += 1\n",
    "        Employee.TotalSalary += Salary\n",
    "        Employee.MeanSalary = Employee.TotalSalary / Employee.empCount\n",
    "        \n",
    "    def displayCount(self):\n",
    "        print(\"Total Employee = \", Employee.empCount)\n",
    "        \n",
    "    def displayEmployee(self):\n",
    "        print(\"Name : \", self.name, \"Salary : \", self.salary)\n",
    "        \n",
    "    def displayMeanSalary(self):\n",
    "        print(\"Mean Salary : \", Employee.Meansalary)\n",
    "        \n",
    "emp1 = Employee(\"Kim\", 2000)\n",
    "emp2 = Employee(\"Choi\", 5000)\n",
    "emp3 = Employee(\"Park\", 4500)\n",
    "\n",
    "emp1.displayEmployee()\n",
    "emp2.displayEmployee()\n",
    "emp3.displayEmployee()\n",
    "\n",
    "print(\"Total Employee : \", Employee.empCount)\n",
    "\n",
    "emp3.displayMeanSalary()"
   ]
  },
  {
   "cell_type": "code",
   "execution_count": null,
   "id": "af4bb92e",
   "metadata": {},
   "outputs": [],
   "source": []
  }
 ],
 "metadata": {
  "kernelspec": {
   "display_name": "Python 3 (ipykernel)",
   "language": "python",
   "name": "python3"
  },
  "language_info": {
   "codemirror_mode": {
    "name": "ipython",
    "version": 3
   },
   "file_extension": ".py",
   "mimetype": "text/x-python",
   "name": "python",
   "nbconvert_exporter": "python",
   "pygments_lexer": "ipython3",
   "version": "3.9.12"
  }
 },
 "nbformat": 4,
 "nbformat_minor": 5
}
