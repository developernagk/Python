{
 "cells": [
  {
   "cell_type": "code",
   "execution_count": null,
   "id": "04dbb365",
   "metadata": {},
   "outputs": [],
   "source": [
    "class Shape:\n",
    "    def __init__(self, x, y):\n",
    "        self.x = x\n",
    "        self.y = y\n",
    "        \n",
    "    def area(self):\n",
    "        return self.x * self.y\n",
    "    \n",
    "print(rectangle.area())"
   ]
  },
  {
   "cell_type": "code",
   "execution_count": null,
   "id": "f6f116a0",
   "metadata": {},
   "outputs": [],
   "source": [
    "class Shape:\n",
    "    def __init__(self, x, y):\n",
    "        self.x = x\n",
    "        self.y = y\n",
    "    def area(self):\n",
    "        return self.x * self.y\n",
    "    def perimeter(self):\n",
    "        return 2 * self.x + 2 * self.y\n",
    "    def describe(self, text):\n",
    "        self.description = text\n",
    "    def authorName(self,text):\n",
    "        self.author = text\n",
    "    def scaleSize(self, scale):\n",
    "        self.x = self.x * scale\n",
    "        self.y = self.y * scale"
   ]
  },
  {
   "cell_type": "code",
   "execution_count": null,
   "id": "5ce0103e",
   "metadata": {},
   "outputs": [],
   "source": [
    "rectangle = Shape(100,45)\n",
    "print(rectangle.area())\n",
    "print(rectangle.perimeter())\n",
    "rectangle.describe(\"A wide rectangle, more than twice as wide as it is tall\")\n",
    "rectangle.scaleSize(0.5)\n",
    "print(rectangle.area())"
   ]
  },
  {
   "cell_type": "code",
   "execution_count": null,
   "id": "25e9df96",
   "metadata": {},
   "outputs": [],
   "source": [
    "class GString:\n",
    "    def __init__(self, init = None):\n",
    "        self.content = init\n",
    "        \n",
    "    def __sub__(self, str): # '-' 연산자 중복정의\n",
    "        for i in str:\n",
    "            self.content = self.content.replace(i, '')\n",
    "        return GString(self.content)\n",
    "    def __abs__(self): # 'abs' 연산자 중복정의\n",
    "        return GString(self.content.upper())\n",
    "    def Print(self):\n",
    "        print(self.content)\n",
    "g = GString(\"ABcdefg\")\n",
    "g = g - \"df\"\n",
    "g = abs(g)\n",
    "g.Print()"
   ]
  },
  {
   "cell_type": "code",
   "execution_count": null,
   "id": "02efe085",
   "metadata": {},
   "outputs": [],
   "source": [
    "# 연습문제 1\n",
    "# 위에서 '*' 연산자를 사용하면 문자열 전체가 곱하는 정수배가 되도록 정의하고 실행\n",
    "\n",
    "class GString:\n",
    "    def __init__(self, init = None):\n",
    "        self.content = init\n",
    "        \n",
    "    def __sub__(self, str):\n",
    "        for i in str:\n",
    "            self.content = self.content.replace(i, '')\n",
    "        return GString(self.content)\n",
    "    \n",
    "    def __abs__(self):\n",
    "        return GString(self.content.upper())\n",
    "    \n",
    "    def __mul__(self, int):\n",
    "        return GString(self.content * int)\n",
    "    \n",
    "    def Print(self):\n",
    "        print(self.content)\n",
    "        \n",
    "g = GString('ABcdefg')\n",
    "g = g * 3\n",
    "g.Print()\n",
    "\n",
    "g = GString('KMooC')\n",
    "g = g * 5\n",
    "g.Print()"
   ]
  },
  {
   "cell_type": "code",
   "execution_count": null,
   "id": "f8a96d80",
   "metadata": {},
   "outputs": [],
   "source": [
    "# 상속(Inheritance)\n",
    "\n",
    "class Person:\n",
    "    def speak(self):\n",
    "        print(\"I can speak\")\n",
    "        \n",
    "class Man(Person):\n",
    "    def wear(self):\n",
    "        print(\"I wear pants\")\n",
    "        \n",
    "class Woman(Person):\n",
    "    def wear(self):\n",
    "        print(\"Iwear skirt\")\n",
    "        \n",
    "man = Man()\n",
    "man.speak # Person.speak()"
   ]
  },
  {
   "cell_type": "code",
   "execution_count": null,
   "id": "080b495a",
   "metadata": {},
   "outputs": [],
   "source": [
    "# 연습문제 2\n",
    "# 원을 그리기 위해 \"class Circle\"을 디자인\n",
    "# parameter : size\n",
    "# methods : move_x, move_y, move_xy\n",
    "# 색이 있는 원을 위해 \"class f_Circle\"을 디자인\n",
    "# parameter : size, color\n",
    "# Class circle로부터 상속\n",
    "# 원 한 개를 그리고 그것을 (x, 0)으로 이동\n",
    "# 한 개의 파랑 원을 그리고 그것을 (x, y)로 이동\n",
    "# 한 개이 분홍 원을 그리고 그것을 (0, y)로 이동"
   ]
  },
  {
   "cell_type": "code",
   "execution_count": null,
   "id": "5c9aec34",
   "metadata": {},
   "outputs": [],
   "source": [
    "from tkinter import *\n",
    "import time\n",
    "\n",
    "class Circle:\n",
    "    def __init__(self, canvas):\n",
    "        self.canvas = canvas\n",
    "        self.id = canvas.create_oval(150, 150, 45, 45)\n",
    "    def move_x(self, x):\n",
    "        self.x = x\n",
    "        self.canvas.move(self.id, self.x, 0)\n",
    "    def move_y(self, y):\n",
    "        self.y = y\n",
    "        self.canvas.move(self.id, 0, self.y)\n",
    "    def move_xy(self, x, y):\n",
    "        self.x = x\n",
    "        self.y = y\n",
    "        self.canvas.move(self.id, self.x, self.y)\n",
    "        \n",
    "class f_Circle(Circle):\n",
    "    def __init__(self, canvas, color):\n",
    "        self.canvas = canvas\n",
    "        self.id = canvas.create_oval(10, 10, 45, 45, fill = color)\n",
    "        \n",
    "tk = Tk()\n",
    "canvas = Canvas(tk, width = 500, height = 400, bd = 0, highlightthickness = 0)\n",
    "canvas.pack()\n",
    "\n",
    "circ = Circle(canvas)\n",
    "bcirc = f_Circle(canvas, \"Blue\")\n",
    "rcirc = f_Circle(canvas, \"pink\")\n",
    "canvas.pack()\n",
    "\n",
    "circ.move_x(10)\n",
    "bcirc.move_xy(150, 150)\n",
    "rcirc.move_y(200)\n",
    "canvas.pack()"
   ]
  },
  {
   "cell_type": "code",
   "execution_count": null,
   "id": "25680166",
   "metadata": {},
   "outputs": [],
   "source": [
    "# Game Bounce(간단한 게임 만들기)\n",
    "# 패들과 공이 존재\n",
    "# 공이 움직임\n",
    "# 공이 떨어지지 않도록 패들을 움직임"
   ]
  },
  {
   "cell_type": "code",
   "execution_count": null,
   "id": "100b4360",
   "metadata": {},
   "outputs": [],
   "source": [
    "# import module\n",
    "from tkinter import *\n",
    "import random\n",
    "import time\n",
    "\n",
    "# create class ball\n",
    "\n",
    "# create paddle\n",
    "\n",
    "# main process"
   ]
  }
 ],
 "metadata": {
  "kernelspec": {
   "display_name": "Python 3 (ipykernel)",
   "language": "python",
   "name": "python3"
  },
  "language_info": {
   "codemirror_mode": {
    "name": "ipython",
    "version": 3
   },
   "file_extension": ".py",
   "mimetype": "text/x-python",
   "name": "python",
   "nbconvert_exporter": "python",
   "pygments_lexer": "ipython3",
   "version": "3.9.12"
  }
 },
 "nbformat": 4,
 "nbformat_minor": 5
}
