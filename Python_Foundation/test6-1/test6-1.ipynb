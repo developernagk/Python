{
 "cells": [
  {
   "cell_type": "code",
   "execution_count": 1,
   "id": "97336b53",
   "metadata": {},
   "outputs": [],
   "source": [
    "import turtle\n",
    "\n",
    "t = turtle.Turtle()\n",
    "t.forward(200)"
   ]
  },
  {
   "cell_type": "code",
   "execution_count": null,
   "id": "18531654",
   "metadata": {},
   "outputs": [],
   "source": [
    "# 상호작용 방식\n",
    "\n",
    "import turtle\n",
    "\n",
    "turtle.position()\n",
    "(0.00, 0.00)\n",
    "turtle.forward(150)"
   ]
  },
  {
   "cell_type": "code",
   "execution_count": null,
   "id": "fc7be427",
   "metadata": {},
   "outputs": [],
   "source": [
    "import turtle\n",
    "\n",
    "turtle.position()\n",
    "(0.00, 0.00)\n",
    "turtle.forward(150)\n",
    "turtle.left(90)\n",
    "turtle.forward(200)"
   ]
  },
  {
   "cell_type": "code",
   "execution_count": null,
   "id": "245141fb",
   "metadata": {},
   "outputs": [],
   "source": [
    "# 스크립트 방식 1-1\n",
    "\n",
    "import turtle\n",
    "\n",
    "t1 = turtle.Turtle()\n",
    "\n",
    "t1.forward(100)\n",
    "t1.left(90)\n",
    "t1.forward(100)\n",
    "t1.left(90)\n",
    "t1.forward(100)\n",
    "t1.left(90)\n",
    "t1.forward(100)\n",
    "t1.left(90)\n",
    "\n",
    "turtle.done()"
   ]
  },
  {
   "cell_type": "code",
   "execution_count": null,
   "id": "caf2972e",
   "metadata": {},
   "outputs": [],
   "source": [
    "# 스크립트 방식 1-2\n",
    "\n",
    "import turtle\n",
    "\n",
    "t1 = turtle.Turtle()\n",
    "\n",
    "for i in range(4) :\n",
    "    t1.forward(100)\n",
    "    t1.left(90)\n",
    "    \n",
    "turtle.done()"
   ]
  },
  {
   "cell_type": "code",
   "execution_count": null,
   "id": "d7a34023",
   "metadata": {},
   "outputs": [],
   "source": [
    "# 스크립트 방식 2\n",
    "\n",
    "import turtle\n",
    "\n",
    "t1 = turtle.Turtle()\n",
    "\n",
    "for i in range(30, 600, 30) :\n",
    "    t1.forward(i)\n",
    "    t1.left(90)\n",
    "\n",
    "turtle.done()"
   ]
  },
  {
   "cell_type": "code",
   "execution_count": null,
   "id": "c307911c",
   "metadata": {},
   "outputs": [],
   "source": [
    "# draw star shape\n",
    "\n",
    "import turtle\n",
    "\n",
    "for i in range(5) :\n",
    "    turtle.forward(200)\n",
    "    turtle.right(144)\n",
    "\n",
    "turtle.done()"
   ]
  },
  {
   "cell_type": "code",
   "execution_count": null,
   "id": "e19db573",
   "metadata": {},
   "outputs": [],
   "source": [
    "# 색상 있는 원 그리기\n",
    "\n",
    "import turtle\n",
    "\n",
    "t = turtle.Pen()\n",
    "\n",
    "t.color(“blue”)\n",
    "\n",
    "t.begin_fill()\n",
    "t.circle(50)\n",
    "t.end_fill()\n",
    "\n",
    "turtle.done()"
   ]
  },
  {
   "cell_type": "code",
   "execution_count": null,
   "id": "738c54f7",
   "metadata": {},
   "outputs": [],
   "source": [
    "# 선 그리기 1\n",
    "\n",
    "import turtle\n",
    "\n",
    "wn = turtle.Screen()\n",
    "wn.bgcolor(“lightgreen”)\n",
    "\n",
    "wn.title(“Hello, Tess!”)"
   ]
  },
  {
   "cell_type": "code",
   "execution_count": null,
   "id": "7a892942",
   "metadata": {},
   "outputs": [],
   "source": [
    "# 선 그리기 2\n",
    "\n",
    "tess = turtle.Turtle()\n",
    "tess.color(“Hotpink”)\n",
    "tess.pensize(3)\n",
    "\n",
    "tess.forward(200)\n",
    "tess.right(120)\n",
    "tess.forward(200)\n",
    "\n",
    "wn.done()\n",
    "tess.done()"
   ]
  },
  {
   "cell_type": "code",
   "execution_count": null,
   "id": "38898d42",
   "metadata": {},
   "outputs": [],
   "source": [
    "# 삼각형 그리기\n",
    "\n",
    "import turtle\n",
    "\n",
    "wn = turtle.Screen()\n",
    "wn.bgcolor(“lightblue”)\n",
    "wn.title(“Draw Triangle”)\n",
    "\n",
    "t = turtle.Turtle()\n",
    "t.color(“hotpink”)\n",
    "t.pensize(3)\n",
    "\n",
    "t.goto(0, 250)\n",
    "\n",
    "for i in range(3) :\n",
    "    t.forward(80)\n",
    "    t.left(120)\n",
    "    \n",
    "t.right(180)\n",
    "t.forward(80)"
   ]
  },
  {
   "cell_type": "code",
   "execution_count": null,
   "id": "3f9f5537",
   "metadata": {},
   "outputs": [],
   "source": [
    "# 삼각형 그리기+이동선 제거\n",
    "\n",
    "import.turtle\n",
    "\n",
    "wn = turtle.Screen()\n",
    "wn.bgcolor(“lightblue”)\n",
    "wn.title(“Draw Triangle”)\n",
    "\n",
    "t.turtle.Turtle()\n",
    "t.color(“hotpink”)\n",
    "t.pensize(3)\n",
    "\n",
    "t.penup()\n",
    "t.goto(0, 250)\n",
    "t.pendown()\n",
    "\n",
    "for i in range(3) :\n",
    "    t.forward(80)\n",
    "    t.left(120)\n",
    "    \n",
    "t.penup()\n",
    "t.right(180)\n",
    "t.forward(80)"
   ]
  },
  {
   "cell_type": "code",
   "execution_count": null,
   "id": "032d38f5",
   "metadata": {},
   "outputs": [],
   "source": [
    "# 사각형 그리기\n",
    "\n",
    "import turtle\n",
    "\n",
    "wn = turtle.Screen()\n",
    "wn.bgcolor(“lightpink”)\n",
    "wn.title(“Draw Polygon”)\n",
    "\n",
    "a = turtle.Turtle()\n",
    "a.color(“grey”)\n",
    "a.pensize(5)\n",
    "\n",
    "a.penup()\n",
    "a.goto(150, 150)\n",
    "a.pendown()\n",
    "\n",
    "for i in range(4) :\n",
    "    a.forward(120)\n",
    "    a.left(90)"
   ]
  }
 ],
 "metadata": {
  "kernelspec": {
   "display_name": "Python 3 (ipykernel)",
   "language": "python",
   "name": "python3"
  },
  "language_info": {
   "codemirror_mode": {
    "name": "ipython",
    "version": 3
   },
   "file_extension": ".py",
   "mimetype": "text/x-python",
   "name": "python",
   "nbconvert_exporter": "python",
   "pygments_lexer": "ipython3",
   "version": "3.9.12"
  }
 },
 "nbformat": 4,
 "nbformat_minor": 5
}
