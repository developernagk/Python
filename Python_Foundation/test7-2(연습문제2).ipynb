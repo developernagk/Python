{
 "cells": [
  {
   "cell_type": "code",
   "execution_count": null,
   "id": "19797ca5",
   "metadata": {},
   "outputs": [],
   "source": [
    "# 연습문제2\n",
    "# 2단에서 16단까지 구구단을 계산\n",
    "# 생성한 2차원 리스트 저장\n",
    "# 이때, 각 단을 한 개의 row에 저장\n",
    "# 저장한 결과 출력\n",
    "\n"
   ]
  }
 ],
 "metadata": {
  "kernelspec": {
   "display_name": "Python 3 (ipykernel)",
   "language": "python",
   "name": "python3"
  },
  "language_info": {
   "codemirror_mode": {
    "name": "ipython",
    "version": 3
   },
   "file_extension": ".py",
   "mimetype": "text/x-python",
   "name": "python",
   "nbconvert_exporter": "python",
   "pygments_lexer": "ipython3",
   "version": "3.9.12"
  }
 },
 "nbformat": 4,
 "nbformat_minor": 5
}
