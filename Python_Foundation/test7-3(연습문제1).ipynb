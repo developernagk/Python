{
 "cells": [
  {
   "cell_type": "code",
   "execution_count": null,
   "id": "77d167a9",
   "metadata": {},
   "outputs": [],
   "source": [
    "# 연습문제1\n",
    "# 문자열을 입력 받음\n",
    "# 문자열을 분리하여 리스트에 저장\n",
    "# 그 중 제거할 단어를 입력 받아 제거\n",
    "# 추가할 단어를 입력 받아 추가\n",
    "# 리스트를 다시 문자열로 바꾼 뒤 출력"
   ]
  }
 ],
 "metadata": {
  "kernelspec": {
   "display_name": "Python 3 (ipykernel)",
   "language": "python",
   "name": "python3"
  },
  "language_info": {
   "codemirror_mode": {
    "name": "ipython",
    "version": 3
   },
   "file_extension": ".py",
   "mimetype": "text/x-python",
   "name": "python",
   "nbconvert_exporter": "python",
   "pygments_lexer": "ipython3",
   "version": "3.9.12"
  }
 },
 "nbformat": 4,
 "nbformat_minor": 5
}
