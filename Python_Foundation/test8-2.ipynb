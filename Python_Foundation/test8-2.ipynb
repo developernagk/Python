{
 "cells": [
  {
   "cell_type": "code",
   "execution_count": 1,
   "id": "89bfe158",
   "metadata": {},
   "outputs": [
    {
     "name": "stdout",
     "output_type": "stream",
     "text": [
      "result of first function call, \n",
      "=========================\n",
      "Blessed are the poor in spirit,\n",
      "for theirs is the kingdom of heaven.\n",
      " \n",
      "result of second function call, \n",
      "=========================\n",
      "Blessed are the poor in spirit,\n",
      "for theirs is the kingdom of heaven.\n",
      " \n",
      "Blessed are the poor in spirit,\n",
      "for theirs is the kingdom of heaven.\n",
      " \n"
     ]
    }
   ],
   "source": [
    "# no parameter, no return value\n",
    "\n",
    "def print_script() :\n",
    "    print(\"Blessed are the poor in spirit,\")\n",
    "    print(\"for theirs is the kingdom of heaven.\")\n",
    "    print(\" \")\n",
    "    \n",
    "print(\"result of first function call, \")\n",
    "print(\"=\" * 25)\n",
    "print_script() # first function call\n",
    "\n",
    "def repeat_script() :\n",
    "    print_script()\n",
    "    print_script()\n",
    "    \n",
    "print(\"result of second function call, \")\n",
    "print(\"=\" * 25)\n",
    "repeat_script() # second function call"
   ]
  },
  {
   "cell_type": "code",
   "execution_count": 2,
   "id": "ba43432e",
   "metadata": {},
   "outputs": [
    {
     "name": "stdout",
     "output_type": "stream",
     "text": [
      "result of first function call, \n",
      "=========================\n",
      "*\n",
      "*\n",
      "*\n",
      "*\n",
      "*\n",
      "result of second function call, \n",
      "=========================\n",
      "**********\n"
     ]
    }
   ],
   "source": [
    "def print_chr(times) :\n",
    "    for i in range(times) :\n",
    "        print(\"*\")\n",
    "        \n",
    "print(\"result of first function call, \")\n",
    "print(\"=\" * 25)\n",
    "print_chr(5)\n",
    "\n",
    "def print_line(t) :\n",
    "    print(\"*\" * t)\n",
    "    \n",
    "print(\"result of second function call, \")\n",
    "print(\"=\" * 25)\n",
    "print_line(10)"
   ]
  },
  {
   "cell_type": "code",
   "execution_count": 3,
   "id": "074a59cc",
   "metadata": {},
   "outputs": [
    {
     "name": "stdout",
     "output_type": "stream",
     "text": [
      "result of plus(2, 12)\n",
      "14\n",
      "result of mul(2, 12)\n",
      "24\n"
     ]
    }
   ],
   "source": [
    "# parameter, return value\n",
    "\n",
    "def plus(num1, num2) :\n",
    "    return num1 + num2\n",
    "\n",
    "result_plus = plus(2, 12)\n",
    "print(\"result of plus(2, 12)\")\n",
    "print(result_plus)\n",
    "\n",
    "def mul(num1, num2) :\n",
    "    return num1 * num2\n",
    "\n",
    "result_mul = mul(2, 12)\n",
    "print(\"result of mul(2, 12)\")\n",
    "print(result_mul)"
   ]
  },
  {
   "cell_type": "code",
   "execution_count": 4,
   "id": "2d59c509",
   "metadata": {},
   "outputs": [
    {
     "name": "stdout",
     "output_type": "stream",
     "text": [
      "Love\n",
      "Love\n"
     ]
    }
   ],
   "source": [
    "# parameters and arguments1\n",
    "\n",
    "def print_twice(something) : # something = parameter\n",
    "    print(something)\n",
    "    print(something)\n",
    "    \n",
    "print_twice('Love') # argument/ parameter와 argument의 개수는 같아야 함"
   ]
  },
  {
   "cell_type": "code",
   "execution_count": 5,
   "id": "ec938b0b",
   "metadata": {},
   "outputs": [
    {
     "name": "stdout",
     "output_type": "stream",
     "text": [
      "Love is real\n",
      "Love is real\n"
     ]
    }
   ],
   "source": [
    "# parameter and arguments2\n",
    "\n",
    "def print_twice(something) :\n",
    "    print(something)\n",
    "    print(something)\n",
    "    \n",
    "print_twice('Love is real')"
   ]
  },
  {
   "cell_type": "code",
   "execution_count": 6,
   "id": "1876d183",
   "metadata": {},
   "outputs": [
    {
     "name": "stdout",
     "output_type": "stream",
     "text": [
      "1\n"
     ]
    }
   ],
   "source": [
    "# parameter and arguments3\n",
    "\n",
    "def User_pow(number1, number2) :\n",
    "    result = 1\n",
    "    if number2 == 0 :\n",
    "        result = 1\n",
    "    else :\n",
    "        for i in range(number2) :\n",
    "            result = result * number1\n",
    "    print(result)\n",
    "    \n",
    "User_pow(2, 0)"
   ]
  },
  {
   "cell_type": "code",
   "execution_count": 7,
   "id": "811c1d3e",
   "metadata": {},
   "outputs": [
    {
     "name": "stdout",
     "output_type": "stream",
     "text": [
      "8\n"
     ]
    }
   ],
   "source": [
    "User_pow(2, 3)"
   ]
  },
  {
   "cell_type": "code",
   "execution_count": 8,
   "id": "4ee84e16",
   "metadata": {},
   "outputs": [],
   "source": [
    "# parameter and arguments4\n",
    "\n",
    "def User_Max(number1, number2, number3) :\n",
    "    Max = number1\n",
    "    if number2 > number1 and number2 > number3 :\n",
    "        Max = number2\n",
    "    if number3 > number2 and number3 > number1 :\n",
    "        Max = number3\n",
    "    print(Max)"
   ]
  },
  {
   "cell_type": "code",
   "execution_count": 9,
   "id": "33803b9e",
   "metadata": {},
   "outputs": [
    {
     "name": "stdout",
     "output_type": "stream",
     "text": [
      "7\n"
     ]
    }
   ],
   "source": [
    "User_Max(4, 7, 2)"
   ]
  },
  {
   "cell_type": "code",
   "execution_count": 10,
   "id": "0d363497",
   "metadata": {},
   "outputs": [
    {
     "name": "stdout",
     "output_type": "stream",
     "text": [
      "return value of function plus(3,5) =  8\n"
     ]
    }
   ],
   "source": [
    "# return statement1\n",
    "# define function plus(a, b)\n",
    "\n",
    "def plus(a, b) :\n",
    "    return(a + b)\n",
    "\n",
    "i = plus(3, 5)\n",
    "print(\"return value of function plus(3,5) = \", i)"
   ]
  },
  {
   "cell_type": "code",
   "execution_count": 11,
   "id": "1c08e832",
   "metadata": {},
   "outputs": [
    {
     "name": "stdout",
     "output_type": "stream",
     "text": [
      "1 1\n",
      "3 4\n",
      "5 9\n",
      "7 16\n",
      "9 25\n",
      "return value of function plus_list([1,3,5,7,9]) =  (25, [1, 3, 5, 7, 9])\n"
     ]
    }
   ],
   "source": [
    "# return statements2\n",
    "# define function plus_list(listname)\n",
    "\n",
    "num_list=[1,3,5,7,9]\n",
    "def plus_list(listname) :\n",
    "        sum = 0\n",
    "        for i in listname :\n",
    "            sum = sum + i\n",
    "            print(i, sum)\n",
    "        return sum, num_list\n",
    "    \n",
    "pl = plus_list(num_list) # function call\n",
    "print(\"return value of function plus_list([1,3,5,7,9]) = \", pl)"
   ]
  },
  {
   "cell_type": "code",
   "execution_count": 12,
   "id": "c13c6643",
   "metadata": {},
   "outputs": [
    {
     "name": "stdout",
     "output_type": "stream",
     "text": [
      "celsius =  22.6 fahrenheit =  72.68\n",
      "celsius =  25.8 fahrenheit =  78.44\n",
      "celsius =  -10 fahrenheit =  14.0\n",
      "celsius =  0.0 fahrenheit =  32.0\n"
     ]
    }
   ],
   "source": [
    "# return statements3\n",
    "\n",
    "def fahrenheit(celsius) :\n",
    "    # return the temperature in degrees Fahrenheit\n",
    "    return (celsius * 9 / 5) + 32\n",
    "\n",
    "for t in (22.6, 25.8, -10, 0.0) :\n",
    "    print(\"celsius = \", t, \"fahrenheit = \", fahrenheit(t))"
   ]
  },
  {
   "cell_type": "code",
   "execution_count": 13,
   "id": "506b6e7e",
   "metadata": {},
   "outputs": [
    {
     "name": "stdout",
     "output_type": "stream",
     "text": [
      "Enter number1 :4\n",
      "Enter number2 :5\n"
     ]
    },
    {
     "data": {
      "text/plain": [
       "20"
      ]
     },
     "execution_count": 13,
     "metadata": {},
     "output_type": "execute_result"
    }
   ],
   "source": [
    "# 연습문제1\n",
    "# 2개의 파라미터를 지정\n",
    "# 지정한 파라미터 두개의 곱을 리턴하는 함수를 작성\n",
    "# 이 함수를 호출하기 전 사용자에게 2개의 숫자를 입력받음, 위에 만든 함수를 호출, 결과값을 받아서 출력\n",
    "\n",
    "def mul_num(n1, n2) :\n",
    "    return n1 * n2\n",
    "\n",
    "n1 = int(input(\"Enter number1 :\"))\n",
    "n2 = int(input(\"Enter number2 :\"))\n",
    "\n",
    "mul_num(n1, n2)"
   ]
  },
  {
   "cell_type": "code",
   "execution_count": 14,
   "id": "caa3d595",
   "metadata": {},
   "outputs": [
    {
     "name": "stdout",
     "output_type": "stream",
     "text": [
      "0  +  1  +  3  =  4\n",
      "1  +  2  +  4  =  7\n",
      "2  +  3  +  5  =  10\n",
      "3  +  4  +  6  =  13\n",
      "4  +  5  +  7  =  16\n",
      "5  +  6  +  8  =  19\n",
      "6  +  7  +  9  =  22\n",
      "7  +  8  +  10  =  25\n",
      "8  +  9  +  11  =  28\n",
      "9  +  10  +  12  =  31\n",
      " =  30\n"
     ]
    }
   ],
   "source": [
    "# 예제1\n",
    "# define sum(n1, n2, n3) function\n",
    "\n",
    "def sum(i, j, k) :\n",
    "    return i + j + k\n",
    "\n",
    "for i in range(10) :\n",
    "    print(i, \" + \", i+1, \" + \", i+3, \" = \", sum(i,i+1,i+3))\n",
    "    \n",
    "print(\" = \", 30)"
   ]
  },
  {
   "cell_type": "code",
   "execution_count": 16,
   "id": "1f6d6629",
   "metadata": {},
   "outputs": [
    {
     "name": "stdout",
     "output_type": "stream",
     "text": [
      "enter first integer = 4\n",
      "enter second integer = 5\n",
      "enter third integer = 7\n",
      "4  +  5  +  7  =  16\n",
      "==============================\n"
     ]
    }
   ],
   "source": [
    "# 예제1\n",
    "\n",
    "a = int(input(\"enter first integer = \"))\n",
    "b = int(input(\"enter second integer = \"))\n",
    "c = int(input(\"enter third integer = \"))\n",
    "print(a, \" + \", b, \" + \", c, \" = \", sum(a,b,c))\n",
    "print(\"=\" * 30)"
   ]
  },
  {
   "cell_type": "code",
   "execution_count": 17,
   "id": "63c5b317",
   "metadata": {},
   "outputs": [],
   "source": [
    "# 예제2\n",
    "# define ex function ; exchange list element\n",
    "\n",
    "def exchange(listN,i,j) : # 자리 변경하는 함수/ exchange(listN,i,j) 중 i,j는 어떤 index를 가진 item을 움직일지 결정\n",
    "    temp = listN[i]\n",
    "    listN[i] = listN[j]\n",
    "    listN[j] = temp"
   ]
  },
  {
   "cell_type": "code",
   "execution_count": 18,
   "id": "1e7b7432",
   "metadata": {},
   "outputs": [
    {
     "name": "stdout",
     "output_type": "stream",
     "text": [
      "**************************************************\n",
      "[1, 3, 5, 7, 9, 11]\n",
      "['apple', 'banana', 'blueberry', 'lemon', 'melon']\n"
     ]
    }
   ],
   "source": [
    "nums = [1, 3, 5, 7, 9, 11]\n",
    "fr = ['apple', 'banana', 'blueberry', 'lemon', 'melon']\n",
    "\n",
    "print(\"*\"*50)\n",
    "print(nums)\n",
    "print(fr)"
   ]
  },
  {
   "cell_type": "code",
   "execution_count": 19,
   "id": "48697f4f",
   "metadata": {},
   "outputs": [
    {
     "name": "stdout",
     "output_type": "stream",
     "text": [
      "exchange index 0,1 = [3, 1, 5, 7, 9, 11]\n",
      "['banana', 'apple', 'blueberry', 'lemon', 'melon']\n"
     ]
    }
   ],
   "source": [
    "exchange(nums,0,1)\n",
    "exchange(fr,0,1)\n",
    "\n",
    "print(\"exchange index 0,1 =\", nums)\n",
    "print(fr)"
   ]
  },
  {
   "cell_type": "code",
   "execution_count": 20,
   "id": "b275dd50",
   "metadata": {},
   "outputs": [
    {
     "name": "stdout",
     "output_type": "stream",
     "text": [
      "exchange index 1,4 = [3, 9, 5, 7, 1, 11]\n",
      "['banana', 'melon', 'blueberry', 'lemon', 'apple']\n",
      "**************************************************\n"
     ]
    }
   ],
   "source": [
    "exchange(nums,1,4)\n",
    "exchange(fr,1,4)\n",
    "\n",
    "print(\"exchange index 1,4 =\", nums)\n",
    "print(fr)\n",
    "print(\"*\"*50)"
   ]
  },
  {
   "cell_type": "code",
   "execution_count": 21,
   "id": "09d4df4c",
   "metadata": {},
   "outputs": [
    {
     "name": "stdout",
     "output_type": "stream",
     "text": [
      "result =  5\n",
      "0\n"
     ]
    }
   ],
   "source": [
    "# 지역변수(Variables with Local Scope)\n",
    "\n",
    "def fun(count) : # count: local scope\n",
    "    a =5 # a: local scope\n",
    "    count = count + a\n",
    "    return count\n",
    "\n",
    "count = 0 # count: global scope\n",
    "\n",
    "print('result = ', fun(count))\n",
    "print(count) # count: global scope"
   ]
  },
  {
   "cell_type": "code",
   "execution_count": 22,
   "id": "e5d31822",
   "metadata": {},
   "outputs": [
    {
     "name": "stdout",
     "output_type": "stream",
     "text": [
      "result =  5\n",
      "5\n"
     ]
    }
   ],
   "source": [
    "# 전역변수(Global Variables inside a Function)\n",
    "\n",
    "def fun(count) : # count: local scope\n",
    "    global a\n",
    "    a = 5 # global a is changed\n",
    "    count = count + a\n",
    "    return count\n",
    "\n",
    "a = 0 # count: global scope\n",
    "\n",
    "print('result = ', fun(count))\n",
    "print(a) # count: global scope"
   ]
  }
 ],
 "metadata": {
  "kernelspec": {
   "display_name": "Python 3 (ipykernel)",
   "language": "python",
   "name": "python3"
  },
  "language_info": {
   "codemirror_mode": {
    "name": "ipython",
    "version": 3
   },
   "file_extension": ".py",
   "mimetype": "text/x-python",
   "name": "python",
   "nbconvert_exporter": "python",
   "pygments_lexer": "ipython3",
   "version": "3.9.12"
  }
 },
 "nbformat": 4,
 "nbformat_minor": 5
}
