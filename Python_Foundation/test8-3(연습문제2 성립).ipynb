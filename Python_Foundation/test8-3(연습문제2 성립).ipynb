{
 "cells": [
  {
   "cell_type": "code",
   "execution_count": null,
   "id": "b64c5eba",
   "metadata": {},
   "outputs": [],
   "source": [
    "# 연습문제 2\n",
    "# 함수 정의\n",
    "# 두 개의 정수(매개변수) parameter를 설정\n",
    "# 첫 번째 매개변수보다 크고 두 번째 매개변수보다 작은 구간에서 정수형 난수 생성\n",
    "# (\"A\"+생성된 정수)에 해당하는 대문자를 출력\n",
    "# 함수를 10번 호출하여 결과를 출력"
   ]
  },
  {
   "cell_type": "code",
   "execution_count": 2,
   "id": "f1c3785d",
   "metadata": {},
   "outputs": [
    {
     "name": "stdout",
     "output_type": "stream",
     "text": [
      "7 H\n",
      "2 C\n",
      "11 L\n",
      "10 K\n",
      "11 L\n",
      "11 L\n",
      "9 J\n",
      "16 Q\n",
      "13 N\n",
      "11 L\n"
     ]
    }
   ],
   "source": [
    "import random\n",
    "\n",
    "def gen_random(a,b):\n",
    "    r = random.randrange(a,b)\n",
    "    c = chr(65+r)\n",
    "    print(r, c)\n",
    "    \n",
    "for i in range(10):\n",
    "    gen_random(i+1, i+10)"
   ]
  }
 ],
 "metadata": {
  "kernelspec": {
   "display_name": "Python 3 (ipykernel)",
   "language": "python",
   "name": "python3"
  },
  "language_info": {
   "codemirror_mode": {
    "name": "ipython",
    "version": 3
   },
   "file_extension": ".py",
   "mimetype": "text/x-python",
   "name": "python",
   "nbconvert_exporter": "python",
   "pygments_lexer": "ipython3",
   "version": "3.9.12"
  }
 },
 "nbformat": 4,
 "nbformat_minor": 5
}
