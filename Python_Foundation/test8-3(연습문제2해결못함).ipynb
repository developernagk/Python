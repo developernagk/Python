{
 "cells": [
  {
   "cell_type": "code",
   "execution_count": 1,
   "id": "8d221b58",
   "metadata": {},
   "outputs": [],
   "source": [
    "import turtle\n",
    "\n",
    "def drawPolygon(sideLength, numSides, col) :\n",
    "    t = turtle.Turtle()\n",
    "    t.color(col)\n",
    "    turnAngle = 360 / numSides\n",
    "    for i in range(numSides) :\n",
    "        t.forward(sideLength)\n",
    "        t.right(turnAngle)\n",
    "        \n",
    "drawPolygon(50, 4, \"green\")\n",
    "drawPolygon(60, 5, \"darkgrey\")\n",
    "drawPolygon(70, 8, \"orange\")\n",
    "drawPolygon(15, 30, \"red\")"
   ]
  },
  {
   "cell_type": "code",
   "execution_count": null,
   "id": "5d125fc2",
   "metadata": {},
   "outputs": [],
   "source": [
    "# 함수명 : drawPolygon\n",
    "# 파라미터 수 : 3\n",
    "# 파라미터 데이터형 : 정수형, 문자형\n",
    "# 함수의 기능 : 다각형 그리기\n",
    "# 함수 호출 횟수 : 4"
   ]
  },
  {
   "cell_type": "code",
   "execution_count": null,
   "id": "38896fac",
   "metadata": {},
   "outputs": [],
   "source": [
    "t = turtle.Turtle()\n",
    "\n",
    "def drawPolygon(sideLength, numSides, color) :\n",
    "    t.color(color)\n",
    "    turnAngle = 360 / numSides\n",
    "    for i in range(numSides) :\n",
    "        t.pendown()\n",
    "        t.forward(sideLength)\n",
    "        t.right(turnAngle)"
   ]
  },
  {
   "cell_type": "code",
   "execution_count": null,
   "id": "b37a8aa4",
   "metadata": {},
   "outputs": [],
   "source": [
    "for i in range(3) :\n",
    "    t.penup()\n",
    "    t.setposition(40 * i,0)\n",
    "    drawPolygon(20, 6, \"blue\")"
   ]
  },
  {
   "cell_type": "code",
   "execution_count": null,
   "id": "80edd82b",
   "metadata": {},
   "outputs": [],
   "source": [
    "for i in range(5) :\n",
    "    t.penup()\n",
    "    t.setposition(40 * (i - 2),-100)\n",
    "    drawPolygon(40, 4, \"violet\")"
   ]
  },
  {
   "cell_type": "code",
   "execution_count": null,
   "id": "3028a326",
   "metadata": {},
   "outputs": [],
   "source": [
    "# 함수명 : drawPolygon\n",
    "# 파라미터 수 : 3\n",
    "# 파라미터 데이터형 : 정수형, 문자형\n",
    "# 함수의 기능 : 다각형 그리기\n",
    "# 함수 호출 횟수 : 8"
   ]
  },
  {
   "cell_type": "code",
   "execution_count": null,
   "id": "7ad7d857",
   "metadata": {},
   "outputs": [],
   "source": [
    "import turtle\n",
    "\n",
    "def square(t, size, color) :\n",
    "    t.color(color)\n",
    "    for i in range(4) :\n",
    "        t.forward(size)\n",
    "        t.right(90)\n",
    "        \n",
    "t = turtle.Turtle()\n",
    "t.pensize(3)\n",
    "colors = ['red', 'orange', 'yellow', 'green', 'blue', 'violet']\n",
    "\n",
    "i = 0\n",
    "for color in colors :\n",
    "    square(t, 30 * (i + 1), color)\n",
    "    i = i + 1"
   ]
  },
  {
   "cell_type": "code",
   "execution_count": null,
   "id": "0172f731",
   "metadata": {},
   "outputs": [],
   "source": [
    "# 함수명 : square\n",
    "# 파라미터 수 : 3\n",
    "# 파라미터 데이터형 : object, 숫자, 문자\n",
    "# 함수의 기능 : 사각형 그리기\n",
    "# 함수 호출 횟수 : 6"
   ]
  },
  {
   "cell_type": "code",
   "execution_count": null,
   "id": "82c9c619",
   "metadata": {},
   "outputs": [],
   "source": [
    "import turtle\n",
    "\n",
    "def flower(t, n, r, angle) :\n",
    "    for i in range(n) :\n",
    "        for i in range(2) :\n",
    "            t.circle(r,angle)\n",
    "            t.left(180 - angle)\n",
    "        t.left(360.0 / n)\n",
    "        \n",
    "def move(t, length) :\n",
    "    t.pu()\n",
    "    t.fd(length)\n",
    "    t.pd()\n",
    "    \n",
    "b = turtle.Pen()\n",
    "b.color(\"darkgreen\")\n",
    "move(b, -100)\n",
    "for i in range(3) :\n",
    "    flower(b, 6, 30.0 + (10 * i), 60.0)\n",
    "    b.width(2 * i)"
   ]
  },
  {
   "cell_type": "code",
   "execution_count": null,
   "id": "81ecb97c",
   "metadata": {},
   "outputs": [],
   "source": [
    "# 함수명 : flower, move\n",
    "# 파라미터 수 : 4, 2\n",
    "# 함수 호출 횟수 : 3, 1"
   ]
  },
  {
   "cell_type": "code",
   "execution_count": null,
   "id": "9bf045ba",
   "metadata": {},
   "outputs": [],
   "source": [
    "import turtle\n",
    "\n",
    "def hexagon() :\n",
    "    for i in range(6) :\n",
    "        turtle.forward(100)\n",
    "        turtle.left(60)\n",
    "        \n",
    "turtle.color('red')\n",
    "hexagon()\n",
    "\n",
    "for i in range(6) :\n",
    "    hexagon()\n",
    "    turtle.forward(100)\n",
    "    turtle.right(60)"
   ]
  },
  {
   "cell_type": "code",
   "execution_count": null,
   "id": "53a0484f",
   "metadata": {},
   "outputs": [],
   "source": [
    "# 함수명 : hexagon\n",
    "# 함수의 기능 : 육각형 그리기\n",
    "# 함수 호출 횟수 : 7"
   ]
  },
  {
   "cell_type": "code",
   "execution_count": 1,
   "id": "183af3ae",
   "metadata": {},
   "outputs": [
    {
     "name": "stdout",
     "output_type": "stream",
     "text": [
      "[6, 6, 8]\n"
     ]
    }
   ],
   "source": [
    "# 정수형 난수(generate random integer)\n",
    "\n",
    "import random\n",
    "originNumber=[]\n",
    "\n",
    "for i in range(3) :\n",
    "    originNumber.append(random.randrange(1, 9))\n",
    "\n",
    "print(originNumber)"
   ]
  },
  {
   "cell_type": "code",
   "execution_count": 2,
   "id": "a93c4368",
   "metadata": {},
   "outputs": [
    {
     "name": "stdout",
     "output_type": "stream",
     "text": [
      "[6, 6, 8, 80, 15, 60, 25, 85]\n"
     ]
    }
   ],
   "source": [
    "for i in range(5) :\n",
    "    originNumber.append(random.randrange(10, 100, 5))\n",
    "\n",
    "print(originNumber)"
   ]
  },
  {
   "cell_type": "code",
   "execution_count": 3,
   "id": "c927e487",
   "metadata": {},
   "outputs": [
    {
     "name": "stdout",
     "output_type": "stream",
     "text": [
      "random float from 1 to 2 =  1.4233611541892444\n",
      "random float from 1 to 2 =  1.4091695638178416\n",
      "random float from 1 to 2 =  1.6781614367893365\n",
      "**************************************************\n",
      "random float from 11 to 13 =  12.238864910850504\n",
      "random float from 11 to 13 =  12.39121008801913\n",
      "random float from 11 to 13 =  12.612624936895083\n"
     ]
    }
   ],
   "source": [
    "# 실수형 난수(generate random float)\n",
    "\n",
    "import random\n",
    "\n",
    "for i in range(3) :\n",
    "    print(\"random float from 1 to 2 = \", random.uniform(1,2))\n",
    "\n",
    "print(\"*\" * 50)\n",
    "\n",
    "for i in range(3) :\n",
    "    print(\"random float from 11 to 13 = \", random.uniform(11,13))"
   ]
  },
  {
   "cell_type": "code",
   "execution_count": 4,
   "id": "6d2d4c02",
   "metadata": {},
   "outputs": [
    {
     "name": "stdout",
     "output_type": "stream",
     "text": [
      "select from numList =  3\n",
      "select from numList =  9\n",
      "select from numList =  15\n",
      "select from numList =  7\n",
      "select from numList =  1\n",
      "**************************************************\n",
      "select from fruitList =  apple\n",
      "select from fruitList =  citrus\n",
      "select from fruitList =  apple\n"
     ]
    }
   ],
   "source": [
    "# 리스트에서 아이템 한 개 선정(generate random value from list)\n",
    "\n",
    "import random\n",
    "numList = [1,3,5,2,2,1,35,5,9,9,5,11,15,5,7]\n",
    "fruitList = [\"apple\", \"banana\", \"citrus\", \"blackberry\", \"lemon\"]\n",
    "\n",
    "for i in range(5) :\n",
    "    print(\"select from numList = \", random.choice(numList))\n",
    "    \n",
    "print(\"*\" * 50)\n",
    "\n",
    "for i in range(3) :\n",
    "    print(\"select from fruitList = \", random.choice(fruitList))"
   ]
  },
  {
   "cell_type": "code",
   "execution_count": 5,
   "id": "16f7cc0c",
   "metadata": {},
   "outputs": [
    {
     "name": "stdout",
     "output_type": "stream",
     "text": [
      "random.sample(range(1, 10), 5) =  [1, 7, 2, 6, 3]\n",
      "random.sample(random_list, 2) =  [1, 3]\n",
      "random.sample(range(5, 90, 4), 10) =  [37, 69, 49, 65, 33, 61, 89, 77, 13, 53]\n"
     ]
    }
   ],
   "source": [
    "# 리스트에서 중복없이 여러 개 선정(select random integer without repetition)\n",
    "\n",
    "import random\n",
    "\n",
    "random_list = random.sample(range(1, 10), 5)\n",
    "print(\"random.sample(range(1, 10), 5) = \", random_list)\n",
    "\n",
    "random_list = random.sample(random_list, 2)\n",
    "print(\"random.sample(random_list, 2) = \", random_list)\n",
    "\n",
    "random_list = random.sample(range(5, 90, 4), 10)\n",
    "print(\"random.sample(range(5, 90, 4), 10) = \", random_list)"
   ]
  },
  {
   "cell_type": "code",
   "execution_count": 6,
   "id": "9c059fb2",
   "metadata": {},
   "outputs": [
    {
     "name": "stdout",
     "output_type": "stream",
     "text": [
      "11\n",
      "25\n",
      "5\n"
     ]
    }
   ],
   "source": [
    "# 연습문제1\n",
    "# list이름과 정수를 parameter로 입력하는 함수를 정의\n",
    "# 함수는 list 아이템 중 하나를 랜덤으로 선택해서 보여줌\n",
    "# 입력한 개수만큼 랜덤 값을 보여줌\n",
    "# return문은 사용하지 않음\n",
    "\n",
    "import random\n",
    "\n",
    "def random_picker(lists, number) :\n",
    "    for i in range(number) :\n",
    "        print(random.choice(lists))\n",
    "        \n",
    "num_list = [3,1,7,11,25,5,4,9]\n",
    "\n",
    "random_picker(num_list, 3)"
   ]
  },
  {
   "cell_type": "code",
   "execution_count": 7,
   "id": "650d59c7",
   "metadata": {},
   "outputs": [],
   "source": [
    "# 연습문제2\n",
    "# 두 개의 정수 parameter(매개변수)를 설정\n",
    "# 첫 번째 매개변수보다 크고 두 번째 매개변수보다 작은 구간에서 정수형 난수 생성\n",
    "# (\"A\"+생성된 정수)에 해당하는 대문자를 출력\n",
    "# 함수를 10번 호출하여 결과를 출력"
   ]
  },
  {
   "cell_type": "code",
   "execution_count": 10,
   "id": "0486b042",
   "metadata": {},
   "outputs": [
    {
     "ename": "SyntaxError",
     "evalue": "invalid syntax (1754710742.py, line 3)",
     "output_type": "error",
     "traceback": [
      "\u001b[0;36m  Input \u001b[0;32mIn [10]\u001b[0;36m\u001b[0m\n\u001b[0;31m    def gen_random(a,10):\u001b[0m\n\u001b[0m                     ^\u001b[0m\n\u001b[0;31mSyntaxError\u001b[0m\u001b[0;31m:\u001b[0m invalid syntax\n"
     ]
    }
   ],
   "source": [
    "import random\n",
    "\n",
    "def gen_random(a,10):\n",
    "    \n",
    "r = random.randrange(a,b)\n",
    "c = chr(65+r)\n",
    "print(r, c)\n",
    "\n",
    "for i in range(10):\n",
    "    gen_random(i + 1, i + 10)"
   ]
  }
 ],
 "metadata": {
  "kernelspec": {
   "display_name": "Python 3 (ipykernel)",
   "language": "python",
   "name": "python3"
  },
  "language_info": {
   "codemirror_mode": {
    "name": "ipython",
    "version": 3
   },
   "file_extension": ".py",
   "mimetype": "text/x-python",
   "name": "python",
   "nbconvert_exporter": "python",
   "pygments_lexer": "ipython3",
   "version": "3.9.12"
  }
 },
 "nbformat": 4,
 "nbformat_minor": 5
}
