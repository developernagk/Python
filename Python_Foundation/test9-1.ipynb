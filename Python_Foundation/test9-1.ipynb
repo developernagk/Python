{
 "cells": [
  {
   "cell_type": "code",
   "execution_count": null,
   "id": "a5aa72cd",
   "metadata": {},
   "outputs": [],
   "source": [
    "# eval()\n",
    "\n",
    "def dump(expression) :\n",
    "    result = eval(expression)\n",
    "    print(expression, \" => \", result, type(result))\n",
    "    \n",
    "dump(\"1\")\n",
    "dump(\"1.0\")\n",
    "dump(\"string\")\n",
    "dump(\"1.0 + 2.0\")\n",
    "dump(\"'*' * 10\")\n",
    "dump(\"len('world')\")"
   ]
  },
  {
   "cell_type": "code",
   "execution_count": null,
   "id": "2162eeb4",
   "metadata": {},
   "outputs": [],
   "source": [
    "import string\n",
    "\n",
    "text = \"All that I need you\"\n",
    "\n",
    "print(\"capword\", \" => \", string.capword(text))\n",
    "\n",
    "print(\"upper\", \" => \", text.upper())\n",
    "print(\"lower\", \" => \", text.lower())\n",
    "print(\"split\", \" => \", text.split())\n",
    "print(\"replace\", \" => \", text.replace(\"you\", \"him\"))\n",
    "print(\"find\", \" => \", text.find(\"All\"))\n",
    "print(\"count\", \" => \", text.count(\"e\"))"
   ]
  },
  {
   "cell_type": "code",
   "execution_count": 1,
   "id": "5f66250e",
   "metadata": {},
   "outputs": [
    {
     "name": "stdout",
     "output_type": "stream",
     "text": [
      "30글자 이상 영어문장 입력: My ideal type is billionare\n",
      "알파벳 개수 :  23 대문자 개수 :  1 소문자 개수 :  22\n"
     ]
    }
   ],
   "source": [
    "# 연습문제1\n",
    "# 스트링 변환하기, 사용자에게 30글자 이상의 영어문장을 입력 받음\n",
    "# 알파벳이 몇 개로 구성되었는지 출력, 대문자 소문자 각각 몇 개로 구성되었는지 출력\n",
    "\n",
    "input_str = input(\"30글자 이상 영어문장 입력: \")\n",
    "alpha = 0\n",
    "upper = 0\n",
    "lower = 0\n",
    "\n",
    "for letter in input_str :\n",
    "    alpha = alpha + letter.isalpha()\n",
    "    upper = upper + letter.isupper()\n",
    "    lower = lower + letter.islower()\n",
    "    \n",
    "print(\"알파벳 개수 : \", alpha, \"대문자 개수 : \", upper, \"소문자 개수 : \", lower)"
   ]
  },
  {
   "cell_type": "code",
   "execution_count": 6,
   "id": "9db85c73",
   "metadata": {},
   "outputs": [
    {
     "data": {
      "text/plain": [
       "1.0"
      ]
     },
     "execution_count": 6,
     "metadata": {},
     "output_type": "execute_result"
    }
   ],
   "source": [
    "# math module 예제\n",
    "\n",
    "import math\n",
    "\n",
    "math.fmod(5.0, 2.0) # 실수형의 나머지 연산"
   ]
  },
  {
   "cell_type": "code",
   "execution_count": 7,
   "id": "b2d94d13",
   "metadata": {},
   "outputs": [
    {
     "data": {
      "text/plain": [
       "120"
      ]
     },
     "execution_count": 7,
     "metadata": {},
     "output_type": "execute_result"
    }
   ],
   "source": [
    "math.factorial(5) # 정수의 factorial"
   ]
  },
  {
   "cell_type": "code",
   "execution_count": 9,
   "id": "216e898a",
   "metadata": {},
   "outputs": [
    {
     "data": {
      "text/plain": [
       "2.0"
      ]
     },
     "execution_count": 9,
     "metadata": {},
     "output_type": "execute_result"
    }
   ],
   "source": [
    "math.log(100, 10) # log값"
   ]
  },
  {
   "cell_type": "code",
   "execution_count": 10,
   "id": "d8ae239e",
   "metadata": {},
   "outputs": [
    {
     "data": {
      "text/plain": [
       "8.0"
      ]
     },
     "execution_count": 10,
     "metadata": {},
     "output_type": "execute_result"
    }
   ],
   "source": [
    "math.pow(2, 3) # 승"
   ]
  },
  {
   "cell_type": "code",
   "execution_count": 11,
   "id": "7b4445f4",
   "metadata": {},
   "outputs": [
    {
     "data": {
      "text/plain": [
       "4.0"
      ]
     },
     "execution_count": 11,
     "metadata": {},
     "output_type": "execute_result"
    }
   ],
   "source": [
    "math.sqrt(16)"
   ]
  },
  {
   "cell_type": "code",
   "execution_count": 12,
   "id": "ef2e863d",
   "metadata": {},
   "outputs": [
    {
     "data": {
      "text/plain": [
       "2.718281828459045"
      ]
     },
     "execution_count": 12,
     "metadata": {},
     "output_type": "execute_result"
    }
   ],
   "source": [
    "math.e # 자연로그 값"
   ]
  },
  {
   "cell_type": "code",
   "execution_count": 13,
   "id": "cfca02c7",
   "metadata": {},
   "outputs": [
    {
     "name": "stdout",
     "output_type": "stream",
     "text": [
      "(-1.0, -4.0)\n"
     ]
    }
   ],
   "source": [
    "# 연습문제2\n",
    "# math module을 활용하여 이차방정식의 근의 공식을 만듦\n",
    "# 이차방정식의 a,b,c 값을 입력 받아 실근을 출력, a,b,c 값에 따라 함수를 선택하여 근을 계산\n",
    "\n",
    "# 실근만 처리\n",
    "\n",
    "import math\n",
    "\n",
    "def roots_formula(a, b, c) :\n",
    "    d = b ** 2 - 4 * a * c # 판별식 계산\n",
    "    if d > 0 :\n",
    "        root1 = (-b + math.sqrt(d)) / (2 * a)\n",
    "        root2 = (-b - math.sqrt(d)) / (2 * a)\n",
    "        return root1, root2\n",
    "    elif d == 0 :\n",
    "        root1 = (-b / (2 * a))\n",
    "        return root1\n",
    "    else : # 허근일 경우 false로 처리\n",
    "        return False\n",
    "    \n",
    "r = roots_formula(1, 5, 4)\n",
    "print(r)"
   ]
  },
  {
   "cell_type": "code",
   "execution_count": 15,
   "id": "88cfe92d",
   "metadata": {},
   "outputs": [
    {
     "name": "stdout",
     "output_type": "stream",
     "text": [
      "[(-1.5+1.6583123951777j), (-1.5+1.6583123951777j)]\n"
     ]
    }
   ],
   "source": [
    "# 연습문제2\n",
    "\n",
    "# 허근 포함\n",
    "\n",
    "import math, cmath\n",
    "\n",
    "def deter(a, b, c) :\n",
    "    return math.pow(b, 2) - 4 * a * c\n",
    "\n",
    "def roots_formula(a, b, c) :\n",
    "    if deter(a, b, c) >= 0 :\n",
    "        root01 = (-b + math.sqrt(deter(a,b,c))) / (2 * a)\n",
    "        root02 = (-b - math.sqrt(deter(a,b,c))) / (2 * a)\n",
    "    else :\n",
    "        root01_real = -b / (2 * a)\n",
    "        root01_imag = (math.sqrt(math.fabs(deter(a,b,c)))) / (2 * a)\n",
    "        root02_real = -b / (2 * a)\n",
    "        root02_imag = (math.sqrt(math.fabs(deter(a,b,c)))) / (2 * a)\n",
    "        root01 = root01_real + root01_imag * 1j\n",
    "        root02 = root02_real + root02_imag * 1j\n",
    "        \n",
    "    return [root01, root02]\n",
    "\n",
    "print(roots_formula(1, 3, 5))"
   ]
  },
  {
   "cell_type": "code",
   "execution_count": 16,
   "id": "15657120",
   "metadata": {},
   "outputs": [
    {
     "name": "stdout",
     "output_type": "stream",
     "text": [
      "각도[degree]: 80\n",
      "degree: 80.0 , radian: 1.3962634015954636\n",
      "sin: 0.984807753012208 cos: 0.17364817766693041 tan 5.6712818196177075\n"
     ]
    }
   ],
   "source": [
    "# 연습문제3\n",
    "# math module을 활용하여 사용자에게 각도(degree)를 입력 받음\n",
    "# 입력 값을 radian 값을 바꾼 후 다음의 삼각함수 값을 출력\n",
    "# sin(), cos(), tan()\n",
    "\n",
    "import math\n",
    "\n",
    "angle = float(input(\"각도[degree]: \"))\n",
    "rad = math.radians(angle) # radian 값으로 바꾸기\n",
    "\n",
    "result_sin = math.sin(rad)\n",
    "result_cos = math.cos(rad)\n",
    "result_tan = math.tan(rad)\n",
    "\n",
    "print(\"degree:\", angle, \", radian:\", rad)\n",
    "print(\"sin:\", result_sin, \"cos:\", result_cos, \"tan\", result_tan)"
   ]
  },
  {
   "cell_type": "code",
   "execution_count": 17,
   "id": "70faa2c1",
   "metadata": {},
   "outputs": [
    {
     "name": "stdout",
     "output_type": "stream",
     "text": [
      "2022-10-13\n"
     ]
    }
   ],
   "source": [
    "# datetime 예제\n",
    "\n",
    "import time\n",
    "from datetime import date\n",
    "\n",
    "today = date.today()\n",
    "print(today)"
   ]
  },
  {
   "cell_type": "code",
   "execution_count": 18,
   "id": "0374a6bf",
   "metadata": {},
   "outputs": [
    {
     "name": "stdout",
     "output_type": "stream",
     "text": [
      "2023-02-24\n"
     ]
    }
   ],
   "source": [
    "Bday = date(today.year + 1, 2, 24)\n",
    "print(Bday)"
   ]
  },
  {
   "cell_type": "code",
   "execution_count": 19,
   "id": "5551cbdd",
   "metadata": {},
   "outputs": [
    {
     "name": "stdout",
     "output_type": "stream",
     "text": [
      "134 days, 0:00:00\n"
     ]
    }
   ],
   "source": [
    "due = abs(Bday - today)\n",
    "print(due)"
   ]
  },
  {
   "cell_type": "code",
   "execution_count": 21,
   "id": "e8aa7687",
   "metadata": {},
   "outputs": [
    {
     "name": "stdout",
     "output_type": "stream",
     "text": [
      "생일을 입력하세요 [ex) 3월 15일 = 3 15] : 1 2\n",
      "생일까지 남은 날짜는:  81\n"
     ]
    }
   ],
   "source": [
    "# 연습문제4\n",
    "# 부모님 생일이 며칠 남았는지 계산\n",
    "# 사용자에게 생일을 입력 요청, 오늘부터 생일까지 며칠 남았는지 계산하여 출력\n",
    "\n",
    "from datetime import date\n",
    "\n",
    "birthday = input(\"생일을 입력하세요 [ex) 3월 15일 = 3 15] : \")\n",
    "birthday = birthday.split()\n",
    "today = date.today()\n",
    "birthday = date(today.year, int(birthday[0]), int(birthday[1]))\n",
    "\n",
    "due = birthday - today\n",
    "if due.days < 0 :\n",
    "    next_birthday = date(today.year + 1, birthday.month, birthday.day)\n",
    "    due = next_birthday - today\n",
    "    \n",
    "print(\"생일까지 남은 날짜는: \", due.days)"
   ]
  }
 ],
 "metadata": {
  "kernelspec": {
   "display_name": "Python 3 (ipykernel)",
   "language": "python",
   "name": "python3"
  },
  "language_info": {
   "codemirror_mode": {
    "name": "ipython",
    "version": 3
   },
   "file_extension": ".py",
   "mimetype": "text/x-python",
   "name": "python",
   "nbconvert_exporter": "python",
   "pygments_lexer": "ipython3",
   "version": "3.9.12"
  }
 },
 "nbformat": 4,
 "nbformat_minor": 5
}
