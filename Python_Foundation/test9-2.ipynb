{
 "cells": [
  {
   "cell_type": "code",
   "execution_count": 1,
   "id": "66cd95d4",
   "metadata": {},
   "outputs": [
    {
     "name": "stdout",
     "output_type": "stream",
     "text": [
      "5\n",
      "4\n",
      "3\n",
      "2\n",
      "1\n"
     ]
    }
   ],
   "source": [
    "# 스스로 부르는 함수\n",
    "\n",
    "def countdown(n) :\n",
    "    print(n)\n",
    "    if n > 1 :\n",
    "        countdown(n - 1)\n",
    "        \n",
    "countdown(5)"
   ]
  },
  {
   "cell_type": "code",
   "execution_count": 2,
   "id": "4ed46d78",
   "metadata": {},
   "outputs": [
    {
     "name": "stdout",
     "output_type": "stream",
     "text": [
      "6561\n"
     ]
    }
   ],
   "source": [
    "# 예제1(pow)\n",
    "\n",
    "def pow(n1, n2) :\n",
    "    if n2 == 0 :\n",
    "        return 1\n",
    "    else :\n",
    "        return(n1 * pow(n1, n2 - 1))\n",
    "    \n",
    "print(pow(3, 8))"
   ]
  },
  {
   "cell_type": "code",
   "execution_count": 3,
   "id": "9b4d4946",
   "metadata": {},
   "outputs": [
    {
     "name": "stdout",
     "output_type": "stream",
     "text": [
      "3\n",
      "6\n",
      "9\n",
      "12\n",
      "15\n",
      "18\n",
      "21\n",
      "24\n",
      "27\n"
     ]
    }
   ],
   "source": [
    "# 예제2(f(n) = 3 * n)\n",
    "# f(n) = 3 * n : 3의 배수의 재귀 함수 버전\n",
    "\n",
    "def mult3(n) :\n",
    "    if n == 1 :\n",
    "        return 3\n",
    "    else :\n",
    "        return mult3(n - 1) + 3\n",
    "    \n",
    "for i in range(1, 10) :\n",
    "    print(mult3(i))"
   ]
  },
  {
   "cell_type": "code",
   "execution_count": 4,
   "id": "501f0783",
   "metadata": {},
   "outputs": [
    {
     "name": "stdout",
     "output_type": "stream",
     "text": [
      "3\n",
      "6\n",
      "9\n",
      "12\n",
      "15\n",
      "18\n",
      "21\n",
      "24\n",
      "27\n"
     ]
    }
   ],
   "source": [
    "# 연습문제1(위의 예제를 반복문으로 변경)\n",
    "\n",
    "def mult3(n) :\n",
    "    if n == 1 :\n",
    "        return 3\n",
    "    else :\n",
    "        for i in range(1, n) :\n",
    "            return 3 * n\n",
    "        \n",
    "for i in range(1, 10) :\n",
    "    print(mult3(i))"
   ]
  },
  {
   "cell_type": "code",
   "execution_count": 5,
   "id": "08689dc8",
   "metadata": {},
   "outputs": [
    {
     "name": "stdout",
     "output_type": "stream",
     "text": [
      "012345\n"
     ]
    }
   ],
   "source": [
    "# 예제3(pattern())\n",
    "\n",
    "def pattern(n) :\n",
    "    if n == 0 :\n",
    "        print(0, end = '')\n",
    "    else :\n",
    "        pattern(n - 1)\n",
    "        print(n, end = '')\n",
    "        \n",
    "        \n",
    "pattern(5)\n",
    "print()"
   ]
  },
  {
   "cell_type": "code",
   "execution_count": 6,
   "id": "dd2c393f",
   "metadata": {},
   "outputs": [
    {
     "name": "stdout",
     "output_type": "stream",
     "text": [
      "01234567891011"
     ]
    }
   ],
   "source": [
    "pattern(11)"
   ]
  },
  {
   "cell_type": "code",
   "execution_count": 9,
   "id": "1673e8ac",
   "metadata": {},
   "outputs": [
    {
     "name": "stdout",
     "output_type": "stream",
     "text": [
      "input an integer : 5\n",
      "factorial has been called with n =5\n",
      "factorial has been called with n =4\n",
      "factorial has been called with n =3\n",
      "factorial has been called with n =2\n",
      "factorial has been called with n =1\n",
      "intermediate result for  2  * factorial( 1 ):  2\n",
      "intermediate result for  3  * factorial( 2 ):  6\n",
      "intermediate result for  4  * factorial( 3 ):  24\n",
      "intermediate result for  5  * factorial( 4 ):  120\n",
      "120\n"
     ]
    }
   ],
   "source": [
    "# 에제4(factorial)\n",
    "\n",
    "def factorial(n) :\n",
    "    print(\"factorial has been called with n =\" + str(n))\n",
    "    if n == 1 :  # terminate condition\n",
    "        return 1\n",
    "    else :\n",
    "        res = n * factorial(n - 1)\n",
    "        print(\"intermediate result for \", n,\" * factorial(\",n - 1,\"): \", res)\n",
    "        return res\n",
    "    \n",
    "i = int(input(\"input an integer : \"))\n",
    "print(factorial(i))"
   ]
  },
  {
   "cell_type": "code",
   "execution_count": 10,
   "id": "52678a27",
   "metadata": {},
   "outputs": [
    {
     "name": "stdout",
     "output_type": "stream",
     "text": [
      "1\n",
      "1\n",
      "2\n",
      "3\n",
      "5\n",
      "8\n",
      "13\n",
      "21\n",
      "34\n",
      "55\n",
      "89\n",
      "144\n",
      "233\n",
      "377\n"
     ]
    }
   ],
   "source": [
    "# 연습문제2\n",
    "# 피보나치 수열을 재귀 함수로 정의\n",
    "\n",
    "def fibo(n) :\n",
    "    if n == 1 or n == 2 :\n",
    "        return 1\n",
    "    else :\n",
    "        return fibo(n - 1) + fibo(n - 2)\n",
    "    \n",
    "for i in range(1, 15) :\n",
    "    print(fibo(i))"
   ]
  }
 ],
 "metadata": {
  "kernelspec": {
   "display_name": "Python 3 (ipykernel)",
   "language": "python",
   "name": "python3"
  },
  "language_info": {
   "codemirror_mode": {
    "name": "ipython",
    "version": 3
   },
   "file_extension": ".py",
   "mimetype": "text/x-python",
   "name": "python",
   "nbconvert_exporter": "python",
   "pygments_lexer": "ipython3",
   "version": "3.9.12"
  }
 },
 "nbformat": 4,
 "nbformat_minor": 5
}
