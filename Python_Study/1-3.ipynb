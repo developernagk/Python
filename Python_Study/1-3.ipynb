{
 "cells": [
  {
   "cell_type": "code",
   "execution_count": 1,
   "id": "4d511abd",
   "metadata": {},
   "outputs": [
    {
     "name": "stdout",
     "output_type": "stream",
     "text": [
      "Python Programming\n"
     ]
    },
    {
     "data": {
      "text/plain": [
       "30"
      ]
     },
     "execution_count": 1,
     "metadata": {},
     "output_type": "execute_result"
    }
   ],
   "source": [
    "# 실행되는 모든 한 줄 코드는 문장입니다.\n",
    "print(\"Python Programming\") # 문장\n",
    "10 + 20 # 문장"
   ]
  },
  {
   "cell_type": "code",
   "execution_count": 2,
   "id": "0672e1fc",
   "metadata": {},
   "outputs": [
    {
     "name": "stdout",
     "output_type": "stream",
     "text": [
      "['False', 'None', 'True', '__peg_parser__', 'and', 'as', 'assert', 'async', 'await', 'break', 'class', 'continue', 'def', 'del', 'elif', 'else', 'except', 'finally', 'for', 'from', 'global', 'if', 'import', 'in', 'is', 'lambda', 'nonlocal', 'not', 'or', 'pass', 'raise', 'return', 'try', 'while', 'with', 'yield']\n"
     ]
    }
   ],
   "source": [
    "import keyword # 파이썬에서 사용할 수 있는 키워드\n",
    "print(keyword.kwlist)"
   ]
  },
  {
   "cell_type": "code",
   "execution_count": 3,
   "id": "abe5c06b",
   "metadata": {},
   "outputs": [
    {
     "name": "stdout",
     "output_type": "stream",
     "text": [
      "Hello! Python Programming...\n"
     ]
    }
   ],
   "source": [
    "# 간단히 출력하는 예입니다.\n",
    "print(\"Hello! Python Programming...\") # 문자열을 출력합니다."
   ]
  },
  {
   "cell_type": "code",
   "execution_count": 4,
   "id": "fce67d06",
   "metadata": {},
   "outputs": [
    {
     "data": {
      "text/plain": [
       "2"
      ]
     },
     "execution_count": 4,
     "metadata": {},
     "output_type": "execute_result"
    }
   ],
   "source": [
    "1 + 1 # 연산자"
   ]
  },
  {
   "cell_type": "code",
   "execution_count": 5,
   "id": "7055002b",
   "metadata": {},
   "outputs": [
    {
     "data": {
      "text/plain": [
       "0"
      ]
     },
     "execution_count": 5,
     "metadata": {},
     "output_type": "execute_result"
    }
   ],
   "source": [
    "10 - 10 # 연산자"
   ]
  },
  {
   "cell_type": "code",
   "execution_count": 6,
   "id": "6c72de37",
   "metadata": {},
   "outputs": [
    {
     "name": "stdout",
     "output_type": "stream",
     "text": [
      "Hello Python Programming...!\n"
     ]
    }
   ],
   "source": [
    "print(\"Hello Python Programming...!\")"
   ]
  },
  {
   "cell_type": "code",
   "execution_count": 7,
   "id": "10791727",
   "metadata": {},
   "outputs": [
    {
     "name": "stdout",
     "output_type": "stream",
     "text": [
      "52\n"
     ]
    }
   ],
   "source": [
    "print(52)"
   ]
  },
  {
   "cell_type": "code",
   "execution_count": 8,
   "id": "52a7699e",
   "metadata": {},
   "outputs": [
    {
     "name": "stdout",
     "output_type": "stream",
     "text": [
      "273\n"
     ]
    }
   ],
   "source": [
    "print(273)"
   ]
  },
  {
   "cell_type": "code",
   "execution_count": 9,
   "id": "6ca9a8f5",
   "metadata": {},
   "outputs": [
    {
     "name": "stdout",
     "output_type": "stream",
     "text": [
      "52 273 Hello\n"
     ]
    }
   ],
   "source": [
    "print(52, 273, \"Hello\")"
   ]
  },
  {
   "cell_type": "code",
   "execution_count": 10,
   "id": "8a39d83d",
   "metadata": {},
   "outputs": [
    {
     "name": "stdout",
     "output_type": "stream",
     "text": [
      "안녕하세요 저의 이름은 김나경입니다!\n"
     ]
    }
   ],
   "source": [
    "print(\"안녕하세요\", \"저의\", \"이름은\", \"김나경입니다!\")"
   ]
  },
  {
   "cell_type": "code",
   "execution_count": 11,
   "id": "349e1f15",
   "metadata": {},
   "outputs": [
    {
     "name": "stdout",
     "output_type": "stream",
     "text": [
      "\n"
     ]
    }
   ],
   "source": [
    "print()"
   ]
  }
 ],
 "metadata": {
  "kernelspec": {
   "display_name": "Python 3 (ipykernel)",
   "language": "python",
   "name": "python3"
  },
  "language_info": {
   "codemirror_mode": {
    "name": "ipython",
    "version": 3
   },
   "file_extension": ".py",
   "mimetype": "text/x-python",
   "name": "python",
   "nbconvert_exporter": "python",
   "pygments_lexer": "ipython3",
   "version": "3.9.12"
  }
 },
 "nbformat": 4,
 "nbformat_minor": 5
}
