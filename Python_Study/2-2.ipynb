{
 "cells": [
  {
   "cell_type": "code",
   "execution_count": 1,
   "id": "3f419fa0",
   "metadata": {},
   "outputs": [
    {
     "name": "stdout",
     "output_type": "stream",
     "text": [
      "273\n"
     ]
    }
   ],
   "source": [
    "print(273)"
   ]
  },
  {
   "cell_type": "code",
   "execution_count": 2,
   "id": "a14f66bd",
   "metadata": {},
   "outputs": [
    {
     "name": "stdout",
     "output_type": "stream",
     "text": [
      "52.273\n"
     ]
    }
   ],
   "source": [
    "print(52.273)"
   ]
  },
  {
   "cell_type": "code",
   "execution_count": 3,
   "id": "1f226a1e",
   "metadata": {},
   "outputs": [
    {
     "name": "stdout",
     "output_type": "stream",
     "text": [
      "<class 'int'>\n"
     ]
    }
   ],
   "source": [
    "print(type(52))"
   ]
  },
  {
   "cell_type": "code",
   "execution_count": 4,
   "id": "ceb36bca",
   "metadata": {},
   "outputs": [
    {
     "name": "stdout",
     "output_type": "stream",
     "text": [
      "<class 'float'>\n"
     ]
    }
   ],
   "source": [
    "print(type(52.273))"
   ]
  },
  {
   "cell_type": "code",
   "execution_count": 5,
   "id": "71ae7aa6",
   "metadata": {},
   "outputs": [
    {
     "name": "stdout",
     "output_type": "stream",
     "text": [
      "0\n"
     ]
    }
   ],
   "source": [
    "print(0)"
   ]
  },
  {
   "cell_type": "code",
   "execution_count": 6,
   "id": "23358a14",
   "metadata": {},
   "outputs": [
    {
     "name": "stdout",
     "output_type": "stream",
     "text": [
      "<class 'int'>\n"
     ]
    }
   ],
   "source": [
    "print(type(0))"
   ]
  },
  {
   "cell_type": "code",
   "execution_count": 7,
   "id": "1a377286",
   "metadata": {},
   "outputs": [
    {
     "name": "stdout",
     "output_type": "stream",
     "text": [
      "0.0\n"
     ]
    }
   ],
   "source": [
    "print(0.0)"
   ]
  },
  {
   "cell_type": "code",
   "execution_count": 8,
   "id": "d211ae4f",
   "metadata": {},
   "outputs": [
    {
     "name": "stdout",
     "output_type": "stream",
     "text": [
      "<class 'float'>\n"
     ]
    }
   ],
   "source": [
    "print(type(0.0))"
   ]
  },
  {
   "cell_type": "code",
   "execution_count": 9,
   "id": "16d3018e",
   "metadata": {},
   "outputs": [
    {
     "name": "stdout",
     "output_type": "stream",
     "text": [
      "5 + 7 =  12\n"
     ]
    }
   ],
   "source": [
    "print(\"5 + 7 = \", 5 + 7)"
   ]
  },
  {
   "cell_type": "code",
   "execution_count": 10,
   "id": "b2c7da70",
   "metadata": {},
   "outputs": [
    {
     "name": "stdout",
     "output_type": "stream",
     "text": [
      "5 - 7 =  -2\n"
     ]
    }
   ],
   "source": [
    "print(\"5 - 7 = \", 5 - 7)"
   ]
  },
  {
   "cell_type": "code",
   "execution_count": 11,
   "id": "220899d1",
   "metadata": {},
   "outputs": [
    {
     "name": "stdout",
     "output_type": "stream",
     "text": [
      " 5 * 7 =  35\n"
     ]
    }
   ],
   "source": [
    "print(\" 5 * 7 = \", 5 * 7)"
   ]
  },
  {
   "cell_type": "code",
   "execution_count": 13,
   "id": "137e09f5",
   "metadata": {},
   "outputs": [
    {
     "name": "stdout",
     "output_type": "stream",
     "text": [
      " 5 / 7 =  0.7142857142857143\n"
     ]
    }
   ],
   "source": [
    "print(\" 5 / 7 = \", 5 / 7)"
   ]
  },
  {
   "cell_type": "code",
   "execution_count": 14,
   "id": "c76f6eb1",
   "metadata": {},
   "outputs": [
    {
     "name": "stdout",
     "output_type": "stream",
     "text": [
      "3 / 2 =  1.5\n"
     ]
    }
   ],
   "source": [
    "print(\"3 / 2 = \", 3 / 2)"
   ]
  },
  {
   "cell_type": "code",
   "execution_count": 15,
   "id": "8334cec0",
   "metadata": {},
   "outputs": [
    {
     "name": "stdout",
     "output_type": "stream",
     "text": [
      "3 // 2 =  1\n"
     ]
    }
   ],
   "source": [
    "print(\"3 // 2 = \", 3 // 2)"
   ]
  },
  {
   "cell_type": "code",
   "execution_count": 16,
   "id": "b4e2b483",
   "metadata": {},
   "outputs": [
    {
     "name": "stdout",
     "output_type": "stream",
     "text": [
      "5 % 2 =  1\n"
     ]
    }
   ],
   "source": [
    "print(\"5 % 2 = \", 5 % 2)"
   ]
  },
  {
   "cell_type": "code",
   "execution_count": 17,
   "id": "7c7804f8",
   "metadata": {},
   "outputs": [
    {
     "name": "stdout",
     "output_type": "stream",
     "text": [
      " 2 ** 1 =  2\n"
     ]
    }
   ],
   "source": [
    "print(\" 2 ** 1 = \", 2 ** 1)"
   ]
  },
  {
   "cell_type": "code",
   "execution_count": 18,
   "id": "fa60b41f",
   "metadata": {},
   "outputs": [
    {
     "name": "stdout",
     "output_type": "stream",
     "text": [
      "2 ** 2 =  4\n"
     ]
    }
   ],
   "source": [
    "print(\"2 ** 2 = \", 2 ** 2)"
   ]
  },
  {
   "cell_type": "code",
   "execution_count": 19,
   "id": "33f6c05d",
   "metadata": {},
   "outputs": [
    {
     "name": "stdout",
     "output_type": "stream",
     "text": [
      "2 ** 3 =  8\n"
     ]
    }
   ],
   "source": [
    "print(\"2 ** 3 = \", 2 ** 3)"
   ]
  },
  {
   "cell_type": "code",
   "execution_count": 20,
   "id": "0d50a89e",
   "metadata": {},
   "outputs": [
    {
     "name": "stdout",
     "output_type": "stream",
     "text": [
      "2 ** 4 =  16\n"
     ]
    }
   ],
   "source": [
    "print(\"2 ** 4 = \", 2 ** 4)"
   ]
  },
  {
   "cell_type": "code",
   "execution_count": 21,
   "id": "7f0f7fa2",
   "metadata": {},
   "outputs": [
    {
     "name": "stdout",
     "output_type": "stream",
     "text": [
      "0.0\n"
     ]
    }
   ],
   "source": [
    "print(2 + 2 - 2 * 2 / 2 * 2)"
   ]
  },
  {
   "cell_type": "code",
   "execution_count": 22,
   "id": "599a465b",
   "metadata": {},
   "outputs": [
    {
     "name": "stdout",
     "output_type": "stream",
     "text": [
      "4.0\n"
     ]
    }
   ],
   "source": [
    "print(2 - 2 + 2 / 2 * 2 + 2)"
   ]
  },
  {
   "cell_type": "code",
   "execution_count": 23,
   "id": "1653b74f",
   "metadata": {},
   "outputs": [
    {
     "data": {
      "text/plain": [
       "16"
      ]
     },
     "execution_count": 23,
     "metadata": {},
     "output_type": "execute_result"
    }
   ],
   "source": [
    "(5 + 3) * 2"
   ]
  },
  {
   "cell_type": "code",
   "execution_count": 24,
   "id": "17f33207",
   "metadata": {},
   "outputs": [
    {
     "data": {
      "text/plain": [
       "11"
      ]
     },
     "execution_count": 24,
     "metadata": {},
     "output_type": "execute_result"
    }
   ],
   "source": [
    "5 + (3 * 2)"
   ]
  },
  {
   "cell_type": "code",
   "execution_count": 25,
   "id": "da08f597",
   "metadata": {},
   "outputs": [
    {
     "name": "stdout",
     "output_type": "stream",
     "text": [
      "15 + 4 = 19\n"
     ]
    }
   ],
   "source": [
    "print(15, \"+\", 4, \"=\", 15 + 4)"
   ]
  },
  {
   "cell_type": "code",
   "execution_count": 26,
   "id": "4a506e2a",
   "metadata": {},
   "outputs": [
    {
     "name": "stdout",
     "output_type": "stream",
     "text": [
      "15 / 4 = 3.75\n"
     ]
    }
   ],
   "source": [
    "print(15, \"/\", 4, \"=\", 15 /4)"
   ]
  }
 ],
 "metadata": {
  "kernelspec": {
   "display_name": "Python 3 (ipykernel)",
   "language": "python",
   "name": "python3"
  },
  "language_info": {
   "codemirror_mode": {
    "name": "ipython",
    "version": 3
   },
   "file_extension": ".py",
   "mimetype": "text/x-python",
   "name": "python",
   "nbconvert_exporter": "python",
   "pygments_lexer": "ipython3",
   "version": "3.9.12"
  }
 },
 "nbformat": 4,
 "nbformat_minor": 5
}
