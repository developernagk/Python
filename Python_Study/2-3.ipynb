{
 "cells": [
  {
   "cell_type": "code",
   "execution_count": 1,
   "id": "eeddc021",
   "metadata": {},
   "outputs": [
    {
     "data": {
      "text/plain": [
       "3.14159265"
      ]
     },
     "execution_count": 1,
     "metadata": {},
     "output_type": "execute_result"
    }
   ],
   "source": [
    "pi = 3.14159265\n",
    "pi"
   ]
  },
  {
   "cell_type": "code",
   "execution_count": 2,
   "id": "48e560e3",
   "metadata": {},
   "outputs": [
    {
     "data": {
      "text/plain": [
       "5.14159265"
      ]
     },
     "execution_count": 2,
     "metadata": {},
     "output_type": "execute_result"
    }
   ],
   "source": [
    "pi = 3.14159265\n",
    "pi + 2"
   ]
  },
  {
   "cell_type": "code",
   "execution_count": 3,
   "id": "bf109fde",
   "metadata": {},
   "outputs": [
    {
     "data": {
      "text/plain": [
       "1.1415926500000002"
      ]
     },
     "execution_count": 3,
     "metadata": {},
     "output_type": "execute_result"
    }
   ],
   "source": [
    "pi - 2"
   ]
  },
  {
   "cell_type": "code",
   "execution_count": 4,
   "id": "08294455",
   "metadata": {},
   "outputs": [
    {
     "data": {
      "text/plain": [
       "6.2831853"
      ]
     },
     "execution_count": 4,
     "metadata": {},
     "output_type": "execute_result"
    }
   ],
   "source": [
    "pi * 2"
   ]
  },
  {
   "cell_type": "code",
   "execution_count": 5,
   "id": "8bd32552",
   "metadata": {},
   "outputs": [
    {
     "data": {
      "text/plain": [
       "1.570796325"
      ]
     },
     "execution_count": 5,
     "metadata": {},
     "output_type": "execute_result"
    }
   ],
   "source": [
    "pi / 2"
   ]
  },
  {
   "cell_type": "code",
   "execution_count": 6,
   "id": "2ce96392",
   "metadata": {},
   "outputs": [
    {
     "data": {
      "text/plain": [
       "1.1415926500000002"
      ]
     },
     "execution_count": 6,
     "metadata": {},
     "output_type": "execute_result"
    }
   ],
   "source": [
    "pi % 2"
   ]
  },
  {
   "cell_type": "code",
   "execution_count": 7,
   "id": "15843c22",
   "metadata": {},
   "outputs": [
    {
     "data": {
      "text/plain": [
       "9.869604378534024"
      ]
     },
     "execution_count": 7,
     "metadata": {},
     "output_type": "execute_result"
    }
   ],
   "source": [
    "pi * pi"
   ]
  },
  {
   "cell_type": "code",
   "execution_count": 8,
   "id": "6aa45ddd",
   "metadata": {},
   "outputs": [
    {
     "name": "stdout",
     "output_type": "stream",
     "text": [
      "원주율 =  3.14159265\n",
      "반지름 =  10\n",
      "원의 둘레 =  62.831853\n",
      "원의 넓이 =  314.159265\n"
     ]
    }
   ],
   "source": [
    "# variable\n",
    "# 변수 선언과 할당\n",
    "pi = 3.14159265\n",
    "r = 10\n",
    "\n",
    "# 변수 참조\n",
    "print(\"원주율 = \", pi)\n",
    "print(\"반지름 = \", r)\n",
    "print(\"원의 둘레 = \", 2 * pi * r) # 원의 둘레\n",
    "print(\"원의 넓이 = \", pi * r * r) # 원의 넓이"
   ]
  },
  {
   "cell_type": "code",
   "execution_count": 9,
   "id": "820614bb",
   "metadata": {},
   "outputs": [
    {
     "name": "stdout",
     "output_type": "stream",
     "text": [
      "number :  160\n"
     ]
    }
   ],
   "source": [
    "number = 100\n",
    "number += 10\n",
    "number += 20\n",
    "number += 30\n",
    "print(\"number : \", number)"
   ]
  },
  {
   "cell_type": "code",
   "execution_count": 10,
   "id": "c5c6bb56",
   "metadata": {},
   "outputs": [
    {
     "name": "stdout",
     "output_type": "stream",
     "text": [
      "string :  안녕하세요!!\n"
     ]
    }
   ],
   "source": [
    "string = \"안녕하세요\"\n",
    "string += \"!\"\n",
    "string += \"!\"\n",
    "print(\"string : \", string)"
   ]
  },
  {
   "cell_type": "code",
   "execution_count": 11,
   "id": "aa2b842d",
   "metadata": {},
   "outputs": [
    {
     "name": "stdout",
     "output_type": "stream",
     "text": [
      "인사말을 입력하세요> 안녕하세요\n"
     ]
    },
    {
     "data": {
      "text/plain": [
       "'안녕하세요'"
      ]
     },
     "execution_count": 11,
     "metadata": {},
     "output_type": "execute_result"
    }
   ],
   "source": [
    "input(\"인사말을 입력하세요> \")"
   ]
  },
  {
   "cell_type": "code",
   "execution_count": 12,
   "id": "75d43a3b",
   "metadata": {},
   "outputs": [
    {
     "name": "stdout",
     "output_type": "stream",
     "text": [
      "인사말을 입력하세요> 안녕하세요\n"
     ]
    }
   ],
   "source": [
    "string = input(\"인사말을 입력하세요> \")"
   ]
  },
  {
   "cell_type": "code",
   "execution_count": 13,
   "id": "0cc61b74",
   "metadata": {},
   "outputs": [
    {
     "name": "stdout",
     "output_type": "stream",
     "text": [
      "안녕하세요\n"
     ]
    }
   ],
   "source": [
    "print(string)"
   ]
  },
  {
   "cell_type": "code",
   "execution_count": 14,
   "id": "e7e83460",
   "metadata": {},
   "outputs": [
    {
     "name": "stdout",
     "output_type": "stream",
     "text": [
      "<class 'str'>\n"
     ]
    }
   ],
   "source": [
    "print(type(string))"
   ]
  },
  {
   "cell_type": "code",
   "execution_count": 15,
   "id": "37b6033b",
   "metadata": {},
   "outputs": [
    {
     "name": "stdout",
     "output_type": "stream",
     "text": [
      "숫자를 입력하세요> 12345\n"
     ]
    }
   ],
   "source": [
    "number = input(\"숫자를 입력하세요> \")"
   ]
  },
  {
   "cell_type": "code",
   "execution_count": 16,
   "id": "ab570133",
   "metadata": {},
   "outputs": [
    {
     "name": "stdout",
     "output_type": "stream",
     "text": [
      "12345\n"
     ]
    }
   ],
   "source": [
    "print(number)"
   ]
  },
  {
   "cell_type": "code",
   "execution_count": 17,
   "id": "1e249edc",
   "metadata": {},
   "outputs": [
    {
     "name": "stdout",
     "output_type": "stream",
     "text": [
      "<class 'str'>\n"
     ]
    }
   ],
   "source": [
    "print(type(number))"
   ]
  },
  {
   "cell_type": "code",
   "execution_count": 18,
   "id": "c9c40e87",
   "metadata": {},
   "outputs": [
    {
     "name": "stdout",
     "output_type": "stream",
     "text": [
      "입력> 52273\n",
      "자료 :  52273\n",
      "자료형 :  <class 'str'>\n"
     ]
    }
   ],
   "source": [
    "# input\n",
    "# 입력을 받습니다.\n",
    "string = input(\"입력> \")\n",
    "\n",
    "# 출력합니다.\n",
    "print(\"자료 : \", string)\n",
    "print(\"자료형 : \", type(string))"
   ]
  },
  {
   "cell_type": "code",
   "execution_count": 19,
   "id": "d9f1a45d",
   "metadata": {},
   "outputs": [
    {
     "name": "stdout",
     "output_type": "stream",
     "text": [
      "입력A> 273\n",
      "입력B> 52\n",
      "문자열 자료 :  27352\n",
      "숫자 자료 :  325\n"
     ]
    }
   ],
   "source": [
    "# int_convert\n",
    "\n",
    "string_a = input(\"입력A> \")\n",
    "int_a = int(string_a)\n",
    "\n",
    "string_b = input(\"입력B> \")\n",
    "int_b = int(string_b)\n",
    "\n",
    "print(\"문자열 자료 : \", string_a + string_b)\n",
    "print(\"숫자 자료 : \", int_a + int_b)"
   ]
  },
  {
   "cell_type": "code",
   "execution_count": 20,
   "id": "64aacd13",
   "metadata": {},
   "outputs": [
    {
     "name": "stdout",
     "output_type": "stream",
     "text": [
      "<class 'int'> 52\n",
      "<class 'float'> 52.273\n"
     ]
    }
   ],
   "source": [
    "# int_float01\n",
    "\n",
    "output_a = int(\"52\")\n",
    "output_b = float(\"52.273\")\n",
    "\n",
    "print(type(output_a), output_a)\n",
    "print(type(output_b), output_b)"
   ]
  },
  {
   "cell_type": "code",
   "execution_count": 21,
   "id": "189a93aa",
   "metadata": {},
   "outputs": [
    {
     "name": "stdout",
     "output_type": "stream",
     "text": [
      "첫 번째 숫자> 273\n",
      "두 번째 숫자> 52\n",
      "덧셈 결과 :  325.0\n",
      "뺄셈 결과 :  221.0\n",
      "곱셈 결과 :  14196.0\n",
      "나눗셈 결과 :  5.25\n"
     ]
    }
   ],
   "source": [
    "# int_float02\n",
    "\n",
    "input_a = float(input(\"첫 번째 숫자> \"))\n",
    "input_b = float(input(\"두 번째 숫자> \"))\n",
    "\n",
    "\n",
    "print(\"덧셈 결과 : \", input_a + input_b)\n",
    "print(\"뺄셈 결과 : \", input_a - input_b)\n",
    "print(\"곱셈 결과 : \", input_a * input_b)\n",
    "print(\"나눗셈 결과 : \", input_a / input_b)"
   ]
  },
  {
   "cell_type": "code",
   "execution_count": 22,
   "id": "5ac51ee5",
   "metadata": {},
   "outputs": [
    {
     "name": "stdout",
     "output_type": "stream",
     "text": [
      "<class 'str'> 52\n",
      "<class 'str'> 52.273\n"
     ]
    }
   ],
   "source": [
    "# str\n",
    "\n",
    "output_a = str(52)\n",
    "output_b = str(52.273)\n",
    "print(type(output_a), output_a)\n",
    "print(type(output_b), output_b)"
   ]
  },
  {
   "cell_type": "code",
   "execution_count": 24,
   "id": "9d4416a5",
   "metadata": {},
   "outputs": [
    {
     "name": "stdout",
     "output_type": "stream",
     "text": [
      "inch 단위의 숫자를 입력해주세요 : 27\n",
      "27 inch는 cm 단위로 68.58 cm입니다.\n"
     ]
    }
   ],
   "source": [
    "# inch_to_cm\n",
    "# 숫자를 입력받습니다.\n",
    "raw_input = input(\"inch 단위의 숫자를 입력해주세요 : \")\n",
    "\n",
    "# 입력받은 데이터를 숫자 자료형으로 변경하고, cm 단위로 변경합니다.\n",
    "inch = int(raw_input)\n",
    "cm = inch * 2.54\n",
    "\n",
    "# 출력합니다.\n",
    "print(inch, \"inch는 cm 단위로\", cm, \"cm입니다.\")"
   ]
  }
 ],
 "metadata": {
  "kernelspec": {
   "display_name": "Python 3 (ipykernel)",
   "language": "python",
   "name": "python3"
  },
  "language_info": {
   "codemirror_mode": {
    "name": "ipython",
    "version": 3
   },
   "file_extension": ".py",
   "mimetype": "text/x-python",
   "name": "python",
   "nbconvert_exporter": "python",
   "pygments_lexer": "ipython3",
   "version": "3.9.12"
  }
 },
 "nbformat": 4,
 "nbformat_minor": 5
}
