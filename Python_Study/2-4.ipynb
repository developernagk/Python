{
 "cells": [
  {
   "cell_type": "code",
   "execution_count": 1,
   "id": "7e748488",
   "metadata": {},
   "outputs": [
    {
     "name": "stdout",
     "output_type": "stream",
     "text": [
      "10\n",
      "<class 'str'>\n"
     ]
    }
   ],
   "source": [
    "# format_basic\n",
    "# format() 함수로 숫자를 문자열로 변환하기\n",
    "string_a = \"{}\".format(10)\n",
    "\n",
    "# 출력하기\n",
    "print(string_a)\n",
    "print(type(string_a))"
   ]
  },
  {
   "cell_type": "code",
   "execution_count": 2,
   "id": "df6b81db",
   "metadata": {},
   "outputs": [
    {
     "name": "stdout",
     "output_type": "stream",
     "text": [
      "5000만 원\n",
      "파이썬 열공하여 첫 연봉 5000만 원 만들기\n",
      "3000 4000 5000\n",
      "1 문자열 True\n"
     ]
    }
   ],
   "source": [
    "# format01\n",
    "# format() 함수로 숫자를 문자열로 변환하기\n",
    "format_a = \"{}만 원\".format(5000)\n",
    "format_b = \"파이썬 열공하여 첫 연봉 {}만 원 만들기\".format(5000)\n",
    "format_c = \"{} {} {}\".format(3000, 4000, 5000)\n",
    "format_d = \"{} {} {}\".format(1, \"문자열\", True)\n",
    "\n",
    "# 출력하기\n",
    "print(format_a)\n",
    "print(format_b)\n",
    "print(format_c)\n",
    "print(format_d)"
   ]
  },
  {
   "cell_type": "code",
   "execution_count": 3,
   "id": "bd6b5249",
   "metadata": {},
   "outputs": [
    {
     "name": "stdout",
     "output_type": "stream",
     "text": [
      "# 기본\n",
      "52\n",
      "# 특정 칸에 출력하기\n",
      "   52\n",
      "        52\n",
      "# 빈칸을 0으로 채우기\n",
      "00052\n",
      "-0052\n"
     ]
    }
   ],
   "source": [
    "# format02\n",
    "# 정수\n",
    "output_a = \"{:d}\".format(52)\n",
    "\n",
    "# 특정 칸에 출력하기\n",
    "output_b = \"{:5d}\".format(52) # 5칸\n",
    "output_c = \"{:10d}\".format(52) # 10칸\n",
    "\n",
    "# 빈칸을 0으로 채우기\n",
    "output_d = \"{:05d}\".format(52) # 양수\n",
    "output_e = \"{:05d}\".format(-52) # 음수\n",
    "\n",
    "print(\"# 기본\")\n",
    "print(output_a)\n",
    "print(\"# 특정 칸에 출력하기\")\n",
    "print(output_b)\n",
    "print(output_c)\n",
    "print(\"# 빈칸을 0으로 채우기\")\n",
    "print(output_d)\n",
    "print(output_e)"
   ]
  },
  {
   "cell_type": "code",
   "execution_count": 4,
   "id": "ed0905a3",
   "metadata": {},
   "outputs": [
    {
     "name": "stdout",
     "output_type": "stream",
     "text": [
      "# 기호와 함께 출력하기\n",
      "+52\n",
      "-52\n",
      " 52\n",
      "-52\n"
     ]
    }
   ],
   "source": [
    "# format03\n",
    "# 기호와 함께 출력하기\n",
    "output_f = \"{:+d}\".format(52) # 양수\n",
    "output_g = \"{:+d}\".format(-52) # 음수\n",
    "output_h = \"{: d}\".format(52) # 양수: 기호 부분 공백\n",
    "output_i = \"{: d}\".format(-52) # 음수 : 기호 부분 공백\n",
    "\n",
    "print(\"# 기호와 함께 출력하기\")\n",
    "print(output_f)\n",
    "print(output_g)\n",
    "print(output_h)\n",
    "print(output_i)"
   ]
  },
  {
   "cell_type": "code",
   "execution_count": 5,
   "id": "8e568c82",
   "metadata": {},
   "outputs": [
    {
     "name": "stdout",
     "output_type": "stream",
     "text": [
      "# 조합하기\n",
      "  +52\n",
      "  -52\n",
      "+  52\n",
      "-  52\n",
      "+0052\n",
      "-0052\n"
     ]
    }
   ],
   "source": [
    "# format04\n",
    "# 조합하기\n",
    "output_h = \"{:+5d}\".format(52) # 기호를 뒤로 밀기: 양수\n",
    "output_i = \"{:+5d}\".format(-52) # 기호를 뒤로 밀기: 음수\n",
    "output_j = \"{:=+5d}\".format(52) # 기호를 앞으로 밀기: 양수\n",
    "output_k = \"{:=+5d}\".format(-52) # 기호를 앞으로 밀기: 음수\n",
    "output_l = \"{:+05d}\".format(52) # 0으로 채우기: 양수\n",
    "output_m = \"{:+05d}\".format(-52) # 0으로 채우기: 음수\n",
    "\n",
    "print(\"# 조합하기\")\n",
    "print(output_h)\n",
    "print(output_i)\n",
    "print(output_j)\n",
    "print(output_k)\n",
    "print(output_l)\n",
    "print(output_m)"
   ]
  },
  {
   "cell_type": "code",
   "execution_count": 6,
   "id": "0a813957",
   "metadata": {},
   "outputs": [
    {
     "name": "stdout",
     "output_type": "stream",
     "text": [
      "52.273000\n",
      "      52.273000\n",
      "     +52.273000\n",
      "+0000052.273000\n"
     ]
    }
   ],
   "source": [
    "# format05\n",
    "output_a = \"{:f}\".format(52.273)\n",
    "output_b = \"{:15f}\".format(52.273) # 15칸 만들기\n",
    "output_c = \"{:+15f}\".format(52.273) # 15칸에 부호 추가하기\n",
    "output_d = \"{:+015f}\".format(52.273) # 15칸에 부호 추가하고 0으로 채우기\n",
    "\n",
    "print(output_a)\n",
    "print(output_b)\n",
    "print(output_c)\n",
    "print(output_d)"
   ]
  },
  {
   "cell_type": "code",
   "execution_count": 7,
   "id": "27e5e524",
   "metadata": {},
   "outputs": [
    {
     "name": "stdout",
     "output_type": "stream",
     "text": [
      "         52.273\n",
      "          52.27\n",
      "           52.3\n"
     ]
    }
   ],
   "source": [
    "# format06\n",
    "output_a = \"{:15.3f}\".format(52.273)\n",
    "output_b = \"{:15.2f}\".format(52.273)\n",
    "output_c = \"{:15.1f}\".format(52.273)\n",
    "\n",
    "print(output_a)\n",
    "print(output_b)\n",
    "print(output_c)"
   ]
  },
  {
   "cell_type": "code",
   "execution_count": 8,
   "id": "1736376e",
   "metadata": {},
   "outputs": [
    {
     "name": "stdout",
     "output_type": "stream",
     "text": [
      "52.0\n",
      "52\n"
     ]
    }
   ],
   "source": [
    "# format07\n",
    "output_a = 52.0\n",
    "output_b = \"{:g}\".format(output_a)\n",
    "\n",
    "print(output_a)\n",
    "print(output_b)"
   ]
  },
  {
   "cell_type": "code",
   "execution_count": 9,
   "id": "23033c98",
   "metadata": {},
   "outputs": [
    {
     "data": {
      "text/plain": [
       "'HELLO PYTHON PROGRAMMING...!'"
      ]
     },
     "execution_count": 9,
     "metadata": {},
     "output_type": "execute_result"
    }
   ],
   "source": [
    "a = \"Hello Python Programming...!\"\n",
    "a.upper()"
   ]
  },
  {
   "cell_type": "code",
   "execution_count": 10,
   "id": "a5380396",
   "metadata": {},
   "outputs": [
    {
     "data": {
      "text/plain": [
       "'hello python programming...!'"
      ]
     },
     "execution_count": 10,
     "metadata": {},
     "output_type": "execute_result"
    }
   ],
   "source": [
    "a.lower()"
   ]
  },
  {
   "cell_type": "code",
   "execution_count": 11,
   "id": "10b7a2b7",
   "metadata": {},
   "outputs": [
    {
     "name": "stdout",
     "output_type": "stream",
     "text": [
      "\n",
      "   안녕하세요   \n",
      "문자열 함수를 알아봅니다\n",
      "\n"
     ]
    }
   ],
   "source": [
    "input_a = \"\"\"\n",
    "   안녕하세요   \n",
    "문자열 함수를 알아봅니다\n",
    "\"\"\"\n",
    "print(input_a)"
   ]
  },
  {
   "cell_type": "code",
   "execution_count": 12,
   "id": "34ab9af3",
   "metadata": {},
   "outputs": [
    {
     "name": "stdout",
     "output_type": "stream",
     "text": [
      "안녕하세요   \n",
      "문자열 함수를 알아봅니다\n"
     ]
    }
   ],
   "source": [
    "print(input_a.strip())"
   ]
  },
  {
   "cell_type": "code",
   "execution_count": 13,
   "id": "99e1b430",
   "metadata": {},
   "outputs": [
    {
     "name": "stdout",
     "output_type": "stream",
     "text": [
      "True\n"
     ]
    }
   ],
   "source": [
    "print(\"TrainA10\".isalnum())"
   ]
  },
  {
   "cell_type": "code",
   "execution_count": 14,
   "id": "fa6083bf",
   "metadata": {},
   "outputs": [
    {
     "name": "stdout",
     "output_type": "stream",
     "text": [
      "True\n"
     ]
    }
   ],
   "source": [
    "print(\"10\".isdigit())"
   ]
  },
  {
   "cell_type": "code",
   "execution_count": 15,
   "id": "887a55ea",
   "metadata": {},
   "outputs": [
    {
     "name": "stdout",
     "output_type": "stream",
     "text": [
      "0\n"
     ]
    }
   ],
   "source": [
    "output_a = \"안녕안녕하세요\".find(\"안녕\")\n",
    "print(output_a)"
   ]
  },
  {
   "cell_type": "code",
   "execution_count": 16,
   "id": "40d608cb",
   "metadata": {},
   "outputs": [
    {
     "name": "stdout",
     "output_type": "stream",
     "text": [
      "2\n"
     ]
    }
   ],
   "source": [
    "output_b = \"안녕안녕하세요\".rfind(\"안녕\")\n",
    "print(output_b)"
   ]
  },
  {
   "cell_type": "code",
   "execution_count": 17,
   "id": "9b637391",
   "metadata": {},
   "outputs": [
    {
     "name": "stdout",
     "output_type": "stream",
     "text": [
      "True\n"
     ]
    }
   ],
   "source": [
    "print(\"안녕\" in \"안녕하세요\")"
   ]
  },
  {
   "cell_type": "code",
   "execution_count": 18,
   "id": "da6d2677",
   "metadata": {},
   "outputs": [
    {
     "name": "stdout",
     "output_type": "stream",
     "text": [
      "False\n"
     ]
    }
   ],
   "source": [
    "print(\"잘자\" in \"안녕하세요\")"
   ]
  },
  {
   "cell_type": "code",
   "execution_count": 19,
   "id": "7039de71",
   "metadata": {},
   "outputs": [
    {
     "name": "stdout",
     "output_type": "stream",
     "text": [
      "['10', '20', '30', '40', '50']\n"
     ]
    }
   ],
   "source": [
    "a = \"10 20 30 40 50\".split(\" \")\n",
    "print(a)"
   ]
  },
  {
   "cell_type": "code",
   "execution_count": 20,
   "id": "2d8706f3",
   "metadata": {},
   "outputs": [
    {
     "data": {
      "text/plain": [
       "'3 + 4 = 7'"
      ]
     },
     "execution_count": 20,
     "metadata": {},
     "output_type": "execute_result"
    }
   ],
   "source": [
    "\"3 + 4 = \" + str(3 + 4)"
   ]
  },
  {
   "cell_type": "code",
   "execution_count": 21,
   "id": "6e72c716",
   "metadata": {},
   "outputs": [
    {
     "data": {
      "text/plain": [
       "'3 + 4 = 7'"
      ]
     },
     "execution_count": 21,
     "metadata": {},
     "output_type": "execute_result"
    }
   ],
   "source": [
    "\"3 + 4 = {}\".format(3 + 4)"
   ]
  },
  {
   "cell_type": "code",
   "execution_count": 22,
   "id": "0c715024",
   "metadata": {},
   "outputs": [
    {
     "data": {
      "text/plain": [
       "'10'"
      ]
     },
     "execution_count": 22,
     "metadata": {},
     "output_type": "execute_result"
    }
   ],
   "source": [
    "\"{}\".format(10)"
   ]
  },
  {
   "cell_type": "code",
   "execution_count": 23,
   "id": "863a9e06",
   "metadata": {},
   "outputs": [
    {
     "data": {
      "text/plain": [
       "'10'"
      ]
     },
     "execution_count": 23,
     "metadata": {},
     "output_type": "execute_result"
    }
   ],
   "source": [
    "f'{10}'"
   ]
  },
  {
   "cell_type": "code",
   "execution_count": 24,
   "id": "c5f27232",
   "metadata": {},
   "outputs": [
    {
     "data": {
      "text/plain": [
       "'3 + 4 = 7'"
      ]
     },
     "execution_count": 24,
     "metadata": {},
     "output_type": "execute_result"
    }
   ],
   "source": [
    "f\"3 + 4 = {3 + 4}\""
   ]
  },
  {
   "cell_type": "code",
   "execution_count": 25,
   "id": "4e20c518",
   "metadata": {},
   "outputs": [
    {
     "data": {
      "text/plain": [
       "'1 + 2 = 3\\n2 + 3 = 5\\n3 + 4 = 7'"
      ]
     },
     "execution_count": 25,
     "metadata": {},
     "output_type": "execute_result"
    }
   ],
   "source": [
    "f\"\"\"1 + 2 = {1 + 2}\n",
    "2 + 3 = {2 + 3}\n",
    "3 + 4 = {3 + 4}\"\"\""
   ]
  },
  {
   "cell_type": "code",
   "execution_count": 26,
   "id": "3133e4d3",
   "metadata": {},
   "outputs": [
    {
     "data": {
      "text/plain": [
       "'# 문자열이 너무 긴 경우\\n문자열이 너무 긴 상황에서\\n데이터 구름을/를 출력해야 하는 경우가 있습니다.\\n\\n이때 f-문자열을 사용하면\\n어떤 위치에 어떤 데이터 7가 출력되는지 확인하기 위해서\\n문자열 전체를 읽어야 하는 문제가 있습니다.\\n이러한 경우 format() 함수를 사용하는 것이 편리합니다.\\n문자열이 아무리 길어도 다음 줄만 보면\\n어떤 데이터를 출력하는지 쉽게 알 수 있습니다.\\n'"
      ]
     },
     "execution_count": 26,
     "metadata": {},
     "output_type": "execute_result"
    }
   ],
   "source": [
    "name = \"구름\"\n",
    "age = 7\n",
    "\"\"\"# 문자열이 너무 긴 경우\n",
    "문자열이 너무 긴 상황에서\n",
    "데이터 {}을/를 출력해야 하는 경우가 있습니다.\n",
    "\n",
    "이때 f-문자열을 사용하면\n",
    "어떤 위치에 어떤 데이터 {}가 출력되는지 확인하기 위해서\n",
    "문자열 전체를 읽어야 하는 문제가 있습니다.\n",
    "이러한 경우 format() 함수를 사용하는 것이 편리합니다.\n",
    "문자열이 아무리 길어도 다음 줄만 보면\n",
    "어떤 데이터를 출력하는지 쉽게 알 수 있습니다.\n",
    "\"\"\".format(name, age)"
   ]
  },
  {
   "cell_type": "code",
   "execution_count": 27,
   "id": "d1ab256b",
   "metadata": {},
   "outputs": [
    {
     "data": {
      "text/plain": [
       "'이름: 별\\n나이: 2\\n성별: M\\n지역: 서울특별시 강서구\\n중성화 여부: Y'"
      ]
     },
     "execution_count": 27,
     "metadata": {},
     "output_type": "execute_result"
    }
   ],
   "source": [
    "data = ['별', 2, 'M', '서울특별시 강서구', 'Y']\n",
    "f\"\"\"이름: {data[0]}\n",
    "나이: {data[1]}\n",
    "성별: {data[2]}\n",
    "지역: {data[3]}\n",
    "중성화 여부: {data[4]}\"\"\""
   ]
  },
  {
   "cell_type": "code",
   "execution_count": 29,
   "id": "bec7ffa6",
   "metadata": {},
   "outputs": [
    {
     "data": {
      "text/plain": [
       "'이름: 별\\n나이: 2\\n성별: M\\n지역: 서울특별시 강서구\\n중성화 여부: Y'"
      ]
     },
     "execution_count": 29,
     "metadata": {},
     "output_type": "execute_result"
    }
   ],
   "source": [
    "data = ['별', 2, 'M', '서울특별시 강서구', 'Y']\n",
    "\"\"\"이름: {}\n",
    "나이: {}\n",
    "성별: {}\n",
    "지역: {}\n",
    "중성화 여부: {}\"\"\".format(*data)"
   ]
  },
  {
   "cell_type": "code",
   "execution_count": 30,
   "id": "fb1eecab",
   "metadata": {},
   "outputs": [
    {
     "name": "stdout",
     "output_type": "stream",
     "text": [
      "구의 반지름을 입력해주세요: 5\n",
      "= 구의 부피는 523.5986666666666입니다.\n",
      "= 구의 겉넓이는 314.1592입니다.\n"
     ]
    }
   ],
   "source": [
    "# 도전 문제 1\n",
    "\n",
    "pi = 3.141592\n",
    "r = float(input(\"구의 반지름을 입력해주세요: \"))\n",
    "\n",
    "부피 = (4 / 3) * pi * (r ** 3)\n",
    "겉넓이 = 4 * pi * (r ** 2)\n",
    "print(f\"= 구의 부피는 {부피}입니다.\")\n",
    "print(f\"= 구의 겉넓이는 {겉넓이}입니다.\")"
   ]
  },
  {
   "cell_type": "code",
   "execution_count": 31,
   "id": "10e0c70c",
   "metadata": {},
   "outputs": [
    {
     "data": {
      "text/plain": [
       "5.0"
      ]
     },
     "execution_count": 31,
     "metadata": {},
     "output_type": "execute_result"
    }
   ],
   "source": [
    "# 도전 문제 2\n",
    "밑변 = 3\n",
    "높이 = 4\n",
    "빗변 = (밑변 ** 2 + 높이 ** 2) ** (1 / 2)\n",
    "빗변"
   ]
  },
  {
   "cell_type": "code",
   "execution_count": 32,
   "id": "60bd78e8",
   "metadata": {},
   "outputs": [
    {
     "name": "stdout",
     "output_type": "stream",
     "text": [
      "밑변의 길이를 입력해주세요: 3.0\n",
      "높이의 길이를 입력해주세요: 4.0\n",
      "= 빗변의 길이는 5.0입니다.\n"
     ]
    }
   ],
   "source": [
    "밑변 = float(input(\"밑변의 길이를 입력해주세요: \"))\n",
    "높이 = float(input(\"높이의 길이를 입력해주세요: \"))\n",
    "\n",
    "빗변 = (밑변 ** 2 + 높이 ** 2) ** (1 / 2)\n",
    "\n",
    "print(f\"= 빗변의 길이는 {빗변}입니다.\")"
   ]
  }
 ],
 "metadata": {
  "kernelspec": {
   "display_name": "Python 3 (ipykernel)",
   "language": "python",
   "name": "python3"
  },
  "language_info": {
   "codemirror_mode": {
    "name": "ipython",
    "version": 3
   },
   "file_extension": ".py",
   "mimetype": "text/x-python",
   "name": "python",
   "nbconvert_exporter": "python",
   "pygments_lexer": "ipython3",
   "version": "3.9.12"
  }
 },
 "nbformat": 4,
 "nbformat_minor": 5
}
