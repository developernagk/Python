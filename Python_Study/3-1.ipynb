{
 "cells": [
  {
   "cell_type": "code",
   "execution_count": 1,
   "id": "e94f1538",
   "metadata": {},
   "outputs": [
    {
     "name": "stdout",
     "output_type": "stream",
     "text": [
      "False\n"
     ]
    }
   ],
   "source": [
    "print(10 == 100)"
   ]
  },
  {
   "cell_type": "code",
   "execution_count": 2,
   "id": "8692717f",
   "metadata": {},
   "outputs": [
    {
     "name": "stdout",
     "output_type": "stream",
     "text": [
      "True\n"
     ]
    }
   ],
   "source": [
    "print( 10 != 100)"
   ]
  },
  {
   "cell_type": "code",
   "execution_count": 3,
   "id": "abb0d644",
   "metadata": {},
   "outputs": [
    {
     "name": "stdout",
     "output_type": "stream",
     "text": [
      "True\n"
     ]
    }
   ],
   "source": [
    "print(10 < 100)"
   ]
  },
  {
   "cell_type": "code",
   "execution_count": 4,
   "id": "2b516c83",
   "metadata": {},
   "outputs": [
    {
     "name": "stdout",
     "output_type": "stream",
     "text": [
      "False\n"
     ]
    }
   ],
   "source": [
    "print(10 > 100)"
   ]
  },
  {
   "cell_type": "code",
   "execution_count": 5,
   "id": "0eadba46",
   "metadata": {},
   "outputs": [
    {
     "name": "stdout",
     "output_type": "stream",
     "text": [
      "True\n"
     ]
    }
   ],
   "source": [
    "print(10 <= 100)"
   ]
  },
  {
   "cell_type": "code",
   "execution_count": 6,
   "id": "1333ef6e",
   "metadata": {},
   "outputs": [
    {
     "name": "stdout",
     "output_type": "stream",
     "text": [
      "False\n"
     ]
    }
   ],
   "source": [
    "print(10 >= 100)"
   ]
  },
  {
   "cell_type": "code",
   "execution_count": 7,
   "id": "bff82f11",
   "metadata": {},
   "outputs": [
    {
     "name": "stdout",
     "output_type": "stream",
     "text": [
      "True\n",
      "True\n",
      "True\n",
      "False\n"
     ]
    }
   ],
   "source": [
    "print(\"가방\" == \"가방\")\n",
    "print(\"가방\" != \" 하마\")\n",
    "print(\"가방\" < \"하마\")\n",
    "print(\"가방\" > \"하마\")"
   ]
  },
  {
   "cell_type": "code",
   "execution_count": 8,
   "id": "86f393b0",
   "metadata": {},
   "outputs": [
    {
     "name": "stdout",
     "output_type": "stream",
     "text": [
      "False\n",
      "True\n"
     ]
    }
   ],
   "source": [
    "print(not True)\n",
    "print(not False)"
   ]
  },
  {
   "cell_type": "code",
   "execution_count": 9,
   "id": "8ce97b99",
   "metadata": {},
   "outputs": [
    {
     "name": "stdout",
     "output_type": "stream",
     "text": [
      "under_20 :  True\n",
      "not under_20 :  False\n"
     ]
    }
   ],
   "source": [
    "# boolean\n",
    "\n",
    "x = 10\n",
    "under_20 = x < 20 # under_20 = (x < 20)\n",
    "print(\"under_20 : \", under_20)\n",
    "print(\"not under_20 : \", not under_20)"
   ]
  },
  {
   "cell_type": "code",
   "execution_count": 10,
   "id": "fdc81072",
   "metadata": {},
   "outputs": [
    {
     "name": "stdout",
     "output_type": "stream",
     "text": [
      "True\n",
      "False\n",
      "False\n",
      "False\n",
      "True\n",
      "True\n",
      "True\n",
      "False\n"
     ]
    }
   ],
   "source": [
    "print(True and True)\n",
    "print(True and False)\n",
    "print(False and True)\n",
    "print(False and False)\n",
    "print(True or True)\n",
    "print(True or False)\n",
    "print(False or True)\n",
    "print(False or False)"
   ]
  },
  {
   "cell_type": "code",
   "execution_count": 11,
   "id": "d7dfdf9b",
   "metadata": {},
   "outputs": [
    {
     "name": "stdout",
     "output_type": "stream",
     "text": [
      "True입니다...!\n",
      "정말 True입니다...!\n"
     ]
    }
   ],
   "source": [
    "if True:\n",
    "    print(\"True입니다...!\")\n",
    "    print(\"정말 True입니다...!\")"
   ]
  },
  {
   "cell_type": "code",
   "execution_count": 12,
   "id": "7f8f4d3c",
   "metadata": {},
   "outputs": [],
   "source": [
    "if False:\n",
    "    print(\"False입니다...!\")"
   ]
  },
  {
   "cell_type": "code",
   "execution_count": 15,
   "id": "155797b9",
   "metadata": {},
   "outputs": [
    {
     "name": "stdout",
     "output_type": "stream",
     "text": [
      "정수 입력> 0\n",
      "0입니다\n"
     ]
    }
   ],
   "source": [
    "# condition\n",
    "# 입력을 받습니다.\n",
    "number = input(\"정수 입력> \")\n",
    "number = int(number)\n",
    "\n",
    "# 양수 조건\n",
    "if number > 0:\n",
    "    print(\"양수입니다\")\n",
    "    \n",
    "# 음수 조건\n",
    "if number < 0:\n",
    "    print(\"음수입니다\")\n",
    "    \n",
    "# 0 조건\n",
    "if number == 0:\n",
    "    print(\"0입니다\")"
   ]
  },
  {
   "cell_type": "code",
   "execution_count": 17,
   "id": "d9491c3e",
   "metadata": {},
   "outputs": [
    {
     "name": "stdout",
     "output_type": "stream",
     "text": [
      "2024 년\n",
      "1 월\n",
      "2 일\n",
      "14 시\n",
      "7 분\n",
      "44 초\n"
     ]
    }
   ],
   "source": [
    "# date\n",
    "# 날짜/시간과 관련된 기능을 가져옵니다\n",
    "import datetime\n",
    "\n",
    "# 현재 날짜/시간을 구합니다\n",
    "now = datetime.datetime.now()\n",
    "\n",
    "# 출력합니다\n",
    "print(now.year, \"년\")\n",
    "print(now.month, \"월\")\n",
    "print(now.day, \"일\")\n",
    "print(now.hour, \"시\")\n",
    "print(now.minute, \"분\")\n",
    "print(now.second, \"초\")"
   ]
  },
  {
   "cell_type": "code",
   "execution_count": 18,
   "id": "d27d29f9",
   "metadata": {},
   "outputs": [
    {
     "name": "stdout",
     "output_type": "stream",
     "text": [
      "2024년 1월 2일 14시 10분 38초\n"
     ]
    }
   ],
   "source": [
    "# date01\n",
    "# 날짜/시간과 관련된 기능을 가져옵니다\n",
    "import datetime\n",
    "\n",
    "# 현재 날짜/시간을 구합니다\n",
    "now = datetime.datetime.now()\n",
    "\n",
    "# 출력합니다\n",
    "print(\"{}년 {}월 {}일 {}시 {}분 {}초\".format(\n",
    "now.year,\n",
    "now.month,\n",
    "now.day,\n",
    "now.hour,\n",
    "now.minute,\n",
    "now.second\n",
    "))"
   ]
  },
  {
   "cell_type": "code",
   "execution_count": 20,
   "id": "69e4dc9c",
   "metadata": {},
   "outputs": [
    {
     "name": "stdout",
     "output_type": "stream",
     "text": [
      "현재 시각은 14시로 오후입니다!\n"
     ]
    }
   ],
   "source": [
    "# date02\n",
    "# 날짜/시간과 관련된 기능을 가져옵니다\n",
    "import datetime\n",
    "\n",
    "# 현재 날짜/시간을 구합니다\n",
    "now = datetime.datetime.now()\n",
    "\n",
    "# 오전 구분\n",
    "if now.hour < 12:\n",
    "    print(\"현재 시각은 {}시로 오전입니다!\".format(now.hour))\n",
    "    \n",
    "# 오후 구분\n",
    "if now.hour >= 12:\n",
    "    print(\"현재 시각은 {}시로 오후입니다!\".format(now.hour))"
   ]
  },
  {
   "cell_type": "code",
   "execution_count": 24,
   "id": "74a18279",
   "metadata": {},
   "outputs": [
    {
     "name": "stdout",
     "output_type": "stream",
     "text": [
      "이번 달은 1월로 겨울입니다!\n"
     ]
    }
   ],
   "source": [
    "# date03\n",
    "# 날짜/시간과 관련된 기능을 가져옵니다\n",
    "import datetime\n",
    "\n",
    "# 현재 날짜/시간을 구합니다\n",
    "now = datetime.datetime.now()\n",
    "\n",
    "# 봄 구분\n",
    "if 3 <= now.month <= 5:\n",
    "    print(\"이번 달은 {}월로 봄입니다!\".format(now.month))\n",
    "    \n",
    "# 여름 구분\n",
    "if 6 <= now.month <= 8:\n",
    "    print(\"이번 달은 {}월로 여름입니다!\".format(now.month))\n",
    "    \n",
    "# 가을 구분\n",
    "if 9 <= now.month <= 11:\n",
    "    print(\"이번 달은 {}월로 가을입니다!\".format(now.month))\n",
    "    \n",
    "# 겨울 구분\n",
    "if now.month == 12 or 1 <= now.month <= 2:\n",
    "    print(\"이번 달은 {}월로 겨울입니다!\".format(now.month))"
   ]
  },
  {
   "cell_type": "code",
   "execution_count": 2,
   "id": "1a0b36bb",
   "metadata": {},
   "outputs": [
    {
     "name": "stdout",
     "output_type": "stream",
     "text": [
      "정수 입력> 273\n",
      "홀수입니다\n"
     ]
    }
   ],
   "source": [
    "# condition01\n",
    "# 입력을 받습니다\n",
    "number = input(\"정수 입력> \")\n",
    "\n",
    "# 마지막 자리 숫자를 추출\n",
    "last_character = number[-1]\n",
    "\n",
    "# 숫자로 변환하기\n",
    "last_number = int(last_character)\n",
    "\n",
    "# 짝수 확인\n",
    "if last_number == 0 \\\n",
    "or last_number == 2 \\\n",
    "or last_number == 4 \\\n",
    "or last_number == 6 \\\n",
    "or last_number == 8:\n",
    "    print(\"짝수입니다\")\n",
    "    \n",
    "# 홀수 확인\n",
    "if last_number == 1 \\\n",
    "or last_number == 3 \\\n",
    "or last_number == 5 \\\n",
    "or last_number == 7 \\\n",
    "or last_number == 9:\n",
    "    print(\"홀수입니다\")"
   ]
  },
  {
   "cell_type": "code",
   "execution_count": 3,
   "id": "56d64cb3",
   "metadata": {},
   "outputs": [
    {
     "name": "stdout",
     "output_type": "stream",
     "text": [
      "정수 입력> 52\n",
      "짝수입니다\n"
     ]
    }
   ],
   "source": [
    "# condition02\n",
    "# 입력을 받습니다\n",
    "number = input(\"정수 입력> \")\n",
    "last_character = number[-1]\n",
    "\n",
    "# 짝수 조건\n",
    "if last_character in \"02468\":\n",
    "    print(\"짝수입니다\")\n",
    "    \n",
    "# 홀수 조건\n",
    "if last_character in \"13579\":\n",
    "    print(\"홀수입니다\")"
   ]
  },
  {
   "cell_type": "code",
   "execution_count": 4,
   "id": "dcb6242c",
   "metadata": {},
   "outputs": [
    {
     "name": "stdout",
     "output_type": "stream",
     "text": [
      "정수 입력> 52\n",
      "짝수입니다\n"
     ]
    }
   ],
   "source": [
    "# condition03\n",
    "# 입력을 받습니다\n",
    "number = input(\"정수 입력> \")\n",
    "number = int(number)\n",
    "\n",
    "# 짝수 조건\n",
    "if number % 2 == 0:\n",
    "    print(\"짝수입니다\")\n",
    "    \n",
    "# 홀수 조건\n",
    "if number % 2 == 1:\n",
    "    print(\"홀수입니다\")"
   ]
  }
 ],
 "metadata": {
  "kernelspec": {
   "display_name": "Python 3 (ipykernel)",
   "language": "python",
   "name": "python3"
  },
  "language_info": {
   "codemirror_mode": {
    "name": "ipython",
    "version": 3
   },
   "file_extension": ".py",
   "mimetype": "text/x-python",
   "name": "python",
   "nbconvert_exporter": "python",
   "pygments_lexer": "ipython3",
   "version": "3.9.12"
  }
 },
 "nbformat": 4,
 "nbformat_minor": 5
}
