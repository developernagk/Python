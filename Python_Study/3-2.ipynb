{
 "cells": [
  {
   "cell_type": "code",
   "execution_count": 1,
   "id": "2cce8b58",
   "metadata": {},
   "outputs": [
    {
     "name": "stdout",
     "output_type": "stream",
     "text": [
      "정수 입력> 13\n",
      "홀수입니다\n"
     ]
    }
   ],
   "source": [
    "# condition04\n",
    "\n",
    "number = input(\"정수 입력> \")\n",
    "number = int(number)\n",
    "\n",
    "if number % 2 == 0:\n",
    "    # 조건이 참일 때, 즉 짝수 조건\n",
    "    print(\"짝수입니다\")\n",
    "    \n",
    "else:\n",
    "    # 조건이 거짓일 때, 즉 홀수 조건\n",
    "    print(\"홀수입니다\")"
   ]
  },
  {
   "cell_type": "code",
   "execution_count": 2,
   "id": "e588cd9e",
   "metadata": {},
   "outputs": [
    {
     "name": "stdout",
     "output_type": "stream",
     "text": [
      "현재는 겨울입니다.\n"
     ]
    }
   ],
   "source": [
    "# condition05\n",
    "\n",
    "import datetime\n",
    "\n",
    "now = datetime.datetime.now()\n",
    "month = now.month\n",
    "\n",
    "if 3 <= month <= 5:\n",
    "    print(\"현재는 봄입니다.\")\n",
    "elif 6 <= month <= 8:\n",
    "    print(\"현재는 여름입니다.\")\n",
    "elif 9 <= month <= 11:\n",
    "    print(\"현재는 가을입니다.\")\n",
    "else:\n",
    "    print(\"현재는 겨울입니다.\")"
   ]
  },
  {
   "cell_type": "code",
   "execution_count": 4,
   "id": "e62cb887",
   "metadata": {},
   "outputs": [
    {
     "name": "stdout",
     "output_type": "stream",
     "text": [
      "학점 입력>3.3\n",
      "일반인\n"
     ]
    }
   ],
   "source": [
    "# condition06\n",
    "\n",
    "score = float(input(\"학점 입력>\"))\n",
    "\n",
    "if score == 4.5:\n",
    "    print(\"신\")\n",
    "elif 4.2 <= score < 4.5:\n",
    "    print(\"교수님의 사랑\")\n",
    "elif 3.5 <= score < 4.2:\n",
    "    print(\"현 체제의 수호자\")\n",
    "elif 2.8 <= score < 3.5:\n",
    "    print(\"일반인\")\n",
    "elif 2.3 <= score < 2.8:\n",
    "    print(\"일탈을 꿈꾸는 소시민\")\n",
    "elif 1.75 <= score < 2.3:\n",
    "    print(\"오락문화의 선구자\")\n",
    "elif 1.0 <= score < 1.75:\n",
    "    print(\"불가촉천민\")\n",
    "elif 0.5 <= score < 1.0:\n",
    "    print(\"자벌레\")\n",
    "elif 0 < score < 0.5:\n",
    "    print(\"플랑크톤\")\n",
    "elif score == 0:\n",
    "    print(\"시대를 앞서가는 혁명의 씨앗\")"
   ]
  },
  {
   "cell_type": "code",
   "execution_count": 5,
   "id": "a28337bb",
   "metadata": {},
   "outputs": [
    {
     "name": "stdout",
     "output_type": "stream",
     "text": [
      "학점 입력>3.3\n",
      "일반인\n"
     ]
    }
   ],
   "source": [
    "# condition07\n",
    "\n",
    "score = float(input(\"학점 입력>\"))\n",
    "\n",
    "if score == 4.5:\n",
    "    print(\"신\")\n",
    "elif 4.2 <= score:\n",
    "    print(\"교수님의 사랑\")\n",
    "elif 3.5 <= score:\n",
    "    print(\"현 체제의 수호자\")\n",
    "elif 2.8 <= score:\n",
    "    print(\"일반인\")\n",
    "elif 2.3 <= score:\n",
    "    print(\"일탈을 꿈꾸는 소시민\")\n",
    "elif 1.75 <= score:\n",
    "    print(\"오락문화의 선구자\")\n",
    "elif 1.0 <= score:\n",
    "    print(\"불가촉천민\")\n",
    "elif 0.5 <= score:\n",
    "    print(\"자벌레\")\n",
    "elif 0 < score:\n",
    "    print(\"플랑크톤\")\n",
    "else:\n",
    "    print(\"시대를 앞서가는 혁명의 씨앗\")"
   ]
  },
  {
   "cell_type": "code",
   "execution_count": 6,
   "id": "38983a37",
   "metadata": {},
   "outputs": [
    {
     "name": "stdout",
     "output_type": "stream",
     "text": [
      "# if 조건문에 0 넣기\n",
      "0은 False로 변환됩니다\n",
      "\n",
      "# if 조건문에 빈 문자열 넣기\n",
      "빈 문자열은 False로 변환됩니다\n"
     ]
    }
   ],
   "source": [
    "# false_value\n",
    "print(\"# if 조건문에 0 넣기\")\n",
    "if 0:\n",
    "    print(\"0은 True로 변환됩니다\")\n",
    "else:\n",
    "    print(\"0은 False로 변환됩니다\")\n",
    "    print()\n",
    "    \n",
    "print(\"# if 조건문에 빈 문자열 넣기\")\n",
    "if \"\":\n",
    "    print(\"빈 문자열은 True로 변환됩니다\")\n",
    "else:\n",
    "    print(\"빈 문자열은 False로 변환됩니다\")"
   ]
  },
  {
   "cell_type": "code",
   "execution_count": 7,
   "id": "8127a8b6",
   "metadata": {},
   "outputs": [
    {
     "name": "stdout",
     "output_type": "stream",
     "text": [
      "정수 입력> 22\n"
     ]
    }
   ],
   "source": [
    "# pass_keyword\n",
    "\n",
    "number = input(\"정수 입력> \")\n",
    "number = int(number)\n",
    "\n",
    "if number > 0:\n",
    "    \n",
    "    pass # raise NotImplementedError를 넣어 아직 구현하지 않은 문장이라는 오류를 강제로 발생\n",
    "else:\n",
    "    \n",
    "    pass"
   ]
  },
  {
   "cell_type": "code",
   "execution_count": 8,
   "id": "200853f6",
   "metadata": {},
   "outputs": [
    {
     "name": "stdout",
     "output_type": "stream",
     "text": [
      "입력 : 안녕하세요\n",
      "안녕하세요.\n"
     ]
    }
   ],
   "source": [
    "# 도전문제 1\n",
    "\n",
    "import datetime\n",
    "\n",
    "입력 = input(\"입력 : \")\n",
    "\n",
    "if \"안녕\" in 입력:\n",
    "    print(\"안녕하세요.\")\n",
    "elif \"몇 시\" in 입력:\n",
    "    now = datetime.datetime.now()\n",
    "    print(f\"지금은 {now.hour}시입니다.\")\n",
    "else:\n",
    "    print(입력)"
   ]
  },
  {
   "cell_type": "code",
   "execution_count": 9,
   "id": "75ae4fc9",
   "metadata": {},
   "outputs": [
    {
     "name": "stdout",
     "output_type": "stream",
     "text": [
      "정수를 입력해주세요 : 273\n",
      "273은 2로 나누어 떨어지는 숫자가 아닙니다.\n",
      "273은 3로 나누어 떨어지는 숫자입니다.\n",
      "273은 4로 나누어 떨어지는 숫자가 아닙니다.\n",
      "273은 5로 나누어 떨어지는 숫자가 아닙니다.\n"
     ]
    }
   ],
   "source": [
    "# 도전문제 2\n",
    "\n",
    "입력 = int(input(\"정수를 입력해주세요 : \"))\n",
    "\n",
    "if 입력 % 2 == 0:\n",
    "    print(f\"{입력}은 2로 나누어 떨어지는 숫자입니다.\")\n",
    "else:\n",
    "    print(f\"{입력}은 2로 나누어 떨어지는 숫자가 아닙니다.\")\n",
    "    \n",
    "if 입력 % 3 == 0:\n",
    "    print(f\"{입력}은 3로 나누어 떨어지는 숫자입니다.\")\n",
    "else:\n",
    "    print(f\"{입력}은 3로 나누어 떨어지는 숫자가 아닙니다.\")\n",
    "    \n",
    "if 입력 % 4 == 0:\n",
    "    print(f\"{입력}은 4로 나누어 떨어지는 숫자입니다.\")\n",
    "else:\n",
    "    print(f\"{입력}은 4로 나누어 떨어지는 숫자가 아닙니다.\")\n",
    "    \n",
    "if 입력 % 5 == 0:\n",
    "    print(f\"{입력}은 5로 나누어 떨어지는 숫자입니다.\")\n",
    "else:\n",
    "    print(f\"{입력}은 5로 나누어 떨어지는 숫자가 아닙니다.\")"
   ]
  }
 ],
 "metadata": {
  "kernelspec": {
   "display_name": "Python 3 (ipykernel)",
   "language": "python",
   "name": "python3"
  },
  "language_info": {
   "codemirror_mode": {
    "name": "ipython",
    "version": 3
   },
   "file_extension": ".py",
   "mimetype": "text/x-python",
   "name": "python",
   "nbconvert_exporter": "python",
   "pygments_lexer": "ipython3",
   "version": "3.9.12"
  }
 },
 "nbformat": 4,
 "nbformat_minor": 5
}
