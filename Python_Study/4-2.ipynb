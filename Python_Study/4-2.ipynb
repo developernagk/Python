{
 "cells": [
  {
   "cell_type": "code",
   "execution_count": 1,
   "id": "6c027612",
   "metadata": {},
   "outputs": [
    {
     "data": {
      "text/plain": [
       "'어벤저스 엔드게임'"
      ]
     },
     "execution_count": 1,
     "metadata": {},
     "output_type": "execute_result"
    }
   ],
   "source": [
    "dict_a = {\"name\":\"어벤저스 엔드게임\",\"type\":\"히어로 무비\"}\n",
    "dict_a[\"name\"]"
   ]
  },
  {
   "cell_type": "code",
   "execution_count": 2,
   "id": "d1615cef",
   "metadata": {},
   "outputs": [
    {
     "data": {
      "text/plain": [
       "'히어로 무비'"
      ]
     },
     "execution_count": 2,
     "metadata": {},
     "output_type": "execute_result"
    }
   ],
   "source": [
    "dict_a[\"type\"]"
   ]
  },
  {
   "cell_type": "code",
   "execution_count": 3,
   "id": "6a10ead7",
   "metadata": {},
   "outputs": [
    {
     "data": {
      "text/plain": [
       "{'director': ['안소니 루소', '조 루소'],\n",
       " 'cast': ['아이언맨', '타노스', '토르', '닥터스트레인지', '헐크']}"
      ]
     },
     "execution_count": 3,
     "metadata": {},
     "output_type": "execute_result"
    }
   ],
   "source": [
    "dict_b = {\"director\":[\"안소니 루소\", \"조 루소\"], \"cast\":[\"아이언맨\", \"타노스\", \"토르\", \"닥터스트레인지\", \"헐크\"]}\n",
    "dict_b"
   ]
  },
  {
   "cell_type": "code",
   "execution_count": 4,
   "id": "1b558615",
   "metadata": {},
   "outputs": [
    {
     "data": {
      "text/plain": [
       "['안소니 루소', '조 루소']"
      ]
     },
     "execution_count": 4,
     "metadata": {},
     "output_type": "execute_result"
    }
   ],
   "source": [
    "dict_b[\"director\"]"
   ]
  },
  {
   "cell_type": "code",
   "execution_count": 5,
   "id": "aaffce74",
   "metadata": {},
   "outputs": [
    {
     "name": "stdout",
     "output_type": "stream",
     "text": [
      "name :  7D 건조 망고\n",
      "type :  당절임\n",
      "ingredient :  ['망고', '설탕', '메타중아황산나트륨', '치자황색소']\n",
      "origin :  필리핀\n",
      "\n",
      "name :  8D 건조 망고\n"
     ]
    }
   ],
   "source": [
    "# dict01\n",
    "# 딕셔너리를 선언합니다\n",
    "dictionary = {\"name\":\"7D 건조 망고\", \n",
    "              \"type\":\"당절임\", \n",
    "             \"ingredient\":[\"망고\", \"설탕\", \"메타중아황산나트륨\", \"치자황색소\"],\n",
    "             \"origin\":\"필리핀\"\n",
    "             }\n",
    "\n",
    "# 출력합니다\n",
    "print(\"name : \", dictionary[\"name\"])\n",
    "print(\"type : \", dictionary[\"type\"])\n",
    "print(\"ingredient : \", dictionary[\"ingredient\"])\n",
    "print(\"origin : \", dictionary[\"origin\"])\n",
    "print()\n",
    "\n",
    "# 값을 변경합니다\n",
    "dictionary[\"name\"] = \"8D 건조 망고\"\n",
    "print(\"name : \", dictionary[\"name\"])"
   ]
  },
  {
   "cell_type": "code",
   "execution_count": 6,
   "id": "e05ad13e",
   "metadata": {},
   "outputs": [
    {
     "data": {
      "text/plain": [
       "{'name': '8D 건조 망고',\n",
       " 'type': '당절임',\n",
       " 'ingredient': ['망고', '설탕', '메타중아황산나트륨', '치자황색소'],\n",
       " 'origin': '필리핀',\n",
       " 'price': 5000}"
      ]
     },
     "execution_count": 6,
     "metadata": {},
     "output_type": "execute_result"
    }
   ],
   "source": [
    "dictionary[\"price\"] = 5000\n",
    "dictionary"
   ]
  },
  {
   "cell_type": "code",
   "execution_count": 7,
   "id": "166da15e",
   "metadata": {},
   "outputs": [
    {
     "data": {
      "text/plain": [
       "{'name': '8D 건조 망고', 'type': '당절임', 'origin': '필리핀', 'price': 5000}"
      ]
     },
     "execution_count": 7,
     "metadata": {},
     "output_type": "execute_result"
    }
   ],
   "source": [
    "del dictionary[\"ingredient\"]\n",
    "dictionary"
   ]
  },
  {
   "cell_type": "code",
   "execution_count": 9,
   "id": "81da975d",
   "metadata": {},
   "outputs": [
    {
     "name": "stdout",
     "output_type": "stream",
     "text": [
      "요소 추가 이전 :  {}\n",
      "요소 추가 이후 :  {'name': '새로운 이름', 'head': '새로운 정신', 'body': '새로운 몸'}\n"
     ]
    }
   ],
   "source": [
    "# dict02\n",
    "# 딕셔너리를 선언합니다\n",
    "dictionary = {}\n",
    "\n",
    "# 요소 추가 전에 내용을 출력해 봅니다\n",
    "print(\"요소 추가 이전 : \", dictionary)\n",
    "\n",
    "# 딕셔너리에 요소를 추가합니다\n",
    "dictionary[\"name\"] = \"새로운 이름\"\n",
    "dictionary[\"head\"] = \"새로운 정신\"\n",
    "dictionary[\"body\"] = \"새로운 몸\"\n",
    "\n",
    "# 출력합니다\n",
    "print(\"요소 추가 이후 : \", dictionary)"
   ]
  },
  {
   "cell_type": "code",
   "execution_count": 10,
   "id": "d81cae73",
   "metadata": {},
   "outputs": [
    {
     "name": "stdout",
     "output_type": "stream",
     "text": [
      "요소 제거 이전 :  {'name': '7D 건조 망고', 'type': '당절임'}\n",
      "요소 제거 이후 :  {}\n"
     ]
    }
   ],
   "source": [
    "# dict03\n",
    "# 딕셔너리를 선언합니다\n",
    "dictionary = {\n",
    "    \"name\":\"7D 건조 망고\",\n",
    "    \"type\":\"당절임\"\n",
    "}\n",
    "\n",
    "# 요소 제거 전에 내용을 출력해 봅니다\n",
    "print(\"요소 제거 이전 : \", dictionary)\n",
    "\n",
    "# 딕셔너리의 요소를 제거합니다\n",
    "del dictionary[\"name\"]\n",
    "del dictionary[\"type\"]\n",
    "\n",
    "# 요소 제거 후에 내용을 출력해 봅니다\n",
    "print(\"요소 제거 이후 : \", dictionary)"
   ]
  },
  {
   "cell_type": "code",
   "execution_count": 12,
   "id": "20ab8a37",
   "metadata": {},
   "outputs": [
    {
     "name": "stdout",
     "output_type": "stream",
     "text": [
      "> 접근하고자 하는 키 : date\n",
      "존재하지 않는 키에 접근하고 있습니다.\n"
     ]
    }
   ],
   "source": [
    "# key_in\n",
    "# 딕셔너리를 선언합니다\n",
    "dictionary = {\n",
    "    \"name\":\"7D 건조 망고\", \n",
    "    \"type\":\"당절임\", \n",
    "    \"ingredient\":[\"망고\", \"설탕\", \"메타중아황산나트륨\", \"치자황색소\"], \n",
    "    \"origin\":\"필리핀\"\n",
    "}\n",
    "\n",
    "# 사용자로부터 입력을 받습니다\n",
    "key = input(\"> 접근하고자 하는 키 : \")\n",
    "\n",
    "# 출력합니다\n",
    "if key in dictionary:\n",
    "    print(dictionary[key])\n",
    "else:\n",
    "    print(\"존재하지 않는 키에 접근하고 있습니다.\")"
   ]
  },
  {
   "cell_type": "code",
   "execution_count": 14,
   "id": "088e28d3",
   "metadata": {},
   "outputs": [
    {
     "name": "stdout",
     "output_type": "stream",
     "text": [
      "값 :  None\n",
      "존재하지 않는 키에 접근했었습니다.\n"
     ]
    }
   ],
   "source": [
    "# get01\n",
    "# 딕셔너리를 선언합니다\n",
    "dictionary = {\n",
    "    \"name\":\"7D 건조 망고\", \n",
    "    \"type\":\"당절임\", \n",
    "    \"ingredient\":[\"망고\", \"설탕\", \"메타중아황산나트륨\", \"치자황색소\"], \n",
    "    \"origin\":\"필리핀\"\n",
    "}\n",
    "\n",
    "# 존재하지 않는 키에 접근해 봅니다\n",
    "value = dictionary.get(\"존재하지 않는 키\")\n",
    "print(\"값 : \", value)\n",
    "\n",
    "# None 확인 방법\n",
    "if value == None:\n",
    "    print(\"존재하지 않는 키에 접근했었습니다.\")"
   ]
  },
  {
   "cell_type": "code",
   "execution_count": 16,
   "id": "2a7b7896",
   "metadata": {},
   "outputs": [
    {
     "name": "stdout",
     "output_type": "stream",
     "text": [
      "name : 7D 건조 망고\n",
      "type : 당절임\n",
      "ingredient : ['망고', '설탕', '메타중아황산나트륨', '치자황색소']\n",
      "origin : 필리핀\n"
     ]
    }
   ],
   "source": [
    "# for_dict\n",
    "dictionary = {\n",
    "    \"name\":\"7D 건조 망고\", \n",
    "    \"type\":\"당절임\", \n",
    "    \"ingredient\":[\"망고\", \"설탕\", \"메타중아황산나트륨\", \"치자황색소\"], \n",
    "    \"origin\":\"필리핀\"\n",
    "}\n",
    "\n",
    "# for 반복문을 사용합니다\n",
    "for key in dictionary:\n",
    "    # 출력합니다\n",
    "    print(key, \":\", dictionary[key])"
   ]
  }
 ],
 "metadata": {
  "kernelspec": {
   "display_name": "Python 3 (ipykernel)",
   "language": "python",
   "name": "python3"
  },
  "language_info": {
   "codemirror_mode": {
    "name": "ipython",
    "version": 3
   },
   "file_extension": ".py",
   "mimetype": "text/x-python",
   "name": "python",
   "nbconvert_exporter": "python",
   "pygments_lexer": "ipython3",
   "version": "3.9.12"
  }
 },
 "nbformat": 4,
 "nbformat_minor": 5
}
