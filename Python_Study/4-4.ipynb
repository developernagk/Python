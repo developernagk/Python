{
 "cells": [
  {
   "cell_type": "code",
   "execution_count": 1,
   "id": "00d5b820",
   "metadata": {},
   "outputs": [
    {
     "data": {
      "text/plain": [
       "32"
      ]
     },
     "execution_count": 1,
     "metadata": {},
     "output_type": "execute_result"
    }
   ],
   "source": [
    "numbers = [103, 52, 273, 32, 77]\n",
    "min(numbers)"
   ]
  },
  {
   "cell_type": "code",
   "execution_count": 2,
   "id": "32456681",
   "metadata": {},
   "outputs": [
    {
     "data": {
      "text/plain": [
       "273"
      ]
     },
     "execution_count": 2,
     "metadata": {},
     "output_type": "execute_result"
    }
   ],
   "source": [
    "max(numbers)"
   ]
  },
  {
   "cell_type": "code",
   "execution_count": 3,
   "id": "4edc12d2",
   "metadata": {},
   "outputs": [
    {
     "data": {
      "text/plain": [
       "537"
      ]
     },
     "execution_count": 3,
     "metadata": {},
     "output_type": "execute_result"
    }
   ],
   "source": [
    "sum(numbers)"
   ]
  },
  {
   "cell_type": "code",
   "execution_count": 5,
   "id": "bb53cab0",
   "metadata": {},
   "outputs": [
    {
     "name": "stdout",
     "output_type": "stream",
     "text": [
      "# reversed() 함수\n",
      "reversed([1, 2, 3, 4, 5]) :  <list_reverseiterator object at 0x7f8d80e7e7c0>\n",
      "list(reversed([1, 2, 3, 4, 5])) :  [5, 4, 3, 2, 1]\n",
      "\n",
      "# reversed() 함수와 반복문\n",
      "for i in reversed([1, 2, 3, 4, 5]) : \n",
      "- 5\n",
      "- 4\n",
      "- 3\n",
      "- 2\n",
      "- 1\n"
     ]
    }
   ],
   "source": [
    "# reversed\n",
    "# 리스트를 선언하고 뒤집습니다\n",
    "list_a = [1, 2, 3, 4, 5]\n",
    "list_reversed = reversed(list_a)\n",
    "\n",
    "# 출력합니다\n",
    "print(\"# reversed() 함수\")\n",
    "print(\"reversed([1, 2, 3, 4, 5]) : \", list_reversed)\n",
    "print(\"list(reversed([1, 2, 3, 4, 5])) : \", list(list_reversed))\n",
    "print()\n",
    "\n",
    "# 반복문을 적용해 봅니다\n",
    "print(\"# reversed() 함수와 반복문\")\n",
    "print(\"for i in reversed([1, 2, 3, 4, 5]) : \")\n",
    "for i in reversed(list_a):\n",
    "    print(\"-\", i)"
   ]
  },
  {
   "cell_type": "code",
   "execution_count": 6,
   "id": "e1c00b24",
   "metadata": {},
   "outputs": [
    {
     "name": "stdout",
     "output_type": "stream",
     "text": [
      "첫 번째 반복문 : 6\n",
      "첫 번째 반복문 : 5\n",
      "첫 번째 반복문 : 4\n",
      "첫 번째 반복문 : 3\n",
      "첫 번째 반복문 : 2\n",
      "첫 번째 반복문 : 1\n",
      "두 번째 반복문 : 6\n",
      "두 번째 반복문 : 5\n",
      "두 번째 반복문 : 4\n",
      "두 번째 반복문 : 3\n",
      "두 번째 반복문 : 2\n",
      "두 번째 반복문 : 1\n"
     ]
    }
   ],
   "source": [
    "numbers = [1, 2, 3, 4, 5, 6]\n",
    "\n",
    "for i in reversed(numbers):\n",
    "    print(\"첫 번째 반복문 : {}\".format(i))\n",
    "    \n",
    "for i in reversed(numbers):\n",
    "    print(\"두 번째 반복문 : {}\".format(i))"
   ]
  },
  {
   "cell_type": "code",
   "execution_count": 7,
   "id": "10cb143a",
   "metadata": {},
   "outputs": [
    {
     "name": "stdout",
     "output_type": "stream",
     "text": [
      "0번째 요소는 요소A입니다.\n",
      "1번째 요소는 요소B입니다.\n",
      "2번째 요소는 요소C입니다.\n"
     ]
    }
   ],
   "source": [
    "example_list = [\"요소A\", \"요소B\", \"요소C\"]\n",
    "i = 0\n",
    "for item in example_list:\n",
    "    print(\"{}번째 요소는 {}입니다.\".format(i, item))\n",
    "    i += 1"
   ]
  },
  {
   "cell_type": "code",
   "execution_count": 8,
   "id": "75e4f5e4",
   "metadata": {},
   "outputs": [
    {
     "name": "stdout",
     "output_type": "stream",
     "text": [
      "0번째 요소는 요소A입니다.\n",
      "1번째 요소는 요소B입니다.\n",
      "2번째 요소는 요소C입니다.\n"
     ]
    }
   ],
   "source": [
    "example_list = [\"요소A\", \"요소B\", \"요소C\"]\n",
    "for i in range(len(example_list)):\n",
    "    print(\"{}번째 요소는 {}입니다.\".format(i, example_list[i]))"
   ]
  },
  {
   "cell_type": "code",
   "execution_count": 9,
   "id": "b798ad4c",
   "metadata": {},
   "outputs": [
    {
     "name": "stdout",
     "output_type": "stream",
     "text": [
      "# 단순 출력\n",
      "['요소A', '요소B', '요소C']\n",
      "\n",
      "# enumerate() 함수 적용 출력\n",
      "<enumerate object at 0x7f8d80e61740>\n",
      "\n",
      "# list() 함수로 강제 변환 출력\n",
      "[(0, '요소A'), (1, '요소B'), (2, '요소C')]\n",
      "\n",
      "# 반복문과 조합하기\n",
      "0번째 요소는 요소A입니다.\n",
      "1번째 요소는 요소B입니다.\n",
      "2번째 요소는 요소C입니다.\n"
     ]
    }
   ],
   "source": [
    "# enumerate\n",
    "# 변수를 선언합니다\n",
    "example_list = [\"요소A\", \"요소B\", \"요소C\"]\n",
    "\n",
    "# 그냥 출력합니다\n",
    "print(\"# 단순 출력\")\n",
    "print(example_list)\n",
    "print()\n",
    "\n",
    "# enumerate() 함수를 적용해 출력합니다\n",
    "print(\"# enumerate() 함수 적용 출력\")\n",
    "print(enumerate(example_list))\n",
    "print()\n",
    "\n",
    "# list() 함수로 강제 변환해 출력합니다\n",
    "print(\"# list() 함수로 강제 변환 출력\")\n",
    "print(list(enumerate(example_list)))\n",
    "print()\n",
    "\n",
    "# for 반복문과 enumerate() 함수 조합해서 사용하기\n",
    "print(\"# 반복문과 조합하기\")\n",
    "for i, value in enumerate(example_list): # i, value 는 괄호 없는 튜플\n",
    "    print(\"{}번째 요소는 {}입니다.\".format(i, value))"
   ]
  },
  {
   "cell_type": "code",
   "execution_count": 11,
   "id": "0f0e09e0",
   "metadata": {},
   "outputs": [
    {
     "name": "stdout",
     "output_type": "stream",
     "text": [
      "# 딕셔너리의 items() 함수\n",
      "items() :  dict_items([('키A', '값A'), ('키B', '값B'), ('키C', '값C')])\n",
      "\n",
      "# 딕셔너리의 items() 함수와 반복문 조합하기\n",
      "dictionary[키A] = 값A\n",
      "dictionary[키B] = 값B\n",
      "dictionary[키C] = 값C\n"
     ]
    }
   ],
   "source": [
    "# items\n",
    "# 변수를 선언합니다\n",
    "example_dictionary = {\n",
    "    \"키A\" : \"값A\", \n",
    "    \"키B\" : \"값B\", \n",
    "    \"키C\" : \"값C\"\n",
    "}\n",
    "\n",
    "# 딕셔너리의 items() 함수 결과 출력하기\n",
    "print(\"# 딕셔너리의 items() 함수\")\n",
    "print(\"items() : \", example_dictionary.items())\n",
    "print()\n",
    "\n",
    "# for 반복문과 items() 함수 조합해서 사용하기\n",
    "print(\"# 딕셔너리의 items() 함수와 반복문 조합하기\")\n",
    "\n",
    "for key, element in example_dictionary.items():\n",
    "    print(\"dictionary[{}] = {}\".format(key, element))"
   ]
  },
  {
   "cell_type": "code",
   "execution_count": 12,
   "id": "34c19666",
   "metadata": {},
   "outputs": [
    {
     "name": "stdout",
     "output_type": "stream",
     "text": [
      "[0, 4, 16, 36, 64, 100, 144, 196, 256, 324]\n"
     ]
    }
   ],
   "source": [
    "# for_list01\n",
    "# 변수를 선언합니다\n",
    "array = []\n",
    "\n",
    "# 반복문을 적용합니다\n",
    "for i in range(0, 20 ,2):\n",
    "    array.append(i * i)\n",
    "# 출력합니다\n",
    "print(array)"
   ]
  },
  {
   "cell_type": "code",
   "execution_count": 13,
   "id": "3b5a261e",
   "metadata": {},
   "outputs": [
    {
     "name": "stdout",
     "output_type": "stream",
     "text": [
      "[0, 4, 16, 36, 64, 100, 144, 196, 256, 324]\n"
     ]
    }
   ],
   "source": [
    "# list_in\n",
    "# 리스트를 선언합니다\n",
    "array = [i * i for i in range(0, 20, 2)]\n",
    "\n",
    "# 출력합니다\n",
    "print(array)"
   ]
  },
  {
   "cell_type": "code",
   "execution_count": 14,
   "id": "a37b9f96",
   "metadata": {},
   "outputs": [
    {
     "name": "stdout",
     "output_type": "stream",
     "text": [
      "['사과', '자두', '바나나', '체리']\n"
     ]
    }
   ],
   "source": [
    "# array_comprehensions\n",
    "# 리스트를 선언합니다\n",
    "array = [\"사과\", \"자두\", \"초콜릿\", \"바나나\", \"체리\"]\n",
    "output = [fruit for fruit in array if fruit != \"초콜릿\"]\n",
    "\n",
    "# 출력합니다\n",
    "print(output)"
   ]
  },
  {
   "cell_type": "code",
   "execution_count": 15,
   "id": "4b12a6d3",
   "metadata": {},
   "outputs": [
    {
     "name": "stdout",
     "output_type": "stream",
     "text": [
      "정수 입력> 10\n",
      "    입력한 문자열은 10입니다.\n",
      "    10는(은) 짝수입니다.\n"
     ]
    }
   ],
   "source": [
    "# if_string(원치 않는 들여쓰기가 됨)\n",
    "# 변수를 선언합니다\n",
    "number = int(input(\"정수 입력> \"))\n",
    "\n",
    "# if 조건문으로 홀수 짝수를 구분합니다\n",
    "if number % 2 == 0:\n",
    "    print(\"\"\"\\\n",
    "    입력한 문자열은 {}입니다.\n",
    "    {}는(은) 짝수입니다.\"\"\".format(number, number))\n",
    "else:\n",
    "    print(\"\"\"\\\n",
    "    입력한 문자열은 {}입니다.\n",
    "    {}는(은) 홀수입니다.\"\"\".format(number, nuumber))"
   ]
  },
  {
   "cell_type": "code",
   "execution_count": 16,
   "id": "826428eb",
   "metadata": {},
   "outputs": [
    {
     "name": "stdout",
     "output_type": "stream",
     "text": [
      "정수 입력> 10\n",
      "입력한 문자열은 10입니다.\n",
      "10는(은) 짝수입니다.\n"
     ]
    }
   ],
   "source": [
    "# if_string01(들여쓰기는 없지만 코드가 이상함)\n",
    "# 변수를 선언합니다\n",
    "number = int(input(\"정수 입력> \"))\n",
    "\n",
    "# if 조건문으로 홀수 짝수를 구분합니다\n",
    "if number % 2 == 0:\n",
    "    print(\"\"\"입력한 문자열은 {}입니다.\n",
    "{}는(은) 짝수입니다.\"\"\".format(number, number))\n",
    "else:\n",
    "    print(\"\"\"입력한 문자열은 {}입니다.\n",
    "{}는(은) 홀수입니다.\"\"\".format(number, nuumber))"
   ]
  },
  {
   "cell_type": "code",
   "execution_count": 17,
   "id": "5183227c",
   "metadata": {},
   "outputs": [
    {
     "name": "stdout",
     "output_type": "stream",
     "text": [
      "정수 입력> 10\n",
      "입력한 문자열은 10입니다.\n",
      "10는(은) 짝수입니다.\n"
     ]
    }
   ],
   "source": [
    "# if_string02(문자열이 길어짐)\n",
    "# 변수를 선언합니다\n",
    "number = int(input(\"정수 입력> \"))\n",
    "\n",
    "# if 조건문으로 홀수 짝수를 구분합니다\n",
    "if number % 2 == 0:\n",
    "    print(\"\"\"입력한 문자열은 {}입니다.\\n{}는(은) 짝수입니다.\"\"\".format(number, number))\n",
    "else:\n",
    "    print(\"\"\"입력한 문자열은 {}입니다.\\n{}는(은) 홀수입니다.\"\"\".format(number, nuumber))"
   ]
  },
  {
   "cell_type": "code",
   "execution_count": 19,
   "id": "fdf69390",
   "metadata": {},
   "outputs": [
    {
     "name": "stdout",
     "output_type": "stream",
     "text": [
      "test :  이렇게 입력해도 하나의 문자열로 연결되어 생성됩니다.\n",
      "type(test) :  <class 'str'>\n"
     ]
    }
   ],
   "source": [
    "# string01\n",
    "# 변수를 선언합니다\n",
    "test = (\n",
    "\"이렇게 입력해도 \"\n",
    "\"하나의 문자열로 연결되어 \"\n",
    "\"생성됩니다.\"\n",
    ")\n",
    "\n",
    "# 출력합니다\n",
    "print(\"test : \", test)\n",
    "print(\"type(test) : \", type(test))"
   ]
  },
  {
   "cell_type": "code",
   "execution_count": 20,
   "id": "7f0e73b9",
   "metadata": {},
   "outputs": [
    {
     "name": "stdout",
     "output_type": "stream",
     "text": [
      "정수 입력> 10\n",
      "입력한 문자열은 10입니다.\n",
      "10는(은) 짝수입니다.\n"
     ]
    }
   ],
   "source": [
    "# string02\n",
    "# 변수를 선언합니다\n",
    "number = int(input(\"정수 입력> \"))\n",
    "\n",
    "# if 조건문으로 홀수 짝수를 구분합니다\n",
    "if number % 2 == 0:\n",
    "    print((\n",
    "    \"입력한 문자열은 {}입니다.\\n\"\n",
    "    \"{}는(은) 짝수입니다.\"\n",
    "    ).format(number, number))\n",
    "else :\n",
    "    print((\"입력한 문자열은 {}입니다.\\n\"\n",
    "          \"{}는(은) 홀수입니다.\"\n",
    "          ).format(number, number))"
   ]
  },
  {
   "cell_type": "code",
   "execution_count": 21,
   "id": "061b8e15",
   "metadata": {},
   "outputs": [
    {
     "name": "stdout",
     "output_type": "stream",
     "text": [
      "정수 입력> 10\n",
      "입력한 문자열은 10입니다.\n",
      "10는(은) 짝수입니다.\n"
     ]
    }
   ],
   "source": [
    "# string03\n",
    "# 변수를 선언합니다\n",
    "number = int(input(\"정수 입력> \"))\n",
    "\n",
    "# if 조건문으로 홀수 짝수를 구분합니다\n",
    "if number % 2 == 0:\n",
    "    print(\"\\n\".join([\n",
    "        \"입력한 문자열은 {}입니다.\", \n",
    "        \"{}는(은) 짝수입니다.\"\n",
    "    ]).format(number, number))\n",
    "else :\n",
    "    print(\"\\n\".join([\n",
    "        \"입력한 문자열은 {}입니다.\", \n",
    "        \"{}는(은) 홀수입니다.\"\n",
    "    ]).format(number, number))"
   ]
  },
  {
   "cell_type": "code",
   "execution_count": 22,
   "id": "c3b6a64f",
   "metadata": {},
   "outputs": [
    {
     "name": "stdout",
     "output_type": "stream",
     "text": [
      "reversed_numbers :  <list_reverseiterator object at 0x7f8d6024cd30>\n",
      "6\n",
      "5\n",
      "4\n",
      "3\n",
      "2\n"
     ]
    }
   ],
   "source": [
    "# iterator01\n",
    "# 변수르 선언합니다\n",
    "numbers = [1, 2, 3, 4, 5, 6]\n",
    "r_num = reversed(numbers)\n",
    "\n",
    "# reversed_numbers를 출력합니다\n",
    "print(\"reversed_numbers : \", r_num)\n",
    "print(next(r_num))\n",
    "print(next(r_num))\n",
    "print(next(r_num))\n",
    "print(next(r_num))\n",
    "print(next(r_num))"
   ]
  },
  {
   "cell_type": "code",
   "execution_count": 23,
   "id": "6bfa0de7",
   "metadata": {},
   "outputs": [
    {
     "name": "stdout",
     "output_type": "stream",
     "text": [
      "[1, 2, 3, 4, 1, 2, 3, 1, 4, 1, 2, 3]에서\n",
      "사용된 숫자의 종류는 4개입니다.\n",
      "\n",
      "참고 : {1: 4, 2: 3, 3: 3, 4: 2}\n"
     ]
    }
   ],
   "source": [
    "# 도전문제 1-1\n",
    "a = [1, 2, 3, 4, 1, 2, 3, 1, 4, 1, 2, 3]\n",
    "counter = {}\n",
    "\n",
    "for i in a:\n",
    "    if i not in counter:\n",
    "        counter[i] = 0\n",
    "    counter[i] += 1\n",
    "    \n",
    "print(f\"{a}에서\")\n",
    "print(f\"사용된 숫자의 종류는 {len(counter)}개입니다.\")\n",
    "print()\n",
    "print(f\"참고 : {counter}\")"
   ]
  },
  {
   "cell_type": "code",
   "execution_count": 24,
   "id": "ea0890a7",
   "metadata": {},
   "outputs": [
    {
     "name": "stdout",
     "output_type": "stream",
     "text": [
      "염기 서열을 입력해주세요 : ctacaatgtcagtatacccattgcattagccgg\n",
      "a의 개수 : 9\n",
      "t의 개수 : 9\n",
      "g의 개수 : 6\n",
      "c의 개수 : 9\n"
     ]
    }
   ],
   "source": [
    "# 도전문제 1-2\n",
    "nucleos = input(\"염기 서열을 입력해주세요 : \")\n",
    "counter = {\n",
    "    \"a\":0, \n",
    "    \"t\":0, \n",
    "    \"g\":0, \n",
    "    \"c\":0\n",
    "}\n",
    "\n",
    "for nucleo in nucleos:\n",
    "    counter[nucleo] += 1\n",
    "    \n",
    "for key in counter:\n",
    "    print(f\"{key}의 개수 : {counter[key]}\")"
   ]
  },
  {
   "cell_type": "code",
   "execution_count": 25,
   "id": "937995c6",
   "metadata": {},
   "outputs": [
    {
     "name": "stdout",
     "output_type": "stream",
     "text": [
      "염기 서열을 입력해주세요 : ctacaatgtcagtatacccattgcattagccgg\n",
      "c의 개수 : 9\n",
      "t의 개수 : 9\n",
      "a의 개수 : 9\n",
      "g의 개수 : 6\n"
     ]
    }
   ],
   "source": [
    "from collections import Counter\n",
    "\n",
    "nucleos = input(\"염기 서열을 입력해주세요 : \")\n",
    "counter = Counter(nucleos)\n",
    "\n",
    "for key in counter:\n",
    "    print(f\"{key}의 개수 : {counter[key]}\")"
   ]
  },
  {
   "cell_type": "code",
   "execution_count": 27,
   "id": "ec3ffdf0",
   "metadata": {},
   "outputs": [
    {
     "name": "stdout",
     "output_type": "stream",
     "text": [
      "cta\n",
      "caa\n",
      "tgt\n",
      "cag\n",
      "tat\n",
      "acc\n",
      "cat\n",
      "tgc\n",
      "att\n",
      "agc\n",
      "cgg\n"
     ]
    }
   ],
   "source": [
    "# 도전문제 1-3\n",
    "nucleos = \"ctacaatgtcagtatacccattgcattagccgg\"\n",
    "\n",
    "for i in range(0, len(nucleos), 3):\n",
    "    # 3글자씩 추출합니다\n",
    "    codon = nucleos[i:i+3]\n",
    "    # 3글자로 구성되는지 확인합니다\n",
    "    if len(codon) == 3:\n",
    "        print(codon)"
   ]
  },
  {
   "cell_type": "code",
   "execution_count": 28,
   "id": "d977a9a1",
   "metadata": {},
   "outputs": [
    {
     "name": "stdout",
     "output_type": "stream",
     "text": [
      "염기 서열을 입력해주세요 : ctacaatgtcagtatacccattgcattagccgg\n",
      "{'cta': 1, 'caa': 1, 'tgt': 1, 'cag': 1, 'tat': 1, 'acc': 1, 'cat': 1, 'tgc': 1, 'att': 1, 'agc': 1, 'cgg': 1}\n"
     ]
    }
   ],
   "source": [
    "nucleos = input(\"염기 서열을 입력해주세요 : \")\n",
    "counter = {}\n",
    "\n",
    "for i in range(0, len(nucleos), 3):\n",
    "    # 3글자씩 추출합니다\n",
    "    codon = nucleos[i:i+3]\n",
    "    # 3글자로 구성되는지 확인합니다\n",
    "    if len(codon) == 3:\n",
    "        # 딕셔너리에 키가 없ㅇ르 경우 추가합니다\n",
    "        if codon not in counter:\n",
    "            counter[codon] = 0\n",
    "        # 갯수를 추가합니다\n",
    "        counter[codon] += 1\n",
    "        \n",
    "print(counter)"
   ]
  },
  {
   "cell_type": "code",
   "execution_count": 29,
   "id": "e29871ff",
   "metadata": {},
   "outputs": [
    {
     "name": "stdout",
     "output_type": "stream",
     "text": [
      "[1, 2, [3, 4], 5, [6, 7], [8, 9]]를  평탄화하면\n",
      "[1, 2, 3, 4, 5, 6, 7, 8, 9]입니다\n"
     ]
    }
   ],
   "source": [
    "# 도전문제 1-4\n",
    "a = [1, 2, [3, 4], 5, [6, 7], [8, 9]]\n",
    "output = []\n",
    "\n",
    "for i in a:\n",
    "    if type(i) == list:\n",
    "        # 요소가 리스트라면: 또 반복해서 요소를 추가합니다\n",
    "        for j in i:\n",
    "            output.append(j)\n",
    "    else:\n",
    "        # 요소가 숫자라면: 그냥 추가합니다\n",
    "        output.append(i)\n",
    "        \n",
    "print(f\"{a}를  평탄화하면\")\n",
    "print(f\"{output}입니다\")"
   ]
  }
 ],
 "metadata": {
  "kernelspec": {
   "display_name": "Python 3 (ipykernel)",
   "language": "python",
   "name": "python3"
  },
  "language_info": {
   "codemirror_mode": {
    "name": "ipython",
    "version": 3
   },
   "file_extension": ".py",
   "mimetype": "text/x-python",
   "name": "python",
   "nbconvert_exporter": "python",
   "pygments_lexer": "ipython3",
   "version": "3.9.12"
  }
 },
 "nbformat": 4,
 "nbformat_minor": 5
}
