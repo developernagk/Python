{
 "cells": [
  {
   "cell_type": "code",
   "execution_count": 1,
   "id": "9e121ffd",
   "metadata": {},
   "outputs": [
    {
     "name": "stdout",
     "output_type": "stream",
     "text": [
      "안녕하세요\n",
      "안녕하세요\n",
      "안녕하세요\n"
     ]
    }
   ],
   "source": [
    "# fun_basic\n",
    "def print_3_times():\n",
    "    print(\"안녕하세요\")\n",
    "    print(\"안녕하세요\")\n",
    "    print(\"안녕하세요\")\n",
    "    \n",
    "print_3_times()"
   ]
  },
  {
   "cell_type": "code",
   "execution_count": 2,
   "id": "73ce8a1d",
   "metadata": {},
   "outputs": [
    {
     "name": "stdout",
     "output_type": "stream",
     "text": [
      "안녕하세요\n",
      "안녕하세요\n",
      "안녕하세요\n",
      "안녕하세요\n",
      "안녕하세요\n"
     ]
    }
   ],
   "source": [
    "# param_basic\n",
    "def print_n_times(value, n):\n",
    "    for i in range(n):\n",
    "        print(value)\n",
    "        \n",
    "print_n_times(\"안녕하세요\", 5)"
   ]
  },
  {
   "cell_type": "code",
   "execution_count": 4,
   "id": "d1068a6e",
   "metadata": {},
   "outputs": [
    {
     "name": "stdout",
     "output_type": "stream",
     "text": [
      "안녕하세요\n",
      "즐거운\n",
      "파이썬 프로그래밍\n",
      "\n",
      "안녕하세요\n",
      "즐거운\n",
      "파이썬 프로그래밍\n",
      "\n",
      "안녕하세요\n",
      "즐거운\n",
      "파이썬 프로그래밍\n",
      "\n"
     ]
    }
   ],
   "source": [
    "# variable_param\n",
    "def print_n_times(n, *values):\n",
    "    # n번 반복합니다\n",
    "    for i in range(n):\n",
    "        # values는 리스트처럼 활용합니다\n",
    "        for value in values:\n",
    "            print(value)\n",
    "        # 단순한 줄바꿈\n",
    "        print()\n",
    "        \n",
    "# 함수를 호출합니다\n",
    "print_n_times(3, \"안녕하세요\", \"즐거운\", \"파이썬 프로그래밍\")"
   ]
  },
  {
   "cell_type": "code",
   "execution_count": 5,
   "id": "f3ba7301",
   "metadata": {},
   "outputs": [
    {
     "name": "stdout",
     "output_type": "stream",
     "text": [
      "안녕하세요\n",
      "안녕하세요\n"
     ]
    }
   ],
   "source": [
    "# default_param\n",
    "def print_n_times(value, n = 2):\n",
    "    # n번 반복합니다\n",
    "    for i in range(n):\n",
    "        print(value)\n",
    "        \n",
    "# 함수를 호출합니다\n",
    "print_n_times(\"안녕하세요\")"
   ]
  },
  {
   "cell_type": "code",
   "execution_count": 6,
   "id": "035e382e",
   "metadata": {},
   "outputs": [
    {
     "name": "stdout",
     "output_type": "stream",
     "text": [
      "안녕하세요\n",
      "즐거운\n",
      "파이썬 프로그래밍\n",
      "3\n",
      "\n",
      "안녕하세요\n",
      "즐거운\n",
      "파이썬 프로그래밍\n",
      "3\n",
      "\n"
     ]
    }
   ],
   "source": [
    "def print_n_times(*values, n=2):\n",
    "    # n번 반복합니다\n",
    "    for i in range(n):\n",
    "        # values는 리스트처럼 활용합니다\n",
    "        for value in values:\n",
    "            print(value)\n",
    "        # 단순한 줄바꿈\n",
    "        print()\n",
    "        \n",
    "# 함수를 호출합니다\n",
    "print_n_times(\"안녕하세요\", \"즐거운\", \"파이썬 프로그래밍\", 3)"
   ]
  },
  {
   "cell_type": "code",
   "execution_count": 7,
   "id": "55bdd25b",
   "metadata": {},
   "outputs": [
    {
     "name": "stdout",
     "output_type": "stream",
     "text": [
      "안녕하세요\n",
      "즐거운\n",
      "파이썬 프로그래밍\n",
      "\n",
      "안녕하세요\n",
      "즐거운\n",
      "파이썬 프로그래밍\n",
      "\n",
      "안녕하세요\n",
      "즐거운\n",
      "파이썬 프로그래밍\n",
      "\n"
     ]
    }
   ],
   "source": [
    "# param_keyword01\n",
    "def print_n_times(*values, n=2):\n",
    "    # n번 반복합니다\n",
    "    for i in range(n):\n",
    "        # values는 리스트처럼 활용합니다\n",
    "        for value in values:\n",
    "            print(value)\n",
    "        # 단순한 줄바꿈\n",
    "        print()\n",
    "        \n",
    "# 함수를 호출합니다\n",
    "print_n_times(\"안녕하세요\", \"즐거운\", \"파이썬 프로그래밍\", n=3)"
   ]
  },
  {
   "cell_type": "code",
   "execution_count": 8,
   "id": "fbd8cf40",
   "metadata": {},
   "outputs": [
    {
     "name": "stdout",
     "output_type": "stream",
     "text": [
      "60\n",
      "310\n",
      "310\n",
      "220\n"
     ]
    }
   ],
   "source": [
    "# param_exmples\n",
    "def test(a, b=10, c=100):\n",
    "    print(a + b + c)\n",
    "    \n",
    "# 1) 기본 형태\n",
    "test(10, 20, 30)\n",
    "# 2) 키워드 매개변수로 모든 매개변수를 지정한 상태\n",
    "test(a=10, b=100, c=200)\n",
    "# 3) 키워드 매개변수로 모든 매개변수를 마구잡이로 지정한 형태\n",
    "test(c=10, a=100, b=200)\n",
    "# 4) 키워드 매개변수로 일부 매개변수만 지정한 상태\n",
    "test(10, c=200)"
   ]
  },
  {
   "cell_type": "code",
   "execution_count": 9,
   "id": "80044aa8",
   "metadata": {},
   "outputs": [
    {
     "name": "stdout",
     "output_type": "stream",
     "text": [
      "A 위치입니다.\n"
     ]
    }
   ],
   "source": [
    "# return_only\n",
    "#함수를 정의합니다\n",
    "def return_test():\n",
    "    print(\"A 위치입니다.\")\n",
    "    return\n",
    "    print(\"B 위치입니다.\")\n",
    "    \n",
    "# 함수를 호출합니다\n",
    "return_test()"
   ]
  },
  {
   "cell_type": "code",
   "execution_count": 10,
   "id": "cb4a5d22",
   "metadata": {},
   "outputs": [
    {
     "name": "stdout",
     "output_type": "stream",
     "text": [
      "100\n"
     ]
    }
   ],
   "source": [
    "# return_with_data\n",
    "# 함수를 정의합니다\n",
    "def return_test():\n",
    "    return 100\n",
    "\n",
    "# 함수를 호출합니다\n",
    "value = return_test()\n",
    "print(value)"
   ]
  },
  {
   "cell_type": "code",
   "execution_count": 11,
   "id": "944eea2f",
   "metadata": {},
   "outputs": [
    {
     "name": "stdout",
     "output_type": "stream",
     "text": [
      "None\n"
     ]
    }
   ],
   "source": [
    "# return_none\n",
    "# 함수를 정의합니다\n",
    "def return_test():\n",
    "    return\n",
    "\n",
    "# 함수를 호출합니다\n",
    "value = return_test()\n",
    "print(value)"
   ]
  },
  {
   "cell_type": "code",
   "execution_count": 12,
   "id": "2738c28d",
   "metadata": {},
   "outputs": [
    {
     "name": "stdout",
     "output_type": "stream",
     "text": [
      "0 to 100 :  5050\n",
      "0 to 1000 :  500500\n",
      "50 to 100 :  3825\n",
      "500 to 1000 :  375750\n"
     ]
    }
   ],
   "source": [
    "# sum_all_basic\n",
    "# 함수를 선언합니다\n",
    "def sum_all(start, end):\n",
    "    # 변수를 선언합니다\n",
    "    output = 0\n",
    "    # 반복문을 돌려 숫자를 더합니다\n",
    "    for i in range(start, end + 1):\n",
    "        output += i\n",
    "    # 리턴합니다\n",
    "    return output\n",
    "\n",
    "# 함수를 호출합니다\n",
    "print(\"0 to 100 : \", sum_all(0, 100))\n",
    "print(\"0 to 1000 : \", sum_all(0, 1000))\n",
    "print(\"50 to 100 : \", sum_all(50, 100))\n",
    "print(\"500 to 1000 : \", sum_all(500, 1000))"
   ]
  },
  {
   "cell_type": "code",
   "execution_count": 13,
   "id": "f6122980",
   "metadata": {},
   "outputs": [
    {
     "name": "stdout",
     "output_type": "stream",
     "text": [
      "A. 550\n",
      "B. 5050\n",
      "C. 2550\n"
     ]
    }
   ],
   "source": [
    "# sum_all_with_default\n",
    "# 함수를 선언합니다\n",
    "def sum_all(start=0, end=100, step=1):\n",
    "    # 변수를 선언합니다\n",
    "    output = 0\n",
    "    # 반복문을 돌려 숫자를 더합니다\n",
    "    for i in range(start, end + 1, step):\n",
    "        output += i\n",
    "    # 리턴합니다\n",
    "    return output\n",
    "\n",
    "# 함수를 호출합니다\n",
    "print(\"A.\", sum_all(0, 100, 10))\n",
    "print(\"B.\", sum_all(end=100))\n",
    "print(\"C.\", sum_all(end=100, step=2))"
   ]
  }
 ],
 "metadata": {
  "kernelspec": {
   "display_name": "Python 3 (ipykernel)",
   "language": "python",
   "name": "python3"
  },
  "language_info": {
   "codemirror_mode": {
    "name": "ipython",
    "version": 3
   },
   "file_extension": ".py",
   "mimetype": "text/x-python",
   "name": "python",
   "nbconvert_exporter": "python",
   "pygments_lexer": "ipython3",
   "version": "3.9.12"
  }
 },
 "nbformat": 4,
 "nbformat_minor": 5
}
