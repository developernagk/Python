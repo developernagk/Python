{
 "cells": [
  {
   "cell_type": "code",
   "execution_count": 1,
   "id": "bd693320",
   "metadata": {},
   "outputs": [
    {
     "name": "stdout",
     "output_type": "stream",
     "text": [
      "1! :  1\n",
      "2! :  2\n",
      "3! :  6\n",
      "4! :  24\n",
      "5! :  120\n"
     ]
    }
   ],
   "source": [
    "# factorial_for\n",
    "# 함수를 선언합니다\n",
    "def factorial(n):\n",
    "    # 변수를 선언합니다\n",
    "    output = 1\n",
    "    # 반복문을 돌려 숫자를 더합니다\n",
    "    for i in range(1, n + 1):\n",
    "        output *= i\n",
    "    # 리턴합니다\n",
    "    return output\n",
    "\n",
    "# 함수를 호출합니다\n",
    "print(\"1! : \", factorial(1))\n",
    "print(\"2! : \", factorial(2))\n",
    "print(\"3! : \", factorial(3))\n",
    "print(\"4! : \", factorial(4))\n",
    "print(\"5! : \", factorial(5))"
   ]
  },
  {
   "cell_type": "code",
   "execution_count": 2,
   "id": "650bb0a1",
   "metadata": {},
   "outputs": [
    {
     "name": "stdout",
     "output_type": "stream",
     "text": [
      "1! :  1\n",
      "2! :  2\n",
      "3! :  6\n",
      "4! :  24\n",
      "5! :  120\n"
     ]
    }
   ],
   "source": [
    "# factorial_recursion\n",
    "# 함수를 선언합니다\n",
    "def factorial(n):\n",
    "    # n이 0이라면 1을 리턴\n",
    "    if n ==0:\n",
    "        return 1\n",
    "    # n이 0아 아니라면 n * (n-1)!을 리턴\n",
    "    else:\n",
    "        return n * factorial(n - 1)\n",
    "    \n",
    "# 함수를 호출합니다\n",
    "print(\"1! : \", factorial(1))\n",
    "print(\"2! : \", factorial(2))\n",
    "print(\"3! : \", factorial(3))\n",
    "print(\"4! : \", factorial(4))\n",
    "print(\"5! : \", factorial(5))"
   ]
  },
  {
   "cell_type": "code",
   "execution_count": 3,
   "id": "c59592da",
   "metadata": {},
   "outputs": [
    {
     "name": "stdout",
     "output_type": "stream",
     "text": [
      "fibonacci(1) :  1\n",
      "fibonacci(2) :  1\n",
      "fibonacci(3) :  2\n",
      "fibonacci(4) :  3\n",
      "fibonacci(5) :  5\n"
     ]
    }
   ],
   "source": [
    "# fibonacci_recursion01\n",
    "# 함수를 선언합니다\n",
    "def fibonacci(n):\n",
    "    if n == 1:\n",
    "        return 1\n",
    "    if n == 2:\n",
    "        return 1\n",
    "    else:\n",
    "        return fibonacci(n - 1) + fibonacci(n - 2)\n",
    "    \n",
    "# 함수를 호출합니다\n",
    "print(\"fibonacci(1) : \", fibonacci(1))\n",
    "print(\"fibonacci(2) : \", fibonacci(2))\n",
    "print(\"fibonacci(3) : \", fibonacci(3))\n",
    "print(\"fibonacci(4) : \", fibonacci(4))\n",
    "print(\"fibonacci(5) : \", fibonacci(5))"
   ]
  },
  {
   "cell_type": "code",
   "execution_count": 4,
   "id": "5cf81aa3",
   "metadata": {},
   "outputs": [
    {
     "data": {
      "text/plain": [
       "9227465"
      ]
     },
     "execution_count": 4,
     "metadata": {},
     "output_type": "execute_result"
    }
   ],
   "source": [
    "fibonacci(35)"
   ]
  },
  {
   "cell_type": "code",
   "execution_count": 5,
   "id": "4928d609",
   "metadata": {},
   "outputs": [
    {
     "name": "stdout",
     "output_type": "stream",
     "text": [
      "fibonacci(10)를 구합니다.\n",
      "fibonacci(9)를 구합니다.\n",
      "fibonacci(8)를 구합니다.\n",
      "fibonacci(7)를 구합니다.\n",
      "fibonacci(6)를 구합니다.\n",
      "fibonacci(5)를 구합니다.\n",
      "fibonacci(4)를 구합니다.\n",
      "fibonacci(3)를 구합니다.\n",
      "fibonacci(2)를 구합니다.\n",
      "fibonacci(1)를 구합니다.\n",
      "fibonacci(2)를 구합니다.\n",
      "fibonacci(3)를 구합니다.\n",
      "fibonacci(2)를 구합니다.\n",
      "fibonacci(1)를 구합니다.\n",
      "fibonacci(4)를 구합니다.\n",
      "fibonacci(3)를 구합니다.\n",
      "fibonacci(2)를 구합니다.\n",
      "fibonacci(1)를 구합니다.\n",
      "fibonacci(2)를 구합니다.\n",
      "fibonacci(5)를 구합니다.\n",
      "fibonacci(4)를 구합니다.\n",
      "fibonacci(3)를 구합니다.\n",
      "fibonacci(2)를 구합니다.\n",
      "fibonacci(1)를 구합니다.\n",
      "fibonacci(2)를 구합니다.\n",
      "fibonacci(3)를 구합니다.\n",
      "fibonacci(2)를 구합니다.\n",
      "fibonacci(1)를 구합니다.\n",
      "fibonacci(6)를 구합니다.\n",
      "fibonacci(5)를 구합니다.\n",
      "fibonacci(4)를 구합니다.\n",
      "fibonacci(3)를 구합니다.\n",
      "fibonacci(2)를 구합니다.\n",
      "fibonacci(1)를 구합니다.\n",
      "fibonacci(2)를 구합니다.\n",
      "fibonacci(3)를 구합니다.\n",
      "fibonacci(2)를 구합니다.\n",
      "fibonacci(1)를 구합니다.\n",
      "fibonacci(4)를 구합니다.\n",
      "fibonacci(3)를 구합니다.\n",
      "fibonacci(2)를 구합니다.\n",
      "fibonacci(1)를 구합니다.\n",
      "fibonacci(2)를 구합니다.\n",
      "fibonacci(7)를 구합니다.\n",
      "fibonacci(6)를 구합니다.\n",
      "fibonacci(5)를 구합니다.\n",
      "fibonacci(4)를 구합니다.\n",
      "fibonacci(3)를 구합니다.\n",
      "fibonacci(2)를 구합니다.\n",
      "fibonacci(1)를 구합니다.\n",
      "fibonacci(2)를 구합니다.\n",
      "fibonacci(3)를 구합니다.\n",
      "fibonacci(2)를 구합니다.\n",
      "fibonacci(1)를 구합니다.\n",
      "fibonacci(4)를 구합니다.\n",
      "fibonacci(3)를 구합니다.\n",
      "fibonacci(2)를 구합니다.\n",
      "fibonacci(1)를 구합니다.\n",
      "fibonacci(2)를 구합니다.\n",
      "fibonacci(5)를 구합니다.\n",
      "fibonacci(4)를 구합니다.\n",
      "fibonacci(3)를 구합니다.\n",
      "fibonacci(2)를 구합니다.\n",
      "fibonacci(1)를 구합니다.\n",
      "fibonacci(2)를 구합니다.\n",
      "fibonacci(3)를 구합니다.\n",
      "fibonacci(2)를 구합니다.\n",
      "fibonacci(1)를 구합니다.\n",
      "fibonacci(8)를 구합니다.\n",
      "fibonacci(7)를 구합니다.\n",
      "fibonacci(6)를 구합니다.\n",
      "fibonacci(5)를 구합니다.\n",
      "fibonacci(4)를 구합니다.\n",
      "fibonacci(3)를 구합니다.\n",
      "fibonacci(2)를 구합니다.\n",
      "fibonacci(1)를 구합니다.\n",
      "fibonacci(2)를 구합니다.\n",
      "fibonacci(3)를 구합니다.\n",
      "fibonacci(2)를 구합니다.\n",
      "fibonacci(1)를 구합니다.\n",
      "fibonacci(4)를 구합니다.\n",
      "fibonacci(3)를 구합니다.\n",
      "fibonacci(2)를 구합니다.\n",
      "fibonacci(1)를 구합니다.\n",
      "fibonacci(2)를 구합니다.\n",
      "fibonacci(5)를 구합니다.\n",
      "fibonacci(4)를 구합니다.\n",
      "fibonacci(3)를 구합니다.\n",
      "fibonacci(2)를 구합니다.\n",
      "fibonacci(1)를 구합니다.\n",
      "fibonacci(2)를 구합니다.\n",
      "fibonacci(3)를 구합니다.\n",
      "fibonacci(2)를 구합니다.\n",
      "fibonacci(1)를 구합니다.\n",
      "fibonacci(6)를 구합니다.\n",
      "fibonacci(5)를 구합니다.\n",
      "fibonacci(4)를 구합니다.\n",
      "fibonacci(3)를 구합니다.\n",
      "fibonacci(2)를 구합니다.\n",
      "fibonacci(1)를 구합니다.\n",
      "fibonacci(2)를 구합니다.\n",
      "fibonacci(3)를 구합니다.\n",
      "fibonacci(2)를 구합니다.\n",
      "fibonacci(1)를 구합니다.\n",
      "fibonacci(4)를 구합니다.\n",
      "fibonacci(3)를 구합니다.\n",
      "fibonacci(2)를 구합니다.\n",
      "fibonacci(1)를 구합니다.\n",
      "fibonacci(2)를 구합니다.\n",
      "---\n",
      "fibonacci(10) 계산에 활용된 덧셈 횟수는 109번입니다.\n"
     ]
    }
   ],
   "source": [
    "# fibonacci_recursion02\n",
    "# 변수를 선언합니다\n",
    "counter = 0\n",
    "\n",
    "# 함수를 선언합니다\n",
    "def fibonacci(n):\n",
    "    # 어떤 피보나치 수를 구하는지 출력합니다\n",
    "    print(\"fibonacci({})를 구합니다.\".format(n))\n",
    "    global counter\n",
    "    counter += 1\n",
    "    # 피보나치 수를 구합니다\n",
    "    if n == 1:\n",
    "        return 1\n",
    "    if n == 2:\n",
    "        return 1\n",
    "    else:\n",
    "        return fibonacci(n - 1) + fibonacci(n - 2)\n",
    "    \n",
    "# 함수를 호출합니다\n",
    "fibonacci(10)\n",
    "print(\"---\")\n",
    "print(\"fibonacci(10) 계산에 활용된 덧셈 횟수는 {}번입니다.\".format(counter))"
   ]
  },
  {
   "cell_type": "code",
   "execution_count": 6,
   "id": "33b27a83",
   "metadata": {},
   "outputs": [
    {
     "name": "stdout",
     "output_type": "stream",
     "text": [
      "fibonacci(10) :  55\n",
      "fibonacci(20) :  6765\n",
      "fibonacci(30) :  832040\n",
      "fibonacci(40) :  102334155\n",
      "fibonacci(50) :  12586269025\n"
     ]
    }
   ],
   "source": [
    "# fibonacci_memo\n",
    "# 메모 변수를 만듭니다\n",
    "dictionary = {\n",
    "    1: 1,\n",
    "    2: 1\n",
    "}\n",
    "\n",
    "# 함수를 선언합니다\n",
    "def fibonacci(n):\n",
    "    if n in dictionary:\n",
    "        # 메모가 되어 있으면 메모된 값을 리턴\n",
    "        return dictionary[n]\n",
    "    else:\n",
    "        # 메모가 되어 있지 않으면 값을 구함\n",
    "        output = fibonacci(n - 1) + fibonacci(n - 2)\n",
    "        dictionary[n] = output\n",
    "        return output\n",
    "    \n",
    "# 함수를 호출합니다\n",
    "print(\"fibonacci(10) : \", fibonacci(10))\n",
    "print(\"fibonacci(20) : \", fibonacci(20))\n",
    "print(\"fibonacci(30) : \", fibonacci(30))\n",
    "print(\"fibonacci(40) : \", fibonacci(40))\n",
    "print(\"fibonacci(50) : \", fibonacci(50))"
   ]
  },
  {
   "cell_type": "code",
   "execution_count": 7,
   "id": "c59f7db0",
   "metadata": {},
   "outputs": [],
   "source": [
    "# 함수 흐름의 끝에 리턴을 적기 위함\n",
    "# 함수를 선언합니다\n",
    "def fibonacci(n):\n",
    "    if n in dictionary:\n",
    "        # 메모되어 있으면 메모된 값을 리턴\n",
    "        return dictionary[n]\n",
    "    else:\n",
    "        # 메모되어 있지 않으면 값을 구함\n",
    "        output = fibonacci(n - 1) + fibonacci(n - 2)\n",
    "        dictionary[n] = output\n",
    "        return output"
   ]
  },
  {
   "cell_type": "code",
   "execution_count": 8,
   "id": "e81df079",
   "metadata": {},
   "outputs": [],
   "source": [
    "# 조기 리턴\n",
    "# 함수를 선언합니다\n",
    "def fibonacci(n):\n",
    "    if n in dictionary:\n",
    "        # 메모되어 있으면 메모된 값 리턴\n",
    "        return dictionary[n]\n",
    "    # 메모되어 있지 않으면 값을 구함\n",
    "    output = fibonacci(n - 1) + fibonacci(n - 2)\n",
    "    dictionary[n] = output\n",
    "    return output"
   ]
  },
  {
   "cell_type": "code",
   "execution_count": 10,
   "id": "870e84fb",
   "metadata": {},
   "outputs": [
    {
     "name": "stdout",
     "output_type": "stream",
     "text": [
      "원본 :  [[1, 2, 3], [4, [5, 6]], 7, [8, 9]]\n",
      "변환 :  [1, 2, 3, 4, [5, 6], 7, 8, 9]\n"
     ]
    }
   ],
   "source": [
    "# list_flatten01\n",
    "def flatten(data):\n",
    "    output = []\n",
    "    for item in data:\n",
    "        if type(item) == list:\n",
    "            output += item\n",
    "        else:\n",
    "            output.append(item)\n",
    "    return output\n",
    "\n",
    "example = [[1, 2, 3], [4, [5, 6]], 7, [8, 9]]\n",
    "print(\"원본 : \", example)\n",
    "print(\"변환 : \", flatten(example))"
   ]
  },
  {
   "cell_type": "code",
   "execution_count": 11,
   "id": "afb47a2d",
   "metadata": {},
   "outputs": [
    {
     "name": "stdout",
     "output_type": "stream",
     "text": [
      "원본 :  [[1, 2, 3], [4, [5, 6]], 7, [8, 9]]\n",
      "변환 :  [1, 2, 3, 4, 5, 6, 7, 8, 9]\n"
     ]
    }
   ],
   "source": [
    "# list_flatten02\n",
    "def flatten(data):\n",
    "    output = []\n",
    "    for item in data:\n",
    "        if type(item) == list:\n",
    "            output += flatten(item) # flatten() 함수를 재귀적으로 호출\n",
    "        else:\n",
    "            output.append(item)\n",
    "    return output\n",
    "\n",
    "example = [[1, 2, 3], [4, [5, 6]], 7, [8, 9]]\n",
    "print(\"원본 : \", example)\n",
    "print(\"변환 : \", flatten(example))"
   ]
  }
 ],
 "metadata": {
  "kernelspec": {
   "display_name": "Python 3 (ipykernel)",
   "language": "python",
   "name": "python3"
  },
  "language_info": {
   "codemirror_mode": {
    "name": "ipython",
    "version": 3
   },
   "file_extension": ".py",
   "mimetype": "text/x-python",
   "name": "python",
   "nbconvert_exporter": "python",
   "pygments_lexer": "ipython3",
   "version": "3.9.12"
  }
 },
 "nbformat": 4,
 "nbformat_minor": 5
}
