{
 "cells": [
  {
   "cell_type": "code",
   "execution_count": 2,
   "id": "7232498a",
   "metadata": {},
   "outputs": [
    {
     "name": "stdout",
     "output_type": "stream",
     "text": [
      "정수 입력 > yes!!\n",
      "정수를 입력하지 않았습니다.\n"
     ]
    }
   ],
   "source": [
    "# handle_with_condition\n",
    "# 숫자를 입력받습니다\n",
    "user_input_a = input(\"정수 입력 > \")\n",
    "\n",
    "# 사용자 입력이 숫자로만 구성되어 있을 떼\n",
    "if user_input_a.isdigit():\n",
    "    # 숫자로 변환합니다\n",
    "    number_input_a = int(user_input_a)\n",
    "    # 출력합니다\n",
    "    print(\"원의 반지름 : \", number_input_a)\n",
    "    print(\"원이 둘레 : \", 2 * 3.14 * number_input_a)\n",
    "    print(\"원의 넓이 : \", 3.14 * number_input_a * number_input_a)\n",
    "else:\n",
    "    print(\"정수를 입력하지 않았습니다.\")"
   ]
  },
  {
   "cell_type": "code",
   "execution_count": null,
   "id": "9d8f0e38",
   "metadata": {},
   "outputs": [],
   "source": [
    "### handle_with_try\n",
    "# try except 구문으로 예외를 처리합니다\n",
    "try:\n",
    "    # 숫자로 변환합니다\n",
    "    number_input_a = int(input(\"정수 입력 > \")) # 예외가 발생할 가능성이 있는 구문\n",
    "    # 출력합니다\n",
    "    print(\"원의 반지름 : \", number_input_a)\n",
    "    print(\"원의 둘레 : \", 2 * 3.14 * number_input_a)\n",
    "    print(\"원의 넓이 : \", 3.14 * number_input_a * number_input_a)\n",
    "except:\n",
    "    print(\"무언가 잘못되었습니다.\") # 예외가 발생했을 때 실행할 구문"
   ]
  },
  {
   "cell_type": "code",
   "execution_count": 5,
   "id": "e7df5023",
   "metadata": {},
   "outputs": [
    {
     "name": "stdout",
     "output_type": "stream",
     "text": [
      "['52', '273', '32', '스파이', '103'] 내부에 있는 숫자는\n",
      "['52', '273', '32', '103']입니다.\n"
     ]
    }
   ],
   "source": [
    "# try_pass\n",
    "# 변수를 선언합니다\n",
    "list_input_a = [\"52\", \"273\", \"32\", \"스파이\", \"103\"]\n",
    "\n",
    "# 반복을 적용합니다\n",
    "list_number = []\n",
    "for item in list_input_a:\n",
    "    # 숫자로 변환해서 리스트에 추가합니다\n",
    "    try:\n",
    "        float(item) # 예외가 발생하면 알아서 다음으로 진행은 안 되겠지?\n",
    "        list_number.append(item) # 예외 없이 통과했으면 list_number 리스트에 넣어줘!\n",
    "    except:\n",
    "        pass\n",
    "    \n",
    "# 출력합니다\n",
    "print(\"{} 내부에 있는 숫자는\".format(list_input_a))\n",
    "print(\"{}입니다.\".format(list_number))"
   ]
  },
  {
   "cell_type": "code",
   "execution_count": 8,
   "id": "86f03403",
   "metadata": {},
   "outputs": [
    {
     "name": "stdout",
     "output_type": "stream",
     "text": [
      "정수 입력 > yes!!\n",
      "정수를 입력하지 않았습니다.\n"
     ]
    }
   ],
   "source": [
    "# try_except_else\n",
    "# try except else 구문으로 예외를 처리합니다\n",
    "try:\n",
    "    # 숫자로 변환합니다\n",
    "    number_input_a = int(input(\"정수 입력 > \"))\n",
    "except:\n",
    "    print(\"정수를 입력하지 않았습니다.\")\n",
    "else:\n",
    "    # 출력합니다\n",
    "    print(\"원의 반지름 : \", number_input_a)\n",
    "    print(\"원의 둘레 : \", 2 * 3.14 * number_input_a)\n",
    "    print(\"원의 넓이 : \", 3.14 * number_input_a * number_input_a)"
   ]
  },
  {
   "cell_type": "code",
   "execution_count": 11,
   "id": "b8004615",
   "metadata": {},
   "outputs": [
    {
     "name": "stdout",
     "output_type": "stream",
     "text": [
      "정수 입력 > yes!!\n",
      "정수를 입력하지 않았습니다.\n",
      "일단 프로그래밍 어떻게든 끝났습니다.\n"
     ]
    }
   ],
   "source": [
    "# try_except_else_finally\n",
    "# try except 구문으로 예외를 처리합니다\n",
    "try:\n",
    "    # 숫자로 변환합니다\n",
    "    number_input_a = int(input(\"정수 입력 > \"))\n",
    "    # 출력합니다\n",
    "    print(\"원의 반지름 : \", number_input_a)\n",
    "    print(\"원의 둘레 : \", 2 * 3.14 * number_input_a)\n",
    "    print(\"원의 넓이 : \", 3.14 * number_input_a * number_input_a)\n",
    "except:\n",
    "    print(\"정수를 입력하지 않았습니다.\")\n",
    "else:\n",
    "    print(\"예외가 발생하지 않았습니다.\")\n",
    "finally:\n",
    "    print(\"일단 프로그래밍 어떻게든 끝났습니다.\")"
   ]
  },
  {
   "cell_type": "code",
   "execution_count": 13,
   "id": "3a948f41",
   "metadata": {},
   "outputs": [
    {
     "name": "stdout",
     "output_type": "stream",
     "text": [
      "# 파일이 제대로 닫혔는지 확인하기\n",
      "file.closed :  True\n"
     ]
    }
   ],
   "source": [
    "# file_closed01\n",
    "# try except 구문을 사용합니다\n",
    "try:\n",
    "    # 파일을 엽니다\n",
    "    file = open(\"info.txt\", \"w\")\n",
    "    # 여러 가지 처리를 수행합니다\n",
    "    # 파일을 닫습니다\n",
    "    file.close()\n",
    "except:\n",
    "    print(\"오류가 발생했습니다\")\n",
    "    \n",
    "print(\"# 파일이 제대로 닫혔는지 확인하기\")\n",
    "print(\"file.closed : \", file.closed)"
   ]
  },
  {
   "cell_type": "code",
   "execution_count": 14,
   "id": "e846fe44",
   "metadata": {},
   "outputs": [
    {
     "name": "stdout",
     "output_type": "stream",
     "text": [
      "오류가 발생했습니다.\n",
      "# 파일이 제대로 닫혔는지 확인하기\n",
      "file.closed :  False\n"
     ]
    }
   ],
   "source": [
    "# file_closed02\n",
    "# try except 구문을 사용합니다\n",
    "try:\n",
    "    # 파일을 엽니다\n",
    "    file = open(\"info.txt\", \"w\")\n",
    "    # 여러 가지 처리를 수행합니다\n",
    "    예외.발생해라()\n",
    "    # 파일을 닫습니다\n",
    "    file.close()\n",
    "except:\n",
    "    print(\"오류가 발생했습니다.\")\n",
    "    \n",
    "print(\"# 파일이 제대로 닫혔는지 확인하기\")\n",
    "print(\"file.closed : \", file.closed)"
   ]
  },
  {
   "cell_type": "code",
   "execution_count": 17,
   "id": "e2683aad",
   "metadata": {},
   "outputs": [
    {
     "name": "stdout",
     "output_type": "stream",
     "text": [
      "오류가 발생했습니다.\n",
      "# 파일이 제대로 닫혔는지 확인하기\n",
      "file.closed :  True\n"
     ]
    }
   ],
   "source": [
    "# file_closed03\n",
    "# try except 구문을 사용합니다\n",
    "try:\n",
    "    # 파일을 엽니다\n",
    "    file = open(\"info.txt\", \"w\")\n",
    "    #여러 가지 처리를 수행합니다\n",
    "    예외.발생해라()\n",
    "except:\n",
    "    print(\"오류가 발생했습니다.\")\n",
    "finally:\n",
    "    # 파일을 닫습니다\n",
    "    file.close()\n",
    "    \n",
    "print(\"# 파일이 제대로 닫혔는지 확인하기\")\n",
    "print(\"file.closed : \", file.closed)"
   ]
  },
  {
   "cell_type": "code",
   "execution_count": 19,
   "id": "b6a86988",
   "metadata": {},
   "outputs": [
    {
     "name": "stdout",
     "output_type": "stream",
     "text": [
      "오류가 발생했습니다.\n",
      "# 파일이 제대로 닫혔는지 확인하기\n",
      "file.closed :  True\n"
     ]
    }
   ],
   "source": [
    "# file_clsoed04\n",
    "# try except 구문을 사용합니다\n",
    "try:\n",
    "    # 파일을 엽니다\n",
    "    file = open(\"info.txt\", \"w\")\n",
    "    # 여러 가지 처리를 수행합니다\n",
    "    예외.발생해라()\n",
    "except:\n",
    "    print(\"오류가 발생했습니다.\")\n",
    "    \n",
    "# 파일을 닫습니다\n",
    "file.close()\n",
    "print(\"# 파일이 제대로 닫혔는지 확인하기\")\n",
    "print(\"file.closed : \", file.closed)"
   ]
  },
  {
   "cell_type": "code",
   "execution_count": 20,
   "id": "75d9390b",
   "metadata": {},
   "outputs": [
    {
     "name": "stdout",
     "output_type": "stream",
     "text": [
      "test() 함수의 첫 줄입니다.\n",
      "try 구문이 실행되었습니다.\n",
      "finally 구문이 실행되었습니다.\n"
     ]
    }
   ],
   "source": [
    "# try_return01\n",
    "# test() 함수를 선언합니다\n",
    "def test():\n",
    "    print(\"test() 함수의 첫 줄입니다.\")\n",
    "    try:\n",
    "        print(\"try 구문이 실행되었습니다.\")\n",
    "        return\n",
    "        print(\"try 구문의 return 키워드 뒤입니다.\")\n",
    "    except:\n",
    "        print(\"except 구문이 실행되었습니다.\")\n",
    "    else:\n",
    "        print(\"else 구문이 실행되었습니다.\")\n",
    "    finally:\n",
    "        print(\"finally 구문이 실행되었습니다.\")\n",
    "    print(\"test() 함수이 마지막 줄입니다.\")\n",
    "    \n",
    "# test() 함수를 호출합니다\n",
    "test()"
   ]
  },
  {
   "cell_type": "code",
   "execution_count": 21,
   "id": "699add24",
   "metadata": {},
   "outputs": [],
   "source": [
    "# file_return02\n",
    "# 함수를 선언합니다\n",
    "def write_text_file(filename, text):\n",
    "    # try except 구문을 사용합니다\n",
    "    try:\n",
    "        # 파일을 엽니다\n",
    "        file = open(filename, \"w\")\n",
    "        # 여러 가지 처리를 수행합니다\n",
    "        return\n",
    "        # 파일에 텍스트를 입력합니다\n",
    "        file.write(text)\n",
    "    except:\n",
    "        print(\"오류가 발생했습니다.\")\n",
    "    finally:\n",
    "        # 파일을 닫습니다\n",
    "        file.close()\n",
    "        \n",
    "# 함수를 호출합니다\n",
    "write_text_file(\"test.txt\", \"안녕하세요!\")"
   ]
  },
  {
   "cell_type": "code",
   "execution_count": 22,
   "id": "17784ac1",
   "metadata": {},
   "outputs": [
    {
     "name": "stdout",
     "output_type": "stream",
     "text": [
      "프로그램이 시작되었습니다.\n",
      "try 구문이 실행되었습니다.\n",
      "finally 구문이 실행되었습니다.\n",
      "프로그램이 종료되었습니다.\n"
     ]
    }
   ],
   "source": [
    "# finally_loop\n",
    "print(\"프로그램이 시작되었습니다.\")\n",
    "\n",
    "while True:\n",
    "    try:\n",
    "        print(\"try 구문이 실행되었습니다.\")\n",
    "        break\n",
    "        print(\"try 구문의 break 키워드 뒤입니다.\")\n",
    "    except:\n",
    "        print(\"except 구문이 실행되었습니다.\")\n",
    "    finally:\n",
    "        print(\"finally 구문이 실행되었습니다.\")\n",
    "    print(\"while 반복문의 마지막 줄입니다.\")\n",
    "print(\"프로그램이 종료되었습니다.\")"
   ]
  }
 ],
 "metadata": {
  "kernelspec": {
   "display_name": "Python 3 (ipykernel)",
   "language": "python",
   "name": "python3"
  },
  "language_info": {
   "codemirror_mode": {
    "name": "ipython",
    "version": 3
   },
   "file_extension": ".py",
   "mimetype": "text/x-python",
   "name": "python",
   "nbconvert_exporter": "python",
   "pygments_lexer": "ipython3",
   "version": "3.9.12"
  }
 },
 "nbformat": 4,
 "nbformat_minor": 5
}
