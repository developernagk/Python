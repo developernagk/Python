{
 "cells": [
  {
   "cell_type": "code",
   "execution_count": 1,
   "id": "fd6153e5",
   "metadata": {},
   "outputs": [
    {
     "name": "stdout",
     "output_type": "stream",
     "text": [
      "정수 입력 > yes!!\n",
      "type(exception) :  <class 'ValueError'>\n",
      "exception :  invalid literal for int() with base 10: 'yes!!'\n"
     ]
    }
   ],
   "source": [
    "# except01\n",
    "# try except 구문으로 에외를 처리합니다\n",
    "try:\n",
    "    # 숫자로 변환합니다\n",
    "    number_input_a = int(input(\"정수 입력 > \"))\n",
    "    # 출력합니다\n",
    "    print(\"원의 반지름 : \", number_input_a)\n",
    "    print(\"원의 둘레 : \", 2 * 3.14 * number_input_a)\n",
    "    print(\"원의 넓이 : \", 3.14 * number_input_a * number_input_a)\n",
    "except Exception as exception:\n",
    "    # 예외 객체를 출력해봅니다\n",
    "    print(\"type(exception) : \", type(exception))\n",
    "    print(\"exception : \", exception)"
   ]
  },
  {
   "cell_type": "code",
   "execution_count": 4,
   "id": "48f2ab7c",
   "metadata": {},
   "outputs": [
    {
     "name": "stdout",
     "output_type": "stream",
     "text": [
      "정수 입력 > 100\n",
      "type(exception) :  <class 'IndexError'>\n",
      "exception list index out of range\n"
     ]
    }
   ],
   "source": [
    "# except02\n",
    "# 변수를 선언합니다\n",
    "list_number = [52, 273, 32, 72, 100]\n",
    "\n",
    "# try except 구문으로 예외를 처리합니다\n",
    "try:\n",
    "    # 숫자를 입력받습니다\n",
    "    number_input = int(input(\"정수 입력 > \"))\n",
    "    # 리스트의 요소를 출력합니다\n",
    "    print(\"{}번째 요소 : {}\".format(number_input, list_number[number_input]))\n",
    "except Exception as exception:\n",
    "    # 예외 객체를 출력해봅니다\n",
    "    print(\"type(exception) : \", type(exception))\n",
    "    print(\"exception\", exception)"
   ]
  },
  {
   "cell_type": "code",
   "execution_count": 6,
   "id": "61a413d7",
   "metadata": {},
   "outputs": [
    {
     "name": "stdout",
     "output_type": "stream",
     "text": [
      "정수 입력 > 100\n",
      "리스트의 인덱스를 벗어났어요!\n"
     ]
    }
   ],
   "source": [
    "# except_multi\n",
    "# 변수를 선언합니다\n",
    "list_number = [52, 273, 32, 72, 100]\n",
    "\n",
    "# try except 구문으로 예외를 처리합니다\n",
    "try:\n",
    "    # 숫자를 입력받습니다\n",
    "    number_input = int(input(\"정수 입력 > \"))\n",
    "    # 리스트의 요소를 출력합니다\n",
    "    print(\"{}번째 요소 : {}\".format(number_input, list_number[number_input]))\n",
    "except ValueError:\n",
    "    # ValueError가 발생하는 경우\n",
    "    print(\"정수를 입력해 주세요!\")\n",
    "except IndexError:\n",
    "    # IndexError가 발생하는 경우\n",
    "    print(\"리스트의 인덱스를 벗어났어요!\")"
   ]
  },
  {
   "cell_type": "code",
   "execution_count": 9,
   "id": "741b039e",
   "metadata": {},
   "outputs": [
    {
     "name": "stdout",
     "output_type": "stream",
     "text": [
      "정수 입력 > 100\n",
      "리스트의 인덱스를 벗어났어요!\n",
      "exception :  list index out of range\n"
     ]
    }
   ],
   "source": [
    "# except_as\n",
    "# 변수를 선언합니다\n",
    "list_number = [52, 273, 32, 72, 100]\n",
    "\n",
    "# try except 구문으로 예외를 처리합니다\n",
    "try:\n",
    "    # 숫자를 입력받습니다\n",
    "    number_input = int(input(\"정수 입력 > \"))\n",
    "    # 리스트의 요소를 출력합니다\n",
    "    print(\"{}번째 요소 : {}\".format(number_input, list_number[number_input]))\n",
    "except ValueError as exception:\n",
    "    # ValueError가 발생하는 경우\n",
    "    print(\"정수를 입력해주세요!\")\n",
    "    print(\"exception : \", exception)\n",
    "except IndexError as exception:\n",
    "    # IndexError가 발생하는 경우\n",
    "    print(\"리스트의 인덱스를 벗어났어요!\")\n",
    "    print(\"exception : \", exception)"
   ]
  },
  {
   "cell_type": "code",
   "execution_count": 11,
   "id": "d35ea54f",
   "metadata": {},
   "outputs": [
    {
     "name": "stdout",
     "output_type": "stream",
     "text": [
      "정수 입력 > 1\n",
      "1번째 요소 : 273\n"
     ]
    },
    {
     "ename": "NameError",
     "evalue": "name '예외' is not defined",
     "output_type": "error",
     "traceback": [
      "\u001b[0;31m---------------------------------------------------------------------------\u001b[0m",
      "\u001b[0;31mNameError\u001b[0m                                 Traceback (most recent call last)",
      "Input \u001b[0;32mIn [11]\u001b[0m, in \u001b[0;36m<cell line: 6>\u001b[0;34m()\u001b[0m\n\u001b[1;32m      9\u001b[0m     \u001b[38;5;66;03m# 리스트의 요소를 출력합니다\u001b[39;00m\n\u001b[1;32m     10\u001b[0m     \u001b[38;5;28mprint\u001b[39m(\u001b[38;5;124m\"\u001b[39m\u001b[38;5;132;01m{}\u001b[39;00m\u001b[38;5;124m번째 요소 : \u001b[39m\u001b[38;5;132;01m{}\u001b[39;00m\u001b[38;5;124m\"\u001b[39m\u001b[38;5;241m.\u001b[39mformat(number_input, list_number[number_input]))\n\u001b[0;32m---> 11\u001b[0m     \u001b[43m예외\u001b[49m\u001b[38;5;241m.\u001b[39m발생해주세요() \u001b[38;5;66;03m# 이 부분에서 잡지 않은 예외가 발생\u001b[39;00m\n\u001b[1;32m     12\u001b[0m \u001b[38;5;28;01mexcept\u001b[39;00m \u001b[38;5;167;01mValueError\u001b[39;00m \u001b[38;5;28;01mas\u001b[39;00m exception:\n\u001b[1;32m     13\u001b[0m     \u001b[38;5;66;03m# ValueError가 발생하는 경우\u001b[39;00m\n\u001b[1;32m     14\u001b[0m     \u001b[38;5;28mprint\u001b[39m(\u001b[38;5;124m\"\u001b[39m\u001b[38;5;124m정수를 입력해 주세요!\u001b[39m\u001b[38;5;124m\"\u001b[39m)\n",
      "\u001b[0;31mNameError\u001b[0m: name '예외' is not defined"
     ]
    }
   ],
   "source": [
    "# except03\n",
    "# 변수를 선언합니다\n",
    "list_number = [52, 273, 32, 72, 100]\n",
    "\n",
    "# try except 구문으로 예외를 처리합니다\n",
    "try:\n",
    "    # 숫자를 입력받습니다\n",
    "    number_input = int(input(\"정수 입력 > \"))\n",
    "    # 리스트의 요소를 출력합니다\n",
    "    print(\"{}번째 요소 : {}\".format(number_input, list_number[number_input]))\n",
    "    예외.발생해주세요() # 이 부분에서 잡지 않은 예외가 발생\n",
    "except ValueError as exception:\n",
    "    # ValueError가 발생하는 경우\n",
    "    print(\"정수를 입력해 주세요!\")\n",
    "    print(type(exception), exception)\n",
    "except IndexError as exception:\n",
    "    # IndexError가 발생하는 경우\n",
    "    print(\"리스트의 인덱스를 벗어났어요!\")\n",
    "    print(type(exception), exception)"
   ]
  },
  {
   "cell_type": "code",
   "execution_count": 12,
   "id": "a95d6ddd",
   "metadata": {},
   "outputs": [
    {
     "name": "stdout",
     "output_type": "stream",
     "text": [
      "정수 입력 > 1\n",
      "1번째 요소 : 273\n",
      "미리 파악하지 못한 예외가 발생했습니다.\n",
      "<class 'NameError'> name '예외' is not defined\n"
     ]
    }
   ],
   "source": [
    "# except_all\n",
    "# 변수를 선언합니다\n",
    "list_number = [52, 273, 32, 72, 100]\n",
    "\n",
    "# try except 구문으로 예외를 처리합니다\n",
    "try:\n",
    "    # 숫자를 입력받습니다\n",
    "    number_input = int(input(\"정수 입력 > \"))\n",
    "    # 리스트의 요소를 출력합니다\n",
    "    print(\"{}번째 요소 : {}\".format(number_input, list_number[number_input]))\n",
    "    예외.발생해주세요()\n",
    "except ValueError as exception:\n",
    "    # ValueError가 발생하는 경우\n",
    "    print(\"정수를 입력해주세요!\")\n",
    "    print(type(exception), exception)\n",
    "except IndexError as exception:\n",
    "    # IndexError가 발생하는 경우\n",
    "    print(\"리스트의 인덱스를 벗어났어요!\")\n",
    "    print(type(exception), exception)\n",
    "except Exception as exception: # ValueError와 IndexError가 아닌 예외가 발생했을 때 실행\n",
    "    # 이외의 예외가 바생한 경우\n",
    "    print(\"미리 파악하지 못한 예외가 발생했습니다.\")\n",
    "    print(type(exception), exception)"
   ]
  }
 ],
 "metadata": {
  "kernelspec": {
   "display_name": "Python 3 (ipykernel)",
   "language": "python",
   "name": "python3"
  },
  "language_info": {
   "codemirror_mode": {
    "name": "ipython",
    "version": 3
   },
   "file_extension": ".py",
   "mimetype": "text/x-python",
   "name": "python",
   "nbconvert_exporter": "python",
   "pygments_lexer": "ipython3",
   "version": "3.9.12"
  }
 },
 "nbformat": 4,
 "nbformat_minor": 5
}
