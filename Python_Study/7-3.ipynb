{
 "cells": [
  {
   "cell_type": "code",
   "execution_count": null,
   "id": "c5a670f8",
   "metadata": {},
   "outputs": [],
   "source": [
    "# module_basic 디렉터리를 만들어 'main.py'와 'test_module.py'를 넣어놓기\n",
    "# module_basic/test_module\n",
    "# test_module.py 파일\n",
    "PI = 3.141592\n",
    "\n",
    "def number_input():\n",
    "    output = input(\"숫자 입력 : \")\n",
    "    return float(output)\n",
    "\n",
    "def get_circumference(radius):\n",
    "    return 2 * PI * radius\n",
    "\n",
    "def get_circle_area(radius):\n",
    "    return PI * radius * radius"
   ]
  },
  {
   "cell_type": "code",
   "execution_count": null,
   "id": "5c933c77",
   "metadata": {},
   "outputs": [],
   "source": [
    "# module_basic/main\n",
    "# main.py 파일\n",
    "import test_module as test\n",
    "\n",
    "radius = test.number_input()\n",
    "print(test.get_circumference(radius))\n",
    "print(test.get_circle_area(radius))"
   ]
  },
  {
   "cell_type": "code",
   "execution_count": null,
   "id": "b7c35aa2",
   "metadata": {},
   "outputs": [],
   "source": [
    "# module_main/main\n",
    "# main.py 파일\n",
    "import test_module\n",
    "\n",
    "print(\"# 메인의 __name__ 출력하기\")\n",
    "print(__name__)\n",
    "print()"
   ]
  },
  {
   "cell_type": "code",
   "execution_count": null,
   "id": "19b4e25e",
   "metadata": {},
   "outputs": [],
   "source": [
    "# module_main/test_module\n",
    "#test_module.py 파일\n",
    "print(\"# 모듈의 __name__ 출력하기\")\n",
    "print(__name__)\n",
    "print()"
   ]
  },
  {
   "cell_type": "code",
   "execution_count": null,
   "id": "f74be35e",
   "metadata": {},
   "outputs": [],
   "source": [
    "# module_example/test_module\n",
    "PI = 3.141592\n",
    "\n",
    "def number_input():\n",
    "    output = input(\"숫자 입력 > \")\n",
    "    return float(output)\n",
    "\n",
    "def get_circumference(radius):\n",
    "    return 2 * PI * radius\n",
    "\n",
    "def get_circle_area(radius):\n",
    "    return PI * radius * radius\n",
    "\n",
    "# 활용 예\n",
    "print(\"get_circumference(10) : \", get_circumference(10))\n",
    "print(\"get_circle_area(10) : \", get_circle_area(10))"
   ]
  },
  {
   "cell_type": "code",
   "execution_count": null,
   "id": "ba14b96e",
   "metadata": {},
   "outputs": [],
   "source": [
    "# module_example/main\n",
    "import test_module as test\n",
    "\n",
    "radius = test.number_input()\n",
    "print(test.get_circumference(radius))\n",
    "print(test.get_circle_area(raidus))"
   ]
  },
  {
   "cell_type": "code",
   "execution_count": null,
   "id": "36c245e4",
   "metadata": {},
   "outputs": [],
   "source": [
    "# module_example/test_module\n",
    "# 엔트리 포인트 확인\n",
    "PI = 3.141592\n",
    "\n",
    "def number_input():\n",
    "    output = input(\"숫자 입력 > \")\n",
    "    return float(output)\n",
    "\n",
    "def get_circumference(radius):\n",
    "    return 2 * PI * radius\n",
    "\n",
    "def get_circle_area(radius):\n",
    "    return PI * radius * radius\n",
    "\n",
    "# 활용 예\n",
    "if __name__ == \"__main__\":\n",
    "    print(\"get_circumference(10) : \", get_circumference(10))\n",
    "    print(\"get_circle_area(10) : \", get_circle_area(10))"
   ]
  },
  {
   "cell_type": "code",
   "execution_count": null,
   "id": "e2954841",
   "metadata": {},
   "outputs": [],
   "source": [
    "# module_example/main\n",
    "# 엔트리 포인트 확인\n",
    "import test_module as test\n",
    "\n",
    "radius = test.number_input()\n",
    "print(test.get_circumference(radius))\n",
    "print(test.get_circle_area(raidus))"
   ]
  },
  {
   "cell_type": "code",
   "execution_count": null,
   "id": "70f3512e",
   "metadata": {},
   "outputs": [],
   "source": [
    "# module_package/test_package/module_a\n",
    "# ./test_package/module_a.py의 내용\n",
    "variable_a = \"a 모듈의 변수\""
   ]
  },
  {
   "cell_type": "code",
   "execution_count": null,
   "id": "06fb787a",
   "metadata": {},
   "outputs": [],
   "source": [
    "# module_package/test_package/module_b\n",
    "# ./test_package/module_b.py의 내용\n",
    "variable_b = \"b 모듈의 변수\""
   ]
  },
  {
   "cell_type": "code",
   "execution_count": null,
   "id": "de32d0af",
   "metadata": {},
   "outputs": [],
   "source": [
    "# module_package/main\n",
    "# 패키지 내부의 모듈을 읽어들입니다\n",
    "import test_package.module_a as a\n",
    "import test_package.module_b as b\n",
    "\n",
    "# 모듈 내부의 변수를 출력합니다\n",
    "print(a.variable_a)\n",
    "print(b.variable_b)"
   ]
  },
  {
   "cell_type": "code",
   "execution_count": null,
   "id": "9e72a111",
   "metadata": {},
   "outputs": [],
   "source": [
    "# module_package/test_package/__init__\n",
    "# \"from test_package import * \"로\n",
    "# 모듈을 읽어들일 때 가져올 모듈\n",
    "__all__ = [\"module_a\", \"module_b\"] # 사용 시 읽어들일 모듈의 목록\n",
    "\n",
    "# 패키지를 읽어들일 때 처리를 작성할 수도 있습니다\n",
    "print(\"test_package를 읽어들였습니다.\")"
   ]
  },
  {
   "cell_type": "code",
   "execution_count": null,
   "id": "8443fc6b",
   "metadata": {},
   "outputs": [],
   "source": [
    "# module_package/main_1\n",
    "# 패키지 내부의 모듈을 모두 읽어들입니다\n",
    "from test_package import *\n",
    "\n",
    "# 모듈 내부의 변수를 출력합니다\n",
    "print(module_a.variable_a)\n",
    "print(module_b.variable_b)"
   ]
  },
  {
   "cell_type": "code",
   "execution_count": null,
   "id": "6cb9a2a3",
   "metadata": {},
   "outputs": [],
   "source": [
    "# binary_download\n",
    "# 모듈을 읽어들입니다\n",
    "from urllib import request\n",
    "\n",
    "# urlopen() 함수로 구글의 메인 페이지를 읽습니다\n",
    "target = request.urlopen(\"https://www.hanbit.co.kr/images/common/logo_hanbit.png\")\n",
    "output = target.read()\n",
    "print(output)\n",
    "\n",
    "# write binary[바이너리 쓰기] 모드로\n",
    "file = open(\"output.png\", \"wb\") # 바이너리 형식으로 씁니다\n",
    "file.write(output)\n",
    "file.close()"
   ]
  }
 ],
 "metadata": {
  "kernelspec": {
   "display_name": "Python 3 (ipykernel)",
   "language": "python",
   "name": "python3"
  },
  "language_info": {
   "codemirror_mode": {
    "name": "ipython",
    "version": 3
   },
   "file_extension": ".py",
   "mimetype": "text/x-python",
   "name": "python",
   "nbconvert_exporter": "python",
   "pygments_lexer": "ipython3",
   "version": "3.9.12"
  }
 },
 "nbformat": 4,
 "nbformat_minor": 5
}
