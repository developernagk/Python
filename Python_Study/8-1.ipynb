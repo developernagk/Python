{
 "cells": [
  {
   "cell_type": "code",
   "execution_count": 1,
   "id": "0e86f9d9",
   "metadata": {},
   "outputs": [
    {
     "name": "stdout",
     "output_type": "stream",
     "text": [
      "이름\t총점\t평균\n",
      "윤인성\t368\t92.0\n",
      "연하진\t384\t96.0\n",
      "구지연\t356\t89.0\n",
      "나선주\t378\t94.5\n",
      "윤아린\t389\t97.25\n",
      "윤명월\t336\t84.0\n"
     ]
    }
   ],
   "source": [
    "# object_1_basic\n",
    "# 학생 리스트를 선언합니다\n",
    "students = [\n",
    "    {\"name\":\"윤인성\", \"korean\":87, \"math\":98, \"english\":88, \"science\":95}, \n",
    "    {\"name\":\"연하진\", \"korean\":92, \"math\":98, \"english\":96, \"science\":98}, \n",
    "    {\"name\":\"구지연\", \"korean\":76, \"math\":96, \"english\":94, \"science\":90}, \n",
    "    {\"name\":\"나선주\", \"korean\":98, \"math\":92, \"english\":96, \"science\":92}, \n",
    "    {\"name\":\"윤아린\", \"korean\":95, \"math\":98, \"english\":98, \"science\":98}, \n",
    "    {\"name\":\"윤명월\", \"korean\":64, \"math\":88, \"english\":92, \"science\":92}\n",
    "]\n",
    "\n",
    "# 학생ㅇ르 한 명씩 반복합니다\n",
    "print(\"이름\", \"총점\", \"평균\", sep=\"\\t\")\n",
    "for student in students:\n",
    "    # 점수의 총합과 평균을 구합니다\n",
    "    score_sum = student[\"korean\"] + student[\"math\"] + student[\"english\"] + student[\"science\"]\n",
    "    score_average = score_sum / 4\n",
    "    # 출력합니다\n",
    "    print(student[\"name\"], score_sum, score_average, sep=\"\\t\")"
   ]
  },
  {
   "cell_type": "code",
   "execution_count": 2,
   "id": "99646faa",
   "metadata": {},
   "outputs": [
    {
     "name": "stdout",
     "output_type": "stream",
     "text": [
      "이름\t총점\t평균\n",
      "윤인성\t368\t92.0\n",
      "연하진\t384\t96.0\n",
      "구지연\t356\t89.0\n",
      "나선주\t378\t94.5\n",
      "윤아린\t389\t97.25\n",
      "윤명월\t336\t84.0\n"
     ]
    }
   ],
   "source": [
    "# object_2_dict\n",
    "def create_student(name, korean, math, english, science):\n",
    "    return {\"name\":name, \n",
    "           \"korean\":korean, \n",
    "           \"math\":math, \n",
    "           \"english\":english, \n",
    "           \"science\":science\n",
    "           }\n",
    "\n",
    "# 학생 리스트를 선언합니다\n",
    "students = [\n",
    "    create_student(\"윤인성\", 87, 98, 88, 95), \n",
    "    create_student(\"연하진\", 92, 98, 96, 98), \n",
    "    create_student(\"구지연\", 76, 96, 94, 90), \n",
    "    create_student(\"나선주\", 98, 92, 96, 92), \n",
    "    create_student(\"윤아린\", 95, 98, 98, 98), \n",
    "    create_student(\"윤명월\", 64, 88, 92, 92)\n",
    "]\n",
    "\n",
    "# 학생을 한 명씩 반복합니다\n",
    "print(\"이름\", \"총점\", \"평균\", sep=\"\\t\")\n",
    "for student in students:\n",
    "    # 점수의 총합과 평균ㅇ르 구합니다\n",
    "    score_sum = student[\"korean\"] + student[\"math\"] + student[\"english\"] + student[\"science\"]\n",
    "    score_average = score_sum / 4\n",
    "    # 출력합니다\n",
    "    print(student[\"name\"], score_sum, score_average, sep=\"\\t\")"
   ]
  },
  {
   "cell_type": "code",
   "execution_count": 4,
   "id": "76209509",
   "metadata": {},
   "outputs": [
    {
     "name": "stdout",
     "output_type": "stream",
     "text": [
      "이름\t총점\t평균\n",
      "윤인성\t368\t92.0\n",
      "연하진\t384\t96.0\n",
      "구지연\t356\t89.0\n",
      "나선주\t378\t94.5\n",
      "윤아린\t389\t97.25\n",
      "윤명월\t336\t84.0\n"
     ]
    }
   ],
   "source": [
    "# object_3_seperate\n",
    "# 딕셔너리를 리턴하는 함수를 선언합니다\n",
    "def create_student(name, korean, math, english, science):\n",
    "    return {\"name\":name, \n",
    "           \"korean\":korean, \n",
    "           \"math\":math, \n",
    "           \"english\":english, \n",
    "           \"science\":science\n",
    "           }\n",
    "\n",
    "# 학생을 처리하는 함수를 선언합니다\n",
    "def student_get_sum(student):\n",
    "    return student[\"korean\"] + student[\"math\"] + student[\"english\"] + student[\"science\"]\n",
    "\n",
    "def student_get_average(student):\n",
    "    return student_get_sum(student) / 4\n",
    "\n",
    "def student_to_string(student):\n",
    "    return \"{}\\t{}\\t{}\".format(student[\"name\"], student_get_sum(student), student_get_average(student))\n",
    "\n",
    "# 학생 리스트를 선언합니다\n",
    "students = [\n",
    "    create_student(\"윤인성\", 87, 98, 88, 95), \n",
    "    create_student(\"연하진\", 92, 98, 96, 98), \n",
    "    create_student(\"구지연\", 76, 96, 94, 90), \n",
    "    create_student(\"나선주\", 98, 92, 96, 92), \n",
    "    create_student(\"윤아린\", 95, 98, 98, 98), \n",
    "    create_student(\"윤명월\", 64, 88, 92, 92)\n",
    "]\n",
    "\n",
    "# 학생을 한 명씩 반복합니다\n",
    "print(\"이름\", \"총점\", \"평균\", sep=\"\\t\")\n",
    "for student in students:\n",
    "    # 출력합니다\n",
    "    print(student_to_string(student))"
   ]
  },
  {
   "cell_type": "code",
   "execution_count": 5,
   "id": "19344b84",
   "metadata": {},
   "outputs": [],
   "source": [
    "# 클래스를 선언합니다\n",
    "class Student:\n",
    "    pass\n",
    "\n",
    "# 학생을 선언합니다\n",
    "student = Student()\n",
    "\n",
    "# 학생 리스트를 선언합니다\n",
    "students = [\n",
    "    Student(), \n",
    "    Student(), \n",
    "    Student(), \n",
    "    Student(), \n",
    "    Student(), \n",
    "    Student()\n",
    "]"
   ]
  },
  {
   "cell_type": "code",
   "execution_count": 7,
   "id": "837b8232",
   "metadata": {},
   "outputs": [
    {
     "data": {
      "text/plain": [
       "95"
      ]
     },
     "execution_count": 7,
     "metadata": {},
     "output_type": "execute_result"
    }
   ],
   "source": [
    "# 클래스를 선언합니다\n",
    "class Student:\n",
    "    def __init__(self, name, korean, math, english, science):\n",
    "        self.name = name\n",
    "        self.korean = korean\n",
    "        self.math = math\n",
    "        self.english = english\n",
    "        self.science = science\n",
    "        \n",
    "# 학생 리스트를 선언합니다.\n",
    "students = [\n",
    "    Student(\"윤인성\", 87, 98, 88, 95), \n",
    "    Student(\"연하진\", 92, 98, 96, 98), \n",
    "    Student(\"구지연\", 76, 96, 94, 90), \n",
    "    Student(\"나선주\", 98, 92, 96, 92), \n",
    "    Student(\"윤아린\", 95, 98, 98, 98), \n",
    "    Student(\"윤명월\", 64, 88, 92, 92)\n",
    "]\n",
    "\n",
    "# Student 인스턴스의 속성에 접근하는 방법\n",
    "students[0].name\n",
    "students[0].korean\n",
    "students[0].math\n",
    "students[0].english\n",
    "students[0].science"
   ]
  },
  {
   "cell_type": "code",
   "execution_count": 9,
   "id": "bef75dff",
   "metadata": {},
   "outputs": [
    {
     "name": "stdout",
     "output_type": "stream",
     "text": [
      "이름\t총점\t평균\n",
      "윤인성\t368\t92.0\n",
      "연하진\t384\t96.0\n",
      "구지연\t356\t89.0\n",
      "나선주\t378\t94.5\n",
      "윤아린\t389\t97.25\n",
      "윤명월\t336\t84.0\n"
     ]
    }
   ],
   "source": [
    "# object_4_class\n",
    "# 클래스를 선언합니다\n",
    "class Student:\n",
    "    def __init__(self, name, korean, math, english, science):\n",
    "        self.name = name\n",
    "        self.korean = korean\n",
    "        self.math = math\n",
    "        self.english = english\n",
    "        self.science = science\n",
    "        \n",
    "    def get_sum(self):\n",
    "        return self.korean + self.math + self.english + self.science\n",
    "    \n",
    "    def get_average(self):\n",
    "        return self.get_sum() / 4\n",
    "    \n",
    "    def to_string(self):\n",
    "        return \"{}\\t{}\\t{}\".format(self.name, self.get_sum(), self.get_average())\n",
    "    \n",
    "# 락생 리스트를 선언합니다\n",
    "students = [\n",
    "    Student(\"윤인성\", 87, 98, 88, 95), \n",
    "    Student(\"연하진\", 92, 98, 96, 98), \n",
    "    Student(\"구지연\", 76, 96, 94, 90), \n",
    "    Student(\"나선주\", 98, 92, 96, 92), \n",
    "    Student(\"윤아린\", 95, 98, 98, 98), \n",
    "    Student(\"윤명월\", 64, 88, 92, 92)\n",
    "]\n",
    "\n",
    "# 학생을 한 명씩 반복합니다\n",
    "print(\"이름\", \"총점\", \"평균\", sep=\"\\t\")\n",
    "for student in students:\n",
    "    # 출력합니다\n",
    "    print(student.to_string())"
   ]
  }
 ],
 "metadata": {
  "kernelspec": {
   "display_name": "Python 3 (ipykernel)",
   "language": "python",
   "name": "python3"
  },
  "language_info": {
   "codemirror_mode": {
    "name": "ipython",
    "version": 3
   },
   "file_extension": ".py",
   "mimetype": "text/x-python",
   "name": "python",
   "nbconvert_exporter": "python",
   "pygments_lexer": "ipython3",
   "version": "3.9.12"
  }
 },
 "nbformat": 4,
 "nbformat_minor": 5
}
