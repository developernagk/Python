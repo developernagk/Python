{
 "cells": [
  {
   "cell_type": "code",
   "execution_count": 1,
   "id": "4dd42675",
   "metadata": {},
   "outputs": [
    {
     "name": "stdout",
     "output_type": "stream",
     "text": [
      "isinstance(student, Student) :  True\n"
     ]
    }
   ],
   "source": [
    "# 클래스를 선언합니다\n",
    "class Student:\n",
    "    def __init__(self):\n",
    "        pass\n",
    "    \n",
    "# 학생을 선언합니다\n",
    "student = Student()\n",
    "\n",
    "# 인스턴스 확인하기\n",
    "print(\"isinstance(student, Student) : \", isinstance(student, Student))"
   ]
  },
  {
   "cell_type": "code",
   "execution_count": 4,
   "id": "8570bf56",
   "metadata": {},
   "outputs": [
    {
     "name": "stdout",
     "output_type": "stream",
     "text": [
      "공부를 합니다.\n",
      "공부를 합니다.\n",
      "학생을 가르칩니다.\n",
      "공부를 합니다.\n",
      "공부를 합니다.\n"
     ]
    }
   ],
   "source": [
    "# isinstance\n",
    "# 학생 클래스를 선언합니다\n",
    "class Student:\n",
    "    def study(self):\n",
    "        print(\"공부를 합니다.\")\n",
    "        \n",
    "# 선생님 클래스를 선언합니다\n",
    "class Teacher:\n",
    "    def teach(self):\n",
    "        print(\"학생을 가르칩니다.\")\n",
    "        \n",
    "# 교실 내부의 객체 리스트를 생성합니다\n",
    "classroom = [Student(), Student(), Teacher(), Student(), Student()]\n",
    "\n",
    "# 반복을 적용해서 적절한 함수를 호출하게 합니다\n",
    "for person in classroom:\n",
    "    if isinstance(person, Student):\n",
    "        person.study()\n",
    "    elif isinstance(person, Teacher):\n",
    "        person.teach()"
   ]
  },
  {
   "cell_type": "code",
   "execution_count": 5,
   "id": "3017963d",
   "metadata": {},
   "outputs": [
    {
     "name": "stdout",
     "output_type": "stream",
     "text": [
      "이름\t총점\t평균\n",
      "윤인성\t368\t92.0\n",
      "연하진\t384\t96.0\n",
      "구지연\t356\t89.0\n",
      "나선주\t378\t94.5\n",
      "윤아린\t389\t97.25\n",
      "윤명월\t336\t84.0\n"
     ]
    }
   ],
   "source": [
    "# str_func\n",
    "# 클래스를 선언합니다\n",
    "class Student:\n",
    "    def __init__(self, name, korean, math, english, science):\n",
    "        self.name = name\n",
    "        self.korean = korean\n",
    "        self.math = math\n",
    "        self.english = english\n",
    "        self.science = science\n",
    "        \n",
    "    def get_sum(self):\n",
    "        return self.korean + self.math + self.english + self. science\n",
    "    \n",
    "    def get_average(self):\n",
    "        return self.get_sum() / 4\n",
    "    \n",
    "    def __str__(self):\n",
    "        return \"{}\\t{}\\t{}\".format(self.name, self.get_sum(), self.get_average())\n",
    "    \n",
    "# 학생 리스트를 선언합니다\n",
    "students = [\n",
    "    Student(\"윤인성\", 87, 98, 88, 95), \n",
    "    Student(\"연하진\", 92, 98, 96, 98), \n",
    "    Student(\"구지연\", 76, 96, 94, 90), \n",
    "    Student(\"나선주\", 98, 92, 96, 92), \n",
    "    Student(\"윤아린\", 95, 98, 98, 98), \n",
    "    Student(\"윤명월\", 64, 88, 92, 92)\n",
    "]\n",
    "\n",
    "# 출력합니다\n",
    "print(\"이름\", \"총점\", \"평균\", sep=\"\\t\")\n",
    "for student in students:\n",
    "    print(str(student))"
   ]
  },
  {
   "cell_type": "code",
   "execution_count": 6,
   "id": "69571169",
   "metadata": {},
   "outputs": [
    {
     "name": "stdout",
     "output_type": "stream",
     "text": [
      "student_a == student_b =  False\n",
      "student_a != student_b =  True\n",
      "student_a > student_b =  False\n",
      "student_a >= student_b =  False\n",
      "student_a < student_b =  True\n",
      "student_a <= student_b =  True\n"
     ]
    }
   ],
   "source": [
    "# compare_func\n",
    "# 클래스를 선언합니다\n",
    "class Student:\n",
    "    def __init__(self, name, korean, math, english, science):\n",
    "        self.name = name\n",
    "        self.korean = korean\n",
    "        self.math = math\n",
    "        self.english = english\n",
    "        self.science = science\n",
    "        \n",
    "    def get_sum(self):\n",
    "        return self.korean + self.math + self.english + self.science\n",
    "    \n",
    "    def get_average(self):\n",
    "        return self.get_sum() / 4\n",
    "    \n",
    "    def __str__(self):\n",
    "        return \"{}\\t{}\\t{}\".format(self.name, self.get_sum(), self.get_average())\n",
    "    \n",
    "    def __eq__(self, value):\n",
    "        return self.get_sum() == value.get_sum()\n",
    "    def __ne__(self, value):\n",
    "        return self.get_sum() != value.get_sum()\n",
    "    def __gt__(self, value):\n",
    "        return self.get_sum() > value.get_sum()\n",
    "    def __ge__(self, value):\n",
    "        return self.get_sum() >= value.get_sum()\n",
    "    def __lt__(self, value):\n",
    "        return self.get_sum() < value.get_sum()\n",
    "    def __le____(self, value):\n",
    "        return self.get_sum() <= value.get_sum()\n",
    "    \n",
    "# 학생 리스트를 선언합니다\n",
    "students = [\n",
    "    Student(\"윤인성\", 87, 98, 88, 95), \n",
    "    Student(\"연하진\", 92, 98, 96, 98), \n",
    "    Student(\"구지연\", 76, 96, 94, 90), \n",
    "    Student(\"나선주\", 98, 92, 96, 92), \n",
    "    Student(\"윤아린\", 95, 98, 98, 98), \n",
    "    Student(\"윤명월\", 64, 88, 92, 92)\n",
    "]\n",
    "\n",
    "# 학생을 선언합니다\n",
    "student_a = Student(\"윤인성\", 87, 98, 88, 95),\n",
    "student_b = Student(\"연하진\", 92, 98, 96, 98),\n",
    "\n",
    "# 출력합니다\n",
    "print(\"student_a == student_b = \", student_a == student_b)\n",
    "print(\"student_a != student_b = \", student_a != student_b)\n",
    "print(\"student_a > student_b = \", student_a > student_b)\n",
    "print(\"student_a >= student_b = \", student_a >= student_b)\n",
    "print(\"student_a < student_b = \", student_a < student_b)\n",
    "print(\"student_a <= student_b = \", student_a <= student_b)"
   ]
  },
  {
   "cell_type": "code",
   "execution_count": 7,
   "id": "42eb9a72",
   "metadata": {},
   "outputs": [
    {
     "ename": "TypeError",
     "evalue": "Student() takes no arguments",
     "output_type": "error",
     "traceback": [
      "\u001b[0;31m---------------------------------------------------------------------------\u001b[0m",
      "\u001b[0;31mTypeError\u001b[0m                                 Traceback (most recent call last)",
      "Input \u001b[0;32mIn [7]\u001b[0m, in \u001b[0;36m<cell line: 12>\u001b[0;34m()\u001b[0m\n\u001b[1;32m      8\u001b[0m         \u001b[38;5;28;01mreturn\u001b[39;00m \u001b[38;5;28mself\u001b[39m\u001b[38;5;241m.\u001b[39mget_sum() \u001b[38;5;241m==\u001b[39m value\u001b[38;5;241m.\u001b[39mget_sum()\n\u001b[1;32m      9\u001b[0m     \u001b[38;5;66;03m# 생략\u001b[39;00m\n\u001b[1;32m     10\u001b[0m     \n\u001b[1;32m     11\u001b[0m \u001b[38;5;66;03m# 학생을 선언합니다\u001b[39;00m\n\u001b[0;32m---> 12\u001b[0m student_a \u001b[38;5;241m=\u001b[39m \u001b[43mStudent\u001b[49m\u001b[43m(\u001b[49m\u001b[38;5;124;43m\"\u001b[39;49m\u001b[38;5;124;43m윤인성\u001b[39;49m\u001b[38;5;124;43m\"\u001b[39;49m\u001b[43m,\u001b[49m\u001b[43m \u001b[49m\u001b[38;5;241;43m87\u001b[39;49m\u001b[43m,\u001b[49m\u001b[43m \u001b[49m\u001b[38;5;241;43m98\u001b[39;49m\u001b[43m,\u001b[49m\u001b[43m \u001b[49m\u001b[38;5;241;43m88\u001b[39;49m\u001b[43m,\u001b[49m\u001b[43m \u001b[49m\u001b[38;5;241;43m95\u001b[39;49m\u001b[43m)\u001b[49m\n\u001b[1;32m     14\u001b[0m \u001b[38;5;66;03m# 비교합니다\u001b[39;00m\n\u001b[1;32m     15\u001b[0m student_a \u001b[38;5;241m==\u001b[39m \u001b[38;5;241m10\u001b[39m\n",
      "\u001b[0;31mTypeError\u001b[0m: Student() takes no arguments"
     ]
    }
   ],
   "source": [
    "# isinstance() 함수를 이용한 예외 처리\n",
    "# 클래스를 선언합니다\n",
    "class Student:\n",
    "    # 생략\n",
    "    def __eq__(self, value):\n",
    "        if not isinstance(value, Student):\n",
    "            raise TypeError(\"Student 클래스의 인스턴스만 비교할 수 있습니다.\")\n",
    "        return self.get_sum() == value.get_sum()\n",
    "    # 생략\n",
    "    \n",
    "# 학생을 선언합니다\n",
    "student_a = Student(\"윤인성\", 87, 98, 88, 95)\n",
    "\n",
    "# 비교합니다\n",
    "student_a == 10"
   ]
  },
  {
   "cell_type": "code",
   "execution_count": 2,
   "id": "77508129",
   "metadata": {},
   "outputs": [
    {
     "name": "stdout",
     "output_type": "stream",
     "text": [
      "1번째 학생이 생성되었습니다\n",
      "2번째 학생이 생성되었습니다\n",
      "3번째 학생이 생성되었습니다\n",
      "4번째 학생이 생성되었습니다\n",
      "5번째 학생이 생성되었습니다\n",
      "6번째 학생이 생성되었습니다\n",
      "\n",
      "현재 생성된 총 학생 수는 6명입니다.\n"
     ]
    }
   ],
   "source": [
    "# class_var\n",
    "# 클래스를 선언합니다\n",
    "class Student:\n",
    "    count = 0\n",
    "    \n",
    "    def __init__(self, name, korean, math, english, science):\n",
    "        # 인스턴스 변수 초기화\n",
    "        self.name = name\n",
    "        self.korean = korean\n",
    "        self.math = math\n",
    "        self.english = english\n",
    "        self.science = science\n",
    "        \n",
    "        # 클래스 변수 설정\n",
    "        Student.count += 1\n",
    "        print(\"{}번째 학생이 생성되었습니다\".format(Student.count))\n",
    "        \n",
    "# 학생 리스트를 선언합니다\n",
    "students = [\n",
    "    Student(\"윤인성\", 87, 98, 88, 95), \n",
    "    Student(\"연하진\", 92, 98, 96, 98), \n",
    "    Student(\"구지연\", 76, 96, 94, 90), \n",
    "    Student(\"나선주\", 98, 92, 96, 92), \n",
    "    Student(\"윤아린\", 95, 98, 98, 98), \n",
    "    Student(\"윤명월\", 64, 88, 92, 92)\n",
    "]\n",
    "\n",
    "# 출력합니다\n",
    "print()\n",
    "print(\"현재 생성된 총 학생 수는 {}명입니다.\".format(Student.count))"
   ]
  },
  {
   "cell_type": "code",
   "execution_count": 3,
   "id": "41f9a138",
   "metadata": {},
   "outputs": [
    {
     "name": "stdout",
     "output_type": "stream",
     "text": [
      "------ 학생 목록 ------\n",
      "이름\t총점\t평균\n",
      "윤인성\t368\t92.0\n",
      "연하진\t384\t96.0\n",
      "구지연\t356\t89.0\n",
      "나선주\t378\t94.5\n",
      "윤아린\t389\t97.25\n",
      "윤명월\t336\t84.0\n",
      "김미화\t364\t91.0\n",
      "김연화\t332\t83.0\n",
      "박아현\t372\t93.0\n",
      "서준서\t247\t61.75\n",
      "------ ------ ------\n"
     ]
    }
   ],
   "source": [
    "# class_func\n",
    "# 클래스를 선언합니다\n",
    "class Student:\n",
    "    # 클래스 변수\n",
    "    count = 0\n",
    "    students = []\n",
    "    \n",
    "    # 클래스 함수\n",
    "    @classmethod\n",
    "    def print(cls): # Student 클래스에 print() 함수를 구현합니다\n",
    "        print(\"------ 학생 목록 ------\")\n",
    "        print(\"이름\\t총점\\t평균\")\n",
    "        for student in cls.students: # student.student라고 해도 상관은 없지만, 여기서는 매개변수로 받은 cls를 활용\n",
    "            print(str(student))\n",
    "        print(\"------ ------ ------\")\n",
    "        \n",
    "    # 인스턴스 함수\n",
    "    def __init__(self, name, korean, math, english, science):\n",
    "        self.name = name\n",
    "        self.korean = korean\n",
    "        self.math = math\n",
    "        self.english = english\n",
    "        self.science = science\n",
    "        Student.count += 1\n",
    "        Student.students.append(self)\n",
    "        \n",
    "    def get_sum(self):\n",
    "        return self.korean + self.math + self.english + self.science\n",
    "    \n",
    "    def get_average(self):\n",
    "        return self.get_sum() / 4\n",
    "    \n",
    "    def __str__(self):\n",
    "        return  \"{}\\t{}\\t{}\".format(self.name, self.get_sum(), self.get_average())\n",
    "    \n",
    "# 학생 리스트를 선언합니다\n",
    "Student(\"윤인성\", 87, 98, 88, 95)\n",
    "Student(\"연하진\", 92, 98, 96, 98)\n",
    "Student(\"구지연\", 76, 96, 94, 90)\n",
    "Student(\"나선주\", 98, 92, 96, 92)\n",
    "Student(\"윤아린\", 95, 98, 98, 98)\n",
    "Student(\"윤명월\", 64, 88, 92, 92)\n",
    "Student(\"김미화\", 82, 86, 98, 98)\n",
    "Student(\"김연화\", 88, 74, 78, 92)\n",
    "Student(\"박아현\", 97, 92, 88, 95)\n",
    "Student(\"서준서\", 45, 52, 72, 78)\n",
    "\n",
    "# 현재 생성된 학생을 모두 출력합니다\n",
    "Student.print()"
   ]
  },
  {
   "cell_type": "code",
   "execution_count": 6,
   "id": "af466a2d",
   "metadata": {},
   "outputs": [
    {
     "name": "stdout",
     "output_type": "stream",
     "text": [
      "A - 생성되었습니다\n",
      "A - 파괴되었습니다\n",
      "B - 생성되었습니다\n",
      "B - 파괴되었습니다\n",
      "C - 생성되었습니다\n"
     ]
    },
    {
     "data": {
      "text/plain": [
       "<__main__.Test at 0x7fbca0118460>"
      ]
     },
     "execution_count": 6,
     "metadata": {},
     "output_type": "execute_result"
    }
   ],
   "source": [
    "# garbage01\n",
    "class Test:\n",
    "    def __init__(self, name):\n",
    "        self.name = name\n",
    "        print(\"{} - 생성되었습니다\".format(self.name))\n",
    "    def __del__(self):\n",
    "        print(\"{} - 파괴되었습니다\".format(self.name))\n",
    "        \n",
    "Test(\"A\")\n",
    "Test(\"B\")\n",
    "Test(\"C\")"
   ]
  },
  {
   "cell_type": "code",
   "execution_count": 7,
   "id": "0e1fcc65",
   "metadata": {},
   "outputs": [
    {
     "name": "stdout",
     "output_type": "stream",
     "text": [
      "A - 생성되었습니다\n",
      "B - 생성되었습니다\n",
      "C - 생성되었습니다\n"
     ]
    }
   ],
   "source": [
    "# garbage02\n",
    "class Test:\n",
    "    def __init__(self, name):\n",
    "        self.name = name\n",
    "        print(\"{} - 생성되었습니다\".format(self.name))\n",
    "    def __del__(self):\n",
    "        print(\"{} - 파괴되었습니다\".format(self.name))\n",
    "        \n",
    "a = Test(\"A\")\n",
    "b = Test(\"B\")\n",
    "c = Test(\"C\")"
   ]
  },
  {
   "cell_type": "code",
   "execution_count": 9,
   "id": "eb0fe159",
   "metadata": {},
   "outputs": [
    {
     "name": "stdout",
     "output_type": "stream",
     "text": [
      "원의 둘레 :  62.83185307179586\n",
      "원의 넓이 :  314.1592653589793\n"
     ]
    }
   ],
   "source": [
    "# math_sample\n",
    "# 모듈을 가져옵니다\n",
    "import math\n",
    "\n",
    "# 클래스를 선언합니다\n",
    "class Circle:\n",
    "    def __init__(self, radius):\n",
    "        self.radius = radius\n",
    "    def get_circumference(self):\n",
    "        return 2 * math.pi * self.radius\n",
    "    def get_area(self):\n",
    "        return math.pi * (self.radius ** 2)\n",
    "    \n",
    "# 원의 둘레와 넓이를 구합니다\n",
    "circle = Circle(10)\n",
    "print(\"원의 둘레 : \", circle.get_circumference())\n",
    "print(\"원의 넓이 : \", circle.get_area())"
   ]
  },
  {
   "cell_type": "code",
   "execution_count": 11,
   "id": "9807746d",
   "metadata": {},
   "outputs": [
    {
     "ename": "TypeError",
     "evalue": "__init__() missing 1 required positional argument: 'radius'",
     "output_type": "error",
     "traceback": [
      "\u001b[0;31m---------------------------------------------------------------------------\u001b[0m",
      "\u001b[0;31mTypeError\u001b[0m                                 Traceback (most recent call last)",
      "Input \u001b[0;32mIn [11]\u001b[0m, in \u001b[0;36m<cell line: 15>\u001b[0;34m()\u001b[0m\n\u001b[1;32m     12\u001b[0m         \u001b[38;5;28;01mreturn\u001b[39;00m math\u001b[38;5;241m.\u001b[39mpi \u001b[38;5;241m*\u001b[39m (\u001b[38;5;28mself\u001b[39m\u001b[38;5;241m.\u001b[39m__radius \u001b[38;5;241m*\u001b[39m\u001b[38;5;241m*\u001b[39m \u001b[38;5;241m2\u001b[39m)\n\u001b[1;32m     14\u001b[0m \u001b[38;5;66;03m# 원의 둘레와 넓이를 구합니다\u001b[39;00m\n\u001b[0;32m---> 15\u001b[0m circle \u001b[38;5;241m=\u001b[39m \u001b[43mCircle\u001b[49m\u001b[43m(\u001b[49m\u001b[43m)\u001b[49m\n\u001b[1;32m     16\u001b[0m \u001b[38;5;28mprint\u001b[39m(\u001b[38;5;124m\"\u001b[39m\u001b[38;5;124m# 원의 둘레와 넓이를 구합니다.\u001b[39m\u001b[38;5;124m\"\u001b[39m)\n\u001b[1;32m     17\u001b[0m \u001b[38;5;28mprint\u001b[39m(\u001b[38;5;124m\"\u001b[39m\u001b[38;5;124m원의 둘레 : \u001b[39m\u001b[38;5;124m\"\u001b[39m, circle\u001b[38;5;241m.\u001b[39mget_circumference())\n",
      "\u001b[0;31mTypeError\u001b[0m: __init__() missing 1 required positional argument: 'radius'"
     ]
    }
   ],
   "source": [
    "# private_var\n",
    "# 모듈을 가져옵니다\n",
    "import math\n",
    "\n",
    "# 클래스를 선언합니다\n",
    "class Circle:\n",
    "    def __init__(self, radius):\n",
    "        self.__radius = radius # 속성을 선언할 때 __를 붙이면 외부에서 사용할 수 없는 변수가 됨\n",
    "    def get_circumference(self):\n",
    "        return 2 * math.pi * self.__radius\n",
    "    def get_area(self):\n",
    "        return math.pi * (self.__radius ** 2)\n",
    "    \n",
    "# 원의 둘레와 넓이를 구합니다\n",
    "circle = Circle()\n",
    "print(\"# 원의 둘레와 넓이를 구합니다.\")\n",
    "print(\"원의 둘레 : \", circle.get_circumference())\n",
    "print(\"원의 넓이 : \", circle.get_area())\n",
    "print()\n",
    "\n",
    "# __radius에 접근합니다\n",
    "print(\"# __radius에 접근합니다.\")\n",
    "print(circle.__radius)"
   ]
  },
  {
   "cell_type": "code",
   "execution_count": 13,
   "id": "b02d194f",
   "metadata": {},
   "outputs": [
    {
     "name": "stdout",
     "output_type": "stream",
     "text": [
      "# 원의 둘레와 넓이를 구합니다.\n",
      "원의 둘레 :  62.83185307179586\n",
      "원의 넓이 :  314.1592653589793\n",
      "\n",
      "# __에 접근합니다.\n",
      "10\n",
      "\n",
      "# 반지름을 변경하고 원의 둘레와 넓이를 구합니다.\n",
      "원의 둘레 :  12.566370614359172\n",
      "원의 넓이 :  12.566370614359172\n"
     ]
    }
   ],
   "source": [
    "# getter_setter\n",
    "# 모듈을 가져옵니다\n",
    "import math\n",
    "\n",
    "# 클래스를 선언합니다\n",
    "class Circle:\n",
    "    def __init__(self, radius):\n",
    "        self.__radius = radius\n",
    "    def get_circumference(self):\n",
    "        return 2 * math.pi * self.__radius\n",
    "    def get_area(self):\n",
    "        return math.pi * (self.__radius ** 2)\n",
    "    \n",
    "    # 게터와 세터를 선언합니다\n",
    "    def get_radius(self):\n",
    "        return self.__radius\n",
    "    def set_radius(self, value):\n",
    "        self.__radius = value\n",
    "        \n",
    "# 원의 둘레와 넓이를 구합니다\n",
    "circle = Circle(10)\n",
    "print(\"# 원의 둘레와 넓이를 구합니다.\")\n",
    "print(\"원의 둘레 : \", circle.get_circumference())\n",
    "print(\"원의 넓이 : \", circle.get_area())\n",
    "print()\n",
    "\n",
    "# 간접적으로 __radius에 접근합니다\n",
    "print(\"# __에 접근합니다.\")\n",
    "print(circle.get_radius())\n",
    "print()\n",
    "\n",
    "# 원의 둘레와 넓이를 구합니다\n",
    "circle.set_radius(2)\n",
    "print(\"# 반지름을 변경하고 원의 둘레와 넓이를 구합니다.\")\n",
    "print(\"원의 둘레 : \", circle.get_circumference())\n",
    "print(\"원의 넓이 : \", circle.get_area())"
   ]
  },
  {
   "cell_type": "code",
   "execution_count": 17,
   "id": "6f02cd8d",
   "metadata": {},
   "outputs": [
    {
     "name": "stdout",
     "output_type": "stream",
     "text": [
      "# 데코레이터를 사용한 Getter와 Setter\n",
      "원래 원의 반지름 :  10\n",
      "변경된 원의 반지름 :  10\n",
      "\n",
      "# 강제로 예외를 발생시킵니다.\n"
     ]
    },
    {
     "ename": "TypeError",
     "evalue": "길이는 양의 숫자여야 합니다.",
     "output_type": "error",
     "traceback": [
      "\u001b[0;31m---------------------------------------------------------------------------\u001b[0m",
      "\u001b[0;31mTypeError\u001b[0m                                 Traceback (most recent call last)",
      "Input \u001b[0;32mIn [17]\u001b[0m, in \u001b[0;36m<cell line: 34>\u001b[0;34m()\u001b[0m\n\u001b[1;32m     32\u001b[0m \u001b[38;5;66;03m# 강제로 예외를 발생시킵니다\u001b[39;00m\n\u001b[1;32m     33\u001b[0m \u001b[38;5;28mprint\u001b[39m(\u001b[38;5;124m\"\u001b[39m\u001b[38;5;124m# 강제로 예외를 발생시킵니다.\u001b[39m\u001b[38;5;124m\"\u001b[39m)\n\u001b[0;32m---> 34\u001b[0m circle\u001b[38;5;241m.\u001b[39mradius \u001b[38;5;241m=\u001b[39m \u001b[38;5;241m-\u001b[39m\u001b[38;5;241m10\u001b[39m\n",
      "Input \u001b[0;32mIn [17]\u001b[0m, in \u001b[0;36mCircle.radius\u001b[0;34m(self, value)\u001b[0m\n\u001b[1;32m     18\u001b[0m \u001b[38;5;129m@radius\u001b[39m\u001b[38;5;241m.\u001b[39msetter\n\u001b[1;32m     19\u001b[0m \u001b[38;5;28;01mdef\u001b[39;00m \u001b[38;5;21mradius\u001b[39m(\u001b[38;5;28mself\u001b[39m, value):\n\u001b[1;32m     20\u001b[0m     \u001b[38;5;28;01mif\u001b[39;00m value \u001b[38;5;241m<\u001b[39m\u001b[38;5;241m=\u001b[39m \u001b[38;5;241m0\u001b[39m:\n\u001b[0;32m---> 21\u001b[0m         \u001b[38;5;28;01mraise\u001b[39;00m \u001b[38;5;167;01mTypeError\u001b[39;00m(\u001b[38;5;124m\"\u001b[39m\u001b[38;5;124m길이는 양의 숫자여야 합니다.\u001b[39m\u001b[38;5;124m\"\u001b[39m)\n\u001b[1;32m     22\u001b[0m         \u001b[38;5;28mself\u001b[39m\u001b[38;5;241m.\u001b[39m__radius \u001b[38;5;241m=\u001b[39m value\n",
      "\u001b[0;31mTypeError\u001b[0m: 길이는 양의 숫자여야 합니다."
     ]
    }
   ],
   "source": [
    "# deco01\n",
    "# 모듈을 가져옵니다\n",
    "import math\n",
    "\n",
    "# 클래스를 선언합니다\n",
    "class Circle:\n",
    "    def __init__(self, radius):\n",
    "        self.__radius = radius\n",
    "    def get_circumference(self):\n",
    "        return 2 * math.pi * self.__radius\n",
    "    def get_area(self):\n",
    "        return math.pi * (self.__radius ** 2)\n",
    "    \n",
    "    # 게터와 세터를 선언합니다\n",
    "    @property\n",
    "    def radius(self):\n",
    "        return self.__radius\n",
    "    @radius.setter\n",
    "    def radius(self, value):\n",
    "        if value <= 0:\n",
    "            raise TypeError(\"길이는 양의 숫자여야 합니다.\")\n",
    "            self.__radius = value\n",
    "    \n",
    "# 원의 둘레와 넓이를 구합니다\n",
    "print(\"# 데코레이터를 사용한 Getter와 Setter\")\n",
    "circle = Circle(10)\n",
    "print(\"원래 원의 반지름 : \", circle.radius)\n",
    "circle.radius = 2\n",
    "print(\"변경된 원의 반지름 : \", circle.radius)\n",
    "print()\n",
    "\n",
    "# 강제로 예외를 발생시킵니다\n",
    "print(\"# 강제로 예외를 발생시킵니다.\")\n",
    "circle.radius = -10"
   ]
  },
  {
   "cell_type": "code",
   "execution_count": 18,
   "id": "65c47120",
   "metadata": {},
   "outputs": [
    {
     "name": "stdout",
     "output_type": "stream",
     "text": [
      "Parent 클래스의 __init()__ 메소드가 호출되었습니다.\n",
      "Child 클래스의 __init()__ 메소드가 호출되었습니다.\n",
      "Parent 클래스의 test() 메소드입니다\n",
      "테스트\n"
     ]
    }
   ],
   "source": [
    "# inherit01\n",
    "# 부모 클래스를 선언합니다\n",
    "class Parent:\n",
    "    def __init__(self):\n",
    "        self.value = \"테스트\"\n",
    "        print(\"Parent 클래스의 __init()__ 메소드가 호출되었습니다.\")\n",
    "    def test(self):\n",
    "        print(\"Parent 클래스의 test() 메소드입니다\")\n",
    "        \n",
    "# 자식 클래스를 선언합니다\n",
    "class Child(Parent):\n",
    "    def __init__(self):\n",
    "        super().__init__() # 부모의 __init__() 함수를 호출합니다\n",
    "        print(\"Child 클래스의 __init()__ 메소드가 호출되었습니다.\")\n",
    "        \n",
    "# 자식 클래스의 인스턴스를 생성하고 부모의 메소드를 호출합니다\n",
    "child = Child()\n",
    "child.test()\n",
    "print(child.value)"
   ]
  },
  {
   "cell_type": "code",
   "execution_count": 19,
   "id": "04b45511",
   "metadata": {},
   "outputs": [
    {
     "ename": "CustomException",
     "evalue": "",
     "output_type": "error",
     "traceback": [
      "\u001b[0;31m---------------------------------------------------------------------------\u001b[0m",
      "\u001b[0;31mCustomException\u001b[0m                           Traceback (most recent call last)",
      "Input \u001b[0;32mIn [19]\u001b[0m, in \u001b[0;36m<cell line: 6>\u001b[0;34m()\u001b[0m\n\u001b[1;32m      3\u001b[0m     \u001b[38;5;28;01mdef\u001b[39;00m \u001b[38;5;21m__init__\u001b[39m(\u001b[38;5;28mself\u001b[39m):\n\u001b[1;32m      4\u001b[0m         \u001b[38;5;28msuper\u001b[39m()\u001b[38;5;241m.\u001b[39m\u001b[38;5;21m__init__\u001b[39m()\n\u001b[0;32m----> 6\u001b[0m \u001b[38;5;28;01mraise\u001b[39;00m CustomException\n",
      "\u001b[0;31mCustomException\u001b[0m: "
     ]
    }
   ],
   "source": [
    "# inherit02\n",
    "class CustomException(Exception):\n",
    "    def __init__(self):\n",
    "        super().__init__()\n",
    "        \n",
    "raise CustomException"
   ]
  },
  {
   "cell_type": "code",
   "execution_count": 20,
   "id": "bb27dbbf",
   "metadata": {},
   "outputs": [
    {
     "name": "stdout",
     "output_type": "stream",
     "text": [
      "##### 내가 만든 오류가 생성되었어요! #####\n"
     ]
    },
    {
     "ename": "CustomException",
     "evalue": "오류가 발생했어요",
     "output_type": "error",
     "traceback": [
      "\u001b[0;31m---------------------------------------------------------------------------\u001b[0m",
      "\u001b[0;31mCustomException\u001b[0m                           Traceback (most recent call last)",
      "Input \u001b[0;32mIn [20]\u001b[0m, in \u001b[0;36m<cell line: 9>\u001b[0;34m()\u001b[0m\n\u001b[1;32m      6\u001b[0m     \u001b[38;5;28;01mdef\u001b[39;00m \u001b[38;5;21m__str__\u001b[39m(\u001b[38;5;28mself\u001b[39m):\n\u001b[1;32m      7\u001b[0m         \u001b[38;5;28;01mreturn\u001b[39;00m \u001b[38;5;124m\"\u001b[39m\u001b[38;5;124m오류가 발생했어요\u001b[39m\u001b[38;5;124m\"\u001b[39m\n\u001b[0;32m----> 9\u001b[0m \u001b[38;5;28;01mraise\u001b[39;00m CustomException\n",
      "\u001b[0;31mCustomException\u001b[0m: 오류가 발생했어요"
     ]
    }
   ],
   "source": [
    "# inherit03\n",
    "class CustomException(Exception):\n",
    "    def __init__(self):\n",
    "        super().__init__()\n",
    "        print(\"##### 내가 만든 오류가 생성되었어요! #####\")\n",
    "    def __str__(self):\n",
    "        return \"오류가 발생했어요\"\n",
    "    \n",
    "raise CustomException"
   ]
  },
  {
   "cell_type": "code",
   "execution_count": 21,
   "id": "63d12d6e",
   "metadata": {},
   "outputs": [
    {
     "name": "stdout",
     "output_type": "stream",
     "text": [
      "##### 오류 정보 #####\n",
      "메시지 :  딱히 이유 없음\n",
      "값 :  273\n"
     ]
    }
   ],
   "source": [
    "# inherit044\n",
    "# 사용자 정의 예외를 생성합니다\n",
    "class CustomException(Exception):\n",
    "    def __init__(self, message, value):\n",
    "        super().__init__()\n",
    "        self.message = message\n",
    "        self.value = value\n",
    "        \n",
    "    def __str__(self):\n",
    "        return self.message\n",
    "    \n",
    "    def print(self):\n",
    "        print(\"##### 오류 정보 #####\")\n",
    "        print(\"메시지 : \", self.message)\n",
    "        print(\"값 : \", self.value)\n",
    "# 예외를 발생시켜 봅니다\n",
    "try:\n",
    "    raise CustomException(\"딱히 이유 없음\", 273)\n",
    "except CustomException as e:\n",
    "    e.print()"
   ]
  }
 ],
 "metadata": {
  "kernelspec": {
   "display_name": "Python 3 (ipykernel)",
   "language": "python",
   "name": "python3"
  },
  "language_info": {
   "codemirror_mode": {
    "name": "ipython",
    "version": 3
   },
   "file_extension": ".py",
   "mimetype": "text/x-python",
   "name": "python",
   "nbconvert_exporter": "python",
   "pygments_lexer": "ipython3",
   "version": "3.9.12"
  }
 },
 "nbformat": 4,
 "nbformat_minor": 5
}
